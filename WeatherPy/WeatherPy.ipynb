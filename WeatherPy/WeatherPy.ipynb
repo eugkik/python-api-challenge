{
 "cells": [
  {
   "cell_type": "markdown",
   "id": "aeda3daa",
   "metadata": {},
   "source": [
    "# WeatherPy"
   ]
  },
  {
   "cell_type": "code",
   "execution_count": 31,
   "id": "c8a8b60d",
   "metadata": {},
   "outputs": [],
   "source": [
    "# Dependencies and Setup\n",
    "import matplotlib.pyplot as plt\n",
    "import pandas as pd\n",
    "import numpy as np\n",
    "import requests\n",
    "import time\n",
    "from scipy.stats import linregress\n",
    "\n",
    "# Import API key\n",
    "from api_keys import weather_api_key\n",
    "\n",
    "# Incorporated citipy to determine city based on latitude and longitude\n",
    "from citipy import citipy\n",
    "\n",
    "# Output File (CSV)\n",
    "output_data_file = \"../output_data/cities.csv\"\n",
    "\n",
    "# Range of latitudes and longitudes\n",
    "lat_range = (-90, 90)\n",
    "lng_range = (-180, 180)"
   ]
  },
  {
   "cell_type": "code",
   "execution_count": 78,
   "id": "73b5aaec",
   "metadata": {},
   "outputs": [
    {
     "data": {
      "text/plain": [
       "25"
      ]
     },
     "execution_count": 78,
     "metadata": {},
     "output_type": "execute_result"
    }
   ],
   "source": [
    "# List for holding lat_lngs and cities\n",
    "lat_lngs = []\n",
    "cities = []\n",
    "\n",
    "# Create a set of random lat and lng combinations\n",
    "lats = np.random.uniform(lat_range[0], lat_range[1], size=30)\n",
    "lngs = np.random.uniform(lng_range[0], lng_range[1], size=30)\n",
    "lat_lngs = zip(lats, lngs)\n",
    "\n",
    "# Identify nearest city for each lat, lng combination\n",
    "for lat_lng in lat_lngs:\n",
    "    city = citipy.nearest_city(lat_lng[0], lat_lng[1]).city_name\n",
    "    \n",
    "    # If the city is unique, then add it to a our cities list\n",
    "    if city not in cities:\n",
    "        cities.append(city)\n",
    "\n",
    "# Print the city count to confirm sufficient count\n",
    "len(cities)"
   ]
  },
  {
   "cell_type": "code",
   "execution_count": 79,
   "id": "47724ffa",
   "metadata": {},
   "outputs": [],
   "source": [
    "# Create new dataframe with cities\n",
    "weather_df = pd.DataFrame(cities, columns = ['City'])"
   ]
  },
  {
   "cell_type": "code",
   "execution_count": 71,
   "id": "7f2c6fda",
   "metadata": {},
   "outputs": [
    {
     "name": "stdout",
     "output_type": "stream",
     "text": [
      "Beginning Data Retrieval\n",
      "------------------------\n",
      "Processing Record 1 of Set 1 | tsihombe\n",
      "City not found.  Skipping...\n",
      "Processing Record 2 of Set 1 | bandarbeyla\n",
      "Processing Record 3 of Set 1 | glace bay\n",
      "Processing Record 4 of Set 1 | belushya guba\n",
      "City not found.  Skipping...\n",
      "Processing Record 5 of Set 1 | vilcun\n",
      "Processing Record 1 of Set 2 | hobart\n",
      "Processing Record 2 of Set 2 | rikitea\n",
      "Processing Record 3 of Set 2 | labuhan\n",
      "Processing Record 4 of Set 2 | marawi\n",
      "Processing Record 5 of Set 2 | vanavara\n",
      "Processing Record 1 of Set 3 | lincoln\n",
      "Processing Record 2 of Set 3 | cherskiy\n",
      "Processing Record 3 of Set 3 | staraya poltavka\n",
      "Processing Record 4 of Set 3 | khatanga\n",
      "Processing Record 5 of Set 3 | faanui\n",
      "Processing Record 1 of Set 4 | port elizabeth\n",
      "Processing Record 2 of Set 4 | creel\n",
      "Processing Record 3 of Set 4 | ushuaia\n",
      "Processing Record 4 of Set 4 | vila franca do campo\n",
      "Processing Record 5 of Set 4 | kapaa\n",
      "Processing Record 1 of Set 5 | tuktoyaktuk\n",
      "Processing Record 2 of Set 5 | sa kaeo\n",
      "Processing Record 3 of Set 5 | hilo\n",
      "Processing Record 4 of Set 5 | hugo\n",
      "Processing Record 5 of Set 5 | punta arenas\n",
      "Processing Record 1 of Set 6 | tilichiki\n",
      "Processing Record 2 of Set 6 | upernavik\n",
      "Processing Record 3 of Set 6 | coquimbo\n",
      "Processing Record 4 of Set 6 | carnarvon\n",
      "Processing Record 5 of Set 6 | coro\n",
      "------------------------\n",
      "Data Retrieval Complete\n",
      "------------------------\n"
     ]
    }
   ],
   "source": [
    "# Import google API key\n",
    "from api_keys import g_key\n",
    "\n",
    "# Set variables for weather API calls\n",
    "weather_url = \"http://api.openweathermap.org/data/2.5/weather\"\n",
    "params = {'appid':weather_api_key,\n",
    "         'units':'imperial'}\n",
    "\n",
    "#Set variables for counters. Each set to contain records 1-50.\n",
    "record = 1\n",
    "sets = 1\n",
    "\n",
    "# Print output of API calls\n",
    "print('Beginning Data Retrieval')\n",
    "print('------------------------')\n",
    "\n",
    "# Store weather data into dataframe for each city\n",
    "for index, row in weather_df.iterrows():\n",
    "    params['q'] = row['City']\n",
    "    response = requests.get(weather_url, params).json()\n",
    "       \n",
    "    try:\n",
    "        print(f\"Processing Record {record} of Set {sets} | {row['City']}\")\n",
    "        weather_df.loc[index,'Lat'] = response['coord']['lat']\n",
    "        weather_df.loc[index,'Lng'] = response['coord']['lon']\n",
    "        weather_df.loc[index,'Max Temp'] = response['main']['temp_max']\n",
    "        weather_df.loc[index,'Humidity'] = response['main']['humidity']\n",
    "        weather_df.loc[index,'Cloudiness'] = response['clouds']['all']\n",
    "        weather_df.loc[index,'Wind Speed'] = response['wind']['speed']\n",
    "        weather_df.loc[index,'Country'] = response['sys']['country']        \n",
    "        weather_df.loc[index,'Date'] = response['dt']\n",
    "    except:\n",
    "        print('City not found.  Skipping...')\n",
    "\n",
    "    if record%5 == 0:\n",
    "        sets += 1        \n",
    "        record = 0\n",
    "\n",
    "    # Increment city counter\n",
    "    record += 1\n",
    "\n",
    "print('------------------------')\n",
    "print('Data Retrieval Complete')\n",
    "print('------------------------')"
   ]
  },
  {
   "cell_type": "code",
   "execution_count": 73,
   "id": "d0694d4b",
   "metadata": {
    "scrolled": true
   },
   "outputs": [],
   "source": [
    "# Remove cities not found, reset index, and export into csv file\n",
    "weather_df.dropna(inplace=True)\n",
    "weather_df.reset_index(inplace = True, drop = True)\n",
    "weather_df.to_csv(output_data_file, index = False, header=True)"
   ]
  },
  {
   "cell_type": "markdown",
   "id": "dc61f55c",
   "metadata": {},
   "source": [
    "## Inspect the data and remove the cities where the humidity > 100%."
   ]
  },
  {
   "cell_type": "code",
   "execution_count": 74,
   "id": "88687ab1",
   "metadata": {},
   "outputs": [
    {
     "data": {
      "text/html": [
       "<div>\n",
       "<style scoped>\n",
       "    .dataframe tbody tr th:only-of-type {\n",
       "        vertical-align: middle;\n",
       "    }\n",
       "\n",
       "    .dataframe tbody tr th {\n",
       "        vertical-align: top;\n",
       "    }\n",
       "\n",
       "    .dataframe thead th {\n",
       "        text-align: right;\n",
       "    }\n",
       "</style>\n",
       "<table border=\"1\" class=\"dataframe\">\n",
       "  <thead>\n",
       "    <tr style=\"text-align: right;\">\n",
       "      <th></th>\n",
       "      <th>Lat</th>\n",
       "      <th>Lng</th>\n",
       "      <th>Max Temp</th>\n",
       "      <th>Humidity</th>\n",
       "      <th>Cloudiness</th>\n",
       "      <th>Wind Speed</th>\n",
       "      <th>Date</th>\n",
       "    </tr>\n",
       "  </thead>\n",
       "  <tbody>\n",
       "    <tr>\n",
       "      <th>count</th>\n",
       "      <td>28.000000</td>\n",
       "      <td>28.000000</td>\n",
       "      <td>28.000000</td>\n",
       "      <td>28.000000</td>\n",
       "      <td>28.000000</td>\n",
       "      <td>28.000000</td>\n",
       "      <td>2.800000e+01</td>\n",
       "    </tr>\n",
       "    <tr>\n",
       "      <th>mean</th>\n",
       "      <td>14.700425</td>\n",
       "      <td>-9.665504</td>\n",
       "      <td>65.432143</td>\n",
       "      <td>69.428571</td>\n",
       "      <td>48.857143</td>\n",
       "      <td>9.004643</td>\n",
       "      <td>1.628090e+09</td>\n",
       "    </tr>\n",
       "    <tr>\n",
       "      <th>std</th>\n",
       "      <td>41.223185</td>\n",
       "      <td>108.983755</td>\n",
       "      <td>14.371109</td>\n",
       "      <td>16.175951</td>\n",
       "      <td>37.975347</td>\n",
       "      <td>6.275235</td>\n",
       "      <td>6.186421e+01</td>\n",
       "    </tr>\n",
       "    <tr>\n",
       "      <th>min</th>\n",
       "      <td>-54.800000</td>\n",
       "      <td>-159.319000</td>\n",
       "      <td>40.030000</td>\n",
       "      <td>38.000000</td>\n",
       "      <td>0.000000</td>\n",
       "      <td>1.010000</td>\n",
       "      <td>1.628090e+09</td>\n",
       "    </tr>\n",
       "    <tr>\n",
       "      <th>25%</th>\n",
       "      <td>-23.556900</td>\n",
       "      <td>-93.911725</td>\n",
       "      <td>51.402500</td>\n",
       "      <td>60.750000</td>\n",
       "      <td>17.500000</td>\n",
       "      <td>5.295000</td>\n",
       "      <td>1.628090e+09</td>\n",
       "    </tr>\n",
       "    <tr>\n",
       "      <th>50%</th>\n",
       "      <td>16.739850</td>\n",
       "      <td>-58.055950</td>\n",
       "      <td>69.370000</td>\n",
       "      <td>69.000000</td>\n",
       "      <td>40.000000</td>\n",
       "      <td>7.260000</td>\n",
       "      <td>1.628090e+09</td>\n",
       "    </tr>\n",
       "    <tr>\n",
       "      <th>75%</th>\n",
       "      <td>47.266975</td>\n",
       "      <td>102.374975</td>\n",
       "      <td>78.292500</td>\n",
       "      <td>80.000000</td>\n",
       "      <td>90.250000</td>\n",
       "      <td>11.790000</td>\n",
       "      <td>1.628090e+09</td>\n",
       "    </tr>\n",
       "    <tr>\n",
       "      <th>max</th>\n",
       "      <td>72.786800</td>\n",
       "      <td>166.100000</td>\n",
       "      <td>88.750000</td>\n",
       "      <td>94.000000</td>\n",
       "      <td>100.000000</td>\n",
       "      <td>31.290000</td>\n",
       "      <td>1.628090e+09</td>\n",
       "    </tr>\n",
       "  </tbody>\n",
       "</table>\n",
       "</div>"
      ],
      "text/plain": [
       "             Lat         Lng   Max Temp   Humidity  Cloudiness  Wind Speed  \\\n",
       "count  28.000000   28.000000  28.000000  28.000000   28.000000   28.000000   \n",
       "mean   14.700425   -9.665504  65.432143  69.428571   48.857143    9.004643   \n",
       "std    41.223185  108.983755  14.371109  16.175951   37.975347    6.275235   \n",
       "min   -54.800000 -159.319000  40.030000  38.000000    0.000000    1.010000   \n",
       "25%   -23.556900  -93.911725  51.402500  60.750000   17.500000    5.295000   \n",
       "50%    16.739850  -58.055950  69.370000  69.000000   40.000000    7.260000   \n",
       "75%    47.266975  102.374975  78.292500  80.000000   90.250000   11.790000   \n",
       "max    72.786800  166.100000  88.750000  94.000000  100.000000   31.290000   \n",
       "\n",
       "               Date  \n",
       "count  2.800000e+01  \n",
       "mean   1.628090e+09  \n",
       "std    6.186421e+01  \n",
       "min    1.628090e+09  \n",
       "25%    1.628090e+09  \n",
       "50%    1.628090e+09  \n",
       "75%    1.628090e+09  \n",
       "max    1.628090e+09  "
      ]
     },
     "execution_count": 74,
     "metadata": {},
     "output_type": "execute_result"
    }
   ],
   "source": [
    "weather_df.describe()"
   ]
  },
  {
   "cell_type": "markdown",
   "id": "82f531ee",
   "metadata": {},
   "source": [
    "## Latitude vs. Temperature Plot"
   ]
  },
  {
   "cell_type": "code",
   "execution_count": null,
   "id": "943c4854",
   "metadata": {},
   "outputs": [],
   "source": [
    "clean_city_data = weather_df\n",
    "latitude = clean_city_data['Lat']"
   ]
  },
  {
   "cell_type": "code",
   "execution_count": null,
   "id": "98eba09d",
   "metadata": {},
   "outputs": [],
   "source": [
    "# Plot latitude vs temp\n",
    "temp = clean_city_data['Max Temp']\n",
    "plt.scatter(latitude,temp)\n",
    "plt.xlabel('Latitude')\n",
    "plt.ylabel('Max Temperature (F)')\n",
    "plt.title('City Latitude vs. Max Temperature (8/1/2021)')\n",
    "plt.grid()\n",
    "plt.show()"
   ]
  },
  {
   "cell_type": "markdown",
   "id": "4abc183f",
   "metadata": {},
   "source": [
    "## Latitude vs. Humidity Plot"
   ]
  },
  {
   "cell_type": "code",
   "execution_count": null,
   "id": "38cbd2e1",
   "metadata": {},
   "outputs": [],
   "source": [
    "# Plot latitude vs. humidity\n",
    "humidity = clean_city_data['Humidity']\n",
    "plt.scatter(latitude,humidity)\n",
    "plt.xlabel('Latitude')\n",
    "plt.ylabel('Humidity (%)')\n",
    "plt.title('City Latitude vs. Humidity (8/1/2021)')\n",
    "plt.grid()\n",
    "plt.show()"
   ]
  },
  {
   "cell_type": "markdown",
   "id": "77f73caf",
   "metadata": {},
   "source": [
    "## Latitude vs. Cloudiness Plot"
   ]
  },
  {
   "cell_type": "code",
   "execution_count": null,
   "id": "2c7c8d3b",
   "metadata": {},
   "outputs": [],
   "source": [
    "# Plot latitude vs cloudiness\n",
    "cloudiness = clean_city_data['Cloudiness']\n",
    "plt.scatter(latitude,cloudiness)\n",
    "plt.xlabel('Latitude')\n",
    "plt.ylabel('Cloudiness (%)')\n",
    "plt.title('City Latitude vs. Cloudiness (8/1/2021)')\n",
    "plt.grid()\n",
    "plt.show()"
   ]
  },
  {
   "cell_type": "markdown",
   "id": "8222fda1",
   "metadata": {},
   "source": [
    "## Latitude vs. Wind Speed Plot"
   ]
  },
  {
   "cell_type": "code",
   "execution_count": null,
   "id": "aee5eacf",
   "metadata": {},
   "outputs": [],
   "source": [
    "# Plot latitude vs wind speed\n",
    "wind_speed = clean_city_data['Wind Speed']\n",
    "plt.scatter(latitude,wind_speed)\n",
    "plt.xlabel('Latitude')\n",
    "plt.ylabel('Wind Speed (mph)')\n",
    "plt.title('City Latitude vs. Wind Speed (8/1/2021)')\n",
    "plt.grid()\n",
    "plt.show()"
   ]
  },
  {
   "cell_type": "markdown",
   "id": "6a949884",
   "metadata": {},
   "source": [
    "## Linear Regression"
   ]
  },
  {
   "cell_type": "code",
   "execution_count": null,
   "id": "97fd2555",
   "metadata": {},
   "outputs": [],
   "source": [
    "# Separate dataframe by Lat\n",
    "northern_data = clean_city_data.loc[clean_city_data['Lat']>=0]\n",
    "southern_data = clean_city_data.loc[clean_city_data['Lat']<0]"
   ]
  },
  {
   "cell_type": "code",
   "execution_count": null,
   "id": "68900851",
   "metadata": {},
   "outputs": [],
   "source": [
    "# Set variables for northern and southern latitudes\n",
    "northern_latitude = northern_data['Lat']\n",
    "southern_latitude = southern_data['Lat']"
   ]
  },
  {
   "cell_type": "markdown",
   "id": "8d8a5966",
   "metadata": {},
   "source": [
    "####  Northern Hemisphere - Max Temp vs. Latitude Linear Regression"
   ]
  },
  {
   "cell_type": "code",
   "execution_count": null,
   "id": "203032ff",
   "metadata": {},
   "outputs": [],
   "source": [
    "# Find max temp for northern latitudes\n",
    "n_temp = northern_data['Max Temp']\n",
    "\n",
    "# Plot scatter plot with linear regression line\n",
    "plt.scatter(northern_latitude,n_temp)\n",
    "plt.xlabel('Latitude')\n",
    "plt.ylabel('Max Temp')\n",
    "slope, int, rvalue = linregress(northern_latitude,n_temp)[0:3]\n",
    "line = slope * northern_latitude + int\n",
    "plt.plot(northern_latitude,line)\n",
    "\n",
    "# Print R value\n",
    "print(f'The r-value is: {rvalue}')\n",
    "\n",
    "# Add text\n",
    "line_eq = f'y = {round(slope,2)}x + {round(int,2)}'\n",
    "plt.annotate(line_eq,(15,55),fontsize=15,color=\"red\")\n",
    "plt.show()"
   ]
  },
  {
   "cell_type": "markdown",
   "id": "b76afe47",
   "metadata": {},
   "source": [
    "####  Southern Hemisphere - Max Temp vs. Latitude Linear Regression"
   ]
  },
  {
   "cell_type": "code",
   "execution_count": null,
   "id": "7fe1f3cb",
   "metadata": {},
   "outputs": [],
   "source": [
    "# Find max temp for southern latitudes\n",
    "s_temp = southern_data['Max Temp']\n",
    "\n",
    "# Plot scatter plot with linear regression line\n",
    "plt.scatter(southern_latitude,s_temp)\n",
    "plt.xlabel('Latitude')\n",
    "plt.ylabel('Max Temp')\n",
    "slope, int, rvalue = linregress(southern_latitude,s_temp)[0:3]\n",
    "line = slope * southern_latitude + int\n",
    "plt.plot(southern_latitude,line,\"--\")\n",
    "\n",
    "# Print R value\n",
    "print(f'The r-value is: {rvalue}')\n",
    "\n",
    "# Add text\n",
    "line_eq = f'y = {round(slope,2)}x + {round(int,2)}'\n",
    "plt.annotate(line_eq,(-54,67),fontsize=15,color=\"red\")\n",
    "plt.show()"
   ]
  },
  {
   "cell_type": "markdown",
   "id": "51688428",
   "metadata": {},
   "source": [
    "####  Northern Hemisphere - Humidity (%) vs. Latitude Linear Regression"
   ]
  },
  {
   "cell_type": "code",
   "execution_count": null,
   "id": "4782f948",
   "metadata": {},
   "outputs": [],
   "source": [
    "# Find humidity for northern latitudes\n",
    "n_humidity = northern_data['Humidity']\n",
    "\n",
    "# Plot scatter plot with linear regression line\n",
    "plt.scatter(northern_latitude,n_humidity)\n",
    "plt.xlabel('Latitude')\n",
    "plt.ylabel('Humidity')\n",
    "slope, int, rvalue = linregress(northern_latitude,n_humidity)[0:3]\n",
    "line = slope * northern_latitude + int\n",
    "plt.plot(northern_latitude,line)\n",
    "\n",
    "# Print R value\n",
    "print(f'The r-value is: {rvalue}')\n",
    "\n",
    "# Add text\n",
    "line_eq = f'y = {round(slope,2)}x + {round(int,2)}'\n",
    "plt.annotate(line_eq,(15,25),fontsize=15,color=\"red\")\n",
    "plt.show()"
   ]
  },
  {
   "cell_type": "markdown",
   "id": "4d4192bd",
   "metadata": {},
   "source": [
    "####  Southern Hemisphere - Humidity (%) vs. Latitude Linear Regression"
   ]
  },
  {
   "cell_type": "code",
   "execution_count": null,
   "id": "c0f2efbc",
   "metadata": {},
   "outputs": [],
   "source": [
    "# Find humidity for southern latitudes\n",
    "s_humidity = southern_data['Humidity']\n",
    "\n",
    "# Plot scatter plot with linear regression line\n",
    "plt.scatter(southern_latitude,s_humidity)\n",
    "plt.xlabel('Latitude')\n",
    "plt.ylabel('Humidity')\n",
    "slope, int, rvalue = linregress(southern_latitude,s_humidity)[0:3]\n",
    "line = slope * southern_latitude + int\n",
    "plt.plot(southern_latitude,line,\"--\")\n",
    "\n",
    "# Print R value\n",
    "print(f'The r-value is: {rvalue}')\n",
    "\n",
    "# Add text\n",
    "line_eq = f'y = {round(slope,2)}x + {round(int,2)}'\n",
    "plt.annotate(line_eq,(-54,67),fontsize=15,color=\"red\")\n",
    "plt.show()"
   ]
  },
  {
   "cell_type": "markdown",
   "id": "e37120ff",
   "metadata": {},
   "source": [
    "####  Northern Hemisphere - Cloudiness (%) vs. Latitude Linear Regression"
   ]
  },
  {
   "cell_type": "code",
   "execution_count": null,
   "id": "2840fe88",
   "metadata": {},
   "outputs": [],
   "source": [
    "# Find cloudiness for northern latitudes\n",
    "n_cloudiness = northern_data['Cloudiness']\n",
    "\n",
    "# Plot scatter plot with linear regression line\n",
    "plt.scatter(northern_latitude,n_cloudiness)\n",
    "plt.xlabel('Latitude')\n",
    "plt.ylabel('Cloudiness')\n",
    "slope, int, rvalue = linregress(northern_latitude,n_cloudiness)[0:3]\n",
    "line = slope * northern_latitude + int\n",
    "plt.plot(northern_latitude,line)\n",
    "\n",
    "# Print R value\n",
    "print(f'The r-value is: {rvalue}')\n",
    "\n",
    "# Add text\n",
    "line_eq = f'y = {round(slope,2)}x + {round(int,2)}'\n",
    "plt.annotate(line_eq,(10,10),fontsize=15,color=\"red\")\n",
    "plt.show()"
   ]
  },
  {
   "cell_type": "markdown",
   "id": "a9b77bee",
   "metadata": {},
   "source": [
    "####  Southern Hemisphere - Cloudiness (%) vs. Latitude Linear Regression"
   ]
  },
  {
   "cell_type": "code",
   "execution_count": null,
   "id": "678cefc7",
   "metadata": {},
   "outputs": [],
   "source": [
    "# Find cloudiness for southern latitudes\n",
    "s_cloudiness = southern_data['Cloudiness']\n",
    "\n",
    "# Plot scatter plot with linear regression line\n",
    "plt.scatter(southern_latitude,s_cloudiness)\n",
    "plt.xlabel('Latitude')\n",
    "plt.ylabel('Cloudiness')\n",
    "slope, int, rvalue = linregress(southern_latitude,s_cloudiness)[0:3]\n",
    "line = slope * southern_latitude + int\n",
    "plt.plot(southern_latitude,line,\"--\")\n",
    "\n",
    "# Print R value\n",
    "print(f'The r-value is: {rvalue}')\n",
    "\n",
    "# Add text\n",
    "line_eq = f'y = {round(slope,2)}x + {round(int,2)}'\n",
    "plt.annotate(line_eq,(-54,90),fontsize=15,color=\"red\")\n",
    "plt.show()"
   ]
  },
  {
   "cell_type": "markdown",
   "id": "1e7e20e6",
   "metadata": {},
   "source": [
    "####  Northern Hemisphere - Wind Speed (mph) vs. Latitude Linear Regression"
   ]
  },
  {
   "cell_type": "code",
   "execution_count": null,
   "id": "2c86b7c2",
   "metadata": {},
   "outputs": [],
   "source": [
    "# Find wind speed for northern latitudes\n",
    "n_wind = northern_data['Wind Speed']\n",
    "\n",
    "# Plot scatter plot with linear regression line\n",
    "plt.scatter(northern_latitude,n_wind)\n",
    "plt.xlabel('Latitude')\n",
    "plt.ylabel('Wind Speed')\n",
    "slope, int, rvalue = linregress(northern_latitude,n_wind)[0:3]\n",
    "line = slope * northern_latitude + int\n",
    "plt.plot(northern_latitude,line)\n",
    "\n",
    "# Print R value\n",
    "print(f'The r-value is: {rvalue}')\n",
    "\n",
    "# Add text\n",
    "line_eq = f'y = {round(slope,2)}x + {round(int,2)}'\n",
    "plt.annotate(line_eq,(10,16),fontsize=15,color=\"red\")\n",
    "plt.show()"
   ]
  },
  {
   "cell_type": "markdown",
   "id": "c779a9b9",
   "metadata": {},
   "source": [
    "####  Southern Hemisphere - Wind Speed (mph) vs. Latitude Linear Regression"
   ]
  },
  {
   "cell_type": "code",
   "execution_count": null,
   "id": "ebc7f41c",
   "metadata": {},
   "outputs": [],
   "source": [
    "# Find wind speed for southern latitudes\n",
    "s_wind = southern_data['Wind Speed']\n",
    "\n",
    "# Plot scatter plot with linear regression line\n",
    "plt.scatter(southern_latitude,s_wind)\n",
    "plt.xlabel('Latitude')\n",
    "plt.ylabel('Wind Speed')\n",
    "slope, int, rvalue = linregress(southern_latitude,s_wind)[0:3]\n",
    "line = slope * southern_latitude + int\n",
    "plt.plot(southern_latitude,line,\"--\")\n",
    "\n",
    "# Print R value\n",
    "print(f'The r-value is: {rvalue}')\n",
    "\n",
    "# Add text\n",
    "line_eq = f'y = {round(slope,2)}x + {round(int,2)}'\n",
    "plt.annotate(line_eq,(-55,20),fontsize=15,color=\"red\")\n",
    "plt.show()"
   ]
  },
  {
   "cell_type": "code",
   "execution_count": null,
   "id": "75c7f19f",
   "metadata": {},
   "outputs": [],
   "source": []
  }
 ],
 "metadata": {
  "kernelspec": {
   "display_name": "Python 3",
   "language": "python",
   "name": "python3"
  },
  "language_info": {
   "codemirror_mode": {
    "name": "ipython",
    "version": 3
   },
   "file_extension": ".py",
   "mimetype": "text/x-python",
   "name": "python",
   "nbconvert_exporter": "python",
   "pygments_lexer": "ipython3",
   "version": "3.8.8"
  }
 },
 "nbformat": 4,
 "nbformat_minor": 5
}
