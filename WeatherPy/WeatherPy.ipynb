{
 "cells": [
  {
   "cell_type": "markdown",
   "id": "aeda3daa",
   "metadata": {},
   "source": [
    "# WeatherPy"
   ]
  },
  {
   "cell_type": "code",
   "execution_count": 1,
   "id": "c8a8b60d",
   "metadata": {},
   "outputs": [],
   "source": [
    "# Dependencies and Setup\n",
    "import matplotlib.pyplot as plt\n",
    "import pandas as pd\n",
    "import numpy as np\n",
    "import requests\n",
    "import time\n",
    "from scipy.stats import linregress\n",
    "\n",
    "# Import API key\n",
    "from api_keys import weather_api_key\n",
    "\n",
    "# Incorporated citipy to determine city based on latitude and longitude\n",
    "from citipy import citipy\n",
    "\n",
    "# Output File (CSV)\n",
    "output_data_file = \"../output_data/cities.csv\"\n",
    "\n",
    "# Range of latitudes and longitudes\n",
    "lat_range = (-90, 90)\n",
    "lng_range = (-180, 180)"
   ]
  },
  {
   "cell_type": "code",
   "execution_count": 2,
   "id": "73b5aaec",
   "metadata": {},
   "outputs": [
    {
     "data": {
      "text/plain": [
       "601"
      ]
     },
     "execution_count": 2,
     "metadata": {},
     "output_type": "execute_result"
    }
   ],
   "source": [
    "# List for holding lat_lngs and cities\n",
    "lat_lngs = []\n",
    "cities = []\n",
    "\n",
    "# Create a set of random lat and lng combinations\n",
    "lats = np.random.uniform(lat_range[0], lat_range[1], size=1500)\n",
    "lngs = np.random.uniform(lng_range[0], lng_range[1], size=1500)\n",
    "lat_lngs = zip(lats, lngs)\n",
    "\n",
    "# Identify nearest city for each lat, lng combination\n",
    "for lat_lng in lat_lngs:\n",
    "    city = citipy.nearest_city(lat_lng[0], lat_lng[1]).city_name\n",
    "    \n",
    "    # If the city is unique, then add it to a our cities list\n",
    "    if city not in cities:\n",
    "        cities.append(city)\n",
    "\n",
    "# Print the city count to confirm sufficient count\n",
    "len(cities)"
   ]
  },
  {
   "cell_type": "code",
   "execution_count": 3,
   "id": "47724ffa",
   "metadata": {},
   "outputs": [],
   "source": [
    "# Create new dataframe with cities\n",
    "weather_df = pd.DataFrame(cities, columns = ['City'])"
   ]
  },
  {
   "cell_type": "code",
   "execution_count": 5,
   "id": "4bc805e6",
   "metadata": {},
   "outputs": [
    {
     "name": "stdout",
     "output_type": "stream",
     "text": [
      "Beginning Data Retrieval\n",
      "------------------------\n",
      "Processing Record 1 of Set 1 | kralendijk\n",
      "Processing Record 2 of Set 1 | barrow\n",
      "Processing Record 3 of Set 1 | ushuaia\n",
      "Processing Record 4 of Set 1 | kodiak\n",
      "Processing Record 5 of Set 1 | flinders\n",
      "Processing Record 6 of Set 1 | san cristobal\n",
      "Processing Record 7 of Set 1 | provideniya\n",
      "Processing Record 8 of Set 1 | bonavista\n",
      "Processing Record 9 of Set 1 | katsuura\n",
      "Processing Record 10 of Set 1 | rikitea\n",
      "Processing Record 11 of Set 1 | georgetown\n",
      "Processing Record 12 of Set 1 | cherskiy\n",
      "Processing Record 13 of Set 1 | bulgan\n",
      "Processing Record 14 of Set 1 | hermanus\n",
      "Processing Record 15 of Set 1 | amderma\n",
      "City not found.  Skipping...\n",
      "Processing Record 16 of Set 1 | boda\n",
      "Processing Record 17 of Set 1 | upernavik\n",
      "Processing Record 18 of Set 1 | belaya gora\n",
      "Processing Record 19 of Set 1 | airai\n",
      "Processing Record 20 of Set 1 | akdepe\n",
      "Processing Record 21 of Set 1 | saint-francois\n",
      "Processing Record 22 of Set 1 | yeppoon\n",
      "Processing Record 23 of Set 1 | sioux lookout\n",
      "Processing Record 24 of Set 1 | bredasdorp\n",
      "Processing Record 25 of Set 1 | albany\n",
      "Processing Record 26 of Set 1 | ojinaga\n",
      "Processing Record 27 of Set 1 | khonuu\n",
      "City not found.  Skipping...\n",
      "Processing Record 28 of Set 1 | taywarah\n",
      "Processing Record 29 of Set 1 | marcona\n",
      "City not found.  Skipping...\n",
      "Processing Record 30 of Set 1 | sao paulo de olivenca\n",
      "Processing Record 31 of Set 1 | bengkulu\n",
      "Processing Record 32 of Set 1 | bur gabo\n",
      "City not found.  Skipping...\n",
      "Processing Record 33 of Set 1 | castro\n",
      "Processing Record 34 of Set 1 | port elizabeth\n",
      "Processing Record 35 of Set 1 | port alfred\n",
      "Processing Record 36 of Set 1 | muros\n",
      "Processing Record 37 of Set 1 | sao filipe\n",
      "Processing Record 38 of Set 1 | busselton\n",
      "Processing Record 39 of Set 1 | umm lajj\n",
      "Processing Record 40 of Set 1 | komsomolskiy\n",
      "Processing Record 41 of Set 1 | yellowknife\n",
      "Processing Record 42 of Set 1 | naron\n",
      "Processing Record 43 of Set 1 | caluquembe\n",
      "Processing Record 44 of Set 1 | leningradskiy\n",
      "Processing Record 45 of Set 1 | arraial do cabo\n",
      "Processing Record 46 of Set 1 | vaini\n",
      "Processing Record 47 of Set 1 | lompoc\n",
      "Processing Record 48 of Set 1 | ahipara\n",
      "Processing Record 49 of Set 1 | hobart\n",
      "Processing Record 50 of Set 1 | kruisfontein\n",
      "Processing Record 1 of Set 2 | ilulissat\n",
      "Processing Record 2 of Set 2 | bethel\n",
      "Processing Record 3 of Set 2 | mogadishu\n",
      "Processing Record 4 of Set 2 | dikson\n",
      "Processing Record 5 of Set 2 | tabo-o\n",
      "City not found.  Skipping...\n",
      "Processing Record 6 of Set 2 | samarai\n",
      "Processing Record 7 of Set 2 | puerto ayora\n",
      "Processing Record 8 of Set 2 | new norfolk\n",
      "Processing Record 9 of Set 2 | cobija\n",
      "Processing Record 10 of Set 2 | victoria\n",
      "Processing Record 11 of Set 2 | tumannyy\n",
      "City not found.  Skipping...\n",
      "Processing Record 12 of Set 2 | belushya guba\n",
      "City not found.  Skipping...\n",
      "Processing Record 13 of Set 2 | manga\n",
      "Processing Record 14 of Set 2 | tasiilaq\n",
      "Processing Record 15 of Set 2 | norman wells\n",
      "Processing Record 16 of Set 2 | mys shmidta\n",
      "City not found.  Skipping...\n",
      "Processing Record 17 of Set 2 | ravar\n",
      "Processing Record 18 of Set 2 | petropavlovsk-kamchatskiy\n",
      "Processing Record 19 of Set 2 | elliot lake\n",
      "Processing Record 20 of Set 2 | guarapari\n",
      "Processing Record 21 of Set 2 | punta arenas\n",
      "Processing Record 22 of Set 2 | jamestown\n",
      "Processing Record 23 of Set 2 | khatanga\n",
      "Processing Record 24 of Set 2 | taolanaro\n",
      "City not found.  Skipping...\n",
      "Processing Record 25 of Set 2 | seymchan\n",
      "Processing Record 26 of Set 2 | huarmey\n",
      "Processing Record 27 of Set 2 | ponta do sol\n",
      "Processing Record 28 of Set 2 | saint anthony\n",
      "Processing Record 29 of Set 2 | atuona\n",
      "Processing Record 30 of Set 2 | lorengau\n",
      "Processing Record 31 of Set 2 | muscat\n",
      "Processing Record 32 of Set 2 | mataura\n",
      "Processing Record 33 of Set 2 | east london\n",
      "Processing Record 34 of Set 2 | miri\n",
      "Processing Record 35 of Set 2 | oranjemund\n",
      "Processing Record 36 of Set 2 | santa rosa\n",
      "Processing Record 37 of Set 2 | bluff\n",
      "Processing Record 38 of Set 2 | la cruz\n",
      "Processing Record 39 of Set 2 | hasaki\n",
      "Processing Record 40 of Set 2 | arman\n",
      "Processing Record 41 of Set 2 | hithadhoo\n",
      "Processing Record 42 of Set 2 | lebu\n",
      "Processing Record 43 of Set 2 | nagato\n",
      "Processing Record 44 of Set 2 | chicama\n",
      "Processing Record 45 of Set 2 | kisangani\n",
      "Processing Record 46 of Set 2 | kapaa\n",
      "Processing Record 47 of Set 2 | bitlis\n",
      "Processing Record 48 of Set 2 | byron bay\n",
      "Processing Record 49 of Set 2 | lakselv\n",
      "Processing Record 50 of Set 2 | ninghai\n",
      "Processing Record 1 of Set 3 | masterton\n",
      "Processing Record 2 of Set 3 | ribeira grande\n",
      "Processing Record 3 of Set 3 | merauke\n",
      "Processing Record 4 of Set 3 | lavrentiya\n",
      "Processing Record 5 of Set 3 | illoqqortoormiut\n",
      "City not found.  Skipping...\n",
      "Processing Record 6 of Set 3 | malanje\n",
      "Processing Record 7 of Set 3 | plerin\n",
      "Processing Record 8 of Set 3 | qaanaaq\n",
      "Processing Record 9 of Set 3 | montego bay\n",
      "Processing Record 10 of Set 3 | avarua\n",
      "Processing Record 11 of Set 3 | sur\n",
      "Processing Record 12 of Set 3 | souillac\n",
      "Processing Record 13 of Set 3 | naryan-mar\n",
      "Processing Record 14 of Set 3 | faanui\n",
      "Processing Record 15 of Set 3 | husavik\n",
      "Processing Record 16 of Set 3 | pisco\n",
      "Processing Record 17 of Set 3 | ketchikan\n",
      "Processing Record 18 of Set 3 | sentyabrskiy\n",
      "City not found.  Skipping...\n",
      "Processing Record 19 of Set 3 | aklavik\n",
      "Processing Record 20 of Set 3 | hilo\n",
      "Processing Record 21 of Set 3 | bathsheba\n",
      "Processing Record 22 of Set 3 | rivadavia\n",
      "Processing Record 23 of Set 3 | mahebourg\n",
      "Processing Record 24 of Set 3 | tapaua\n",
      "City not found.  Skipping...\n",
      "Processing Record 25 of Set 3 | amparafaravola\n",
      "Processing Record 26 of Set 3 | shitanjing\n",
      "Processing Record 27 of Set 3 | marawi\n",
      "Processing Record 28 of Set 3 | nikolskoye\n",
      "Processing Record 29 of Set 3 | zhigansk\n",
      "Processing Record 30 of Set 3 | mahadday weyne\n",
      "City not found.  Skipping...\n",
      "Processing Record 31 of Set 3 | quatre cocos\n",
      "Processing Record 32 of Set 3 | cape town\n",
      "Processing Record 33 of Set 3 | hovd\n",
      "Processing Record 34 of Set 3 | haines junction\n",
      "Processing Record 35 of Set 3 | chokurdakh\n",
      "Processing Record 36 of Set 3 | san patricio\n",
      "Processing Record 37 of Set 3 | camasca\n",
      "Processing Record 38 of Set 3 | ugoofaaru\n",
      "Processing Record 39 of Set 3 | cayenne\n",
      "Processing Record 40 of Set 3 | vila velha\n",
      "Processing Record 41 of Set 3 | kajaani\n",
      "Processing Record 42 of Set 3 | ormara\n",
      "Processing Record 43 of Set 3 | bolsheustikinskoye\n",
      "City not found.  Skipping...\n",
      "Processing Record 44 of Set 3 | saldanha\n",
      "Processing Record 45 of Set 3 | luderitz\n",
      "Processing Record 46 of Set 3 | grindavik\n",
      "Processing Record 47 of Set 3 | yamada\n",
      "Processing Record 48 of Set 3 | koslan\n",
      "Processing Record 49 of Set 3 | barentsburg\n",
      "City not found.  Skipping...\n",
      "Processing Record 50 of Set 3 | ibotirama\n",
      "Processing Record 1 of Set 4 | hadishahr\n",
      "Processing Record 2 of Set 4 | tall kayf\n",
      "Processing Record 3 of Set 4 | talnakh\n",
      "Processing Record 4 of Set 4 | anori\n",
      "Processing Record 5 of Set 4 | vestmanna\n",
      "Processing Record 6 of Set 4 | lowestoft\n",
      "Processing Record 7 of Set 4 | sibenik\n",
      "Processing Record 8 of Set 4 | thompson\n",
      "Processing Record 9 of Set 4 | les cayes\n",
      "Processing Record 10 of Set 4 | canon city\n",
      "Processing Record 11 of Set 4 | burkhala\n",
      "City not found.  Skipping...\n",
      "Processing Record 12 of Set 4 | carnarvon\n",
      "Processing Record 13 of Set 4 | zwedru\n",
      "Processing Record 14 of Set 4 | gaya\n",
      "Processing Record 15 of Set 4 | cabo san lucas\n",
      "Processing Record 16 of Set 4 | bilibino\n",
      "Processing Record 17 of Set 4 | saint-philippe\n",
      "Processing Record 18 of Set 4 | nome\n",
      "Processing Record 19 of Set 4 | manzil tamim\n",
      "City not found.  Skipping...\n",
      "Processing Record 20 of Set 4 | port lincoln\n",
      "Processing Record 21 of Set 4 | tuatapere\n",
      "Processing Record 22 of Set 4 | coquimbo\n",
      "Processing Record 23 of Set 4 | alta floresta\n",
      "Processing Record 24 of Set 4 | xichang\n",
      "Processing Record 25 of Set 4 | pangnirtung\n",
      "Processing Record 26 of Set 4 | vestmannaeyjar\n",
      "Processing Record 27 of Set 4 | guerrero negro\n",
      "Processing Record 28 of Set 4 | southbridge\n",
      "Processing Record 29 of Set 4 | potosi\n",
      "Processing Record 30 of Set 4 | pevek\n",
      "Processing Record 31 of Set 4 | butaritari\n",
      "Processing Record 32 of Set 4 | tsihombe\n",
      "City not found.  Skipping...\n",
      "Processing Record 33 of Set 4 | constitucion\n",
      "Processing Record 34 of Set 4 | tubruq\n",
      "City not found.  Skipping...\n"
     ]
    },
    {
     "name": "stdout",
     "output_type": "stream",
     "text": [
      "Processing Record 35 of Set 4 | maymyo\n",
      "Processing Record 36 of Set 4 | praya\n",
      "Processing Record 37 of Set 4 | nianzishan\n",
      "Processing Record 38 of Set 4 | eufaula\n",
      "Processing Record 39 of Set 4 | chernyshevskiy\n",
      "Processing Record 40 of Set 4 | sines\n",
      "Processing Record 41 of Set 4 | altay\n",
      "Processing Record 42 of Set 4 | longyearbyen\n",
      "Processing Record 43 of Set 4 | jomalig\n",
      "City not found.  Skipping...\n",
      "Processing Record 44 of Set 4 | saskylakh\n",
      "Processing Record 45 of Set 4 | davila\n",
      "Processing Record 46 of Set 4 | nha trang\n",
      "Processing Record 47 of Set 4 | labuhan\n",
      "Processing Record 48 of Set 4 | griffith\n",
      "Processing Record 49 of Set 4 | yangjiang\n",
      "Processing Record 50 of Set 4 | mariental\n",
      "Processing Record 1 of Set 5 | ust-ishim\n",
      "Processing Record 2 of Set 5 | roald\n",
      "Processing Record 3 of Set 5 | puerto princesa\n",
      "Processing Record 4 of Set 5 | palabuhanratu\n",
      "City not found.  Skipping...\n",
      "Processing Record 5 of Set 5 | sambava\n",
      "Processing Record 6 of Set 5 | gaoual\n",
      "Processing Record 7 of Set 5 | chenghai\n",
      "Processing Record 8 of Set 5 | narsaq\n",
      "Processing Record 9 of Set 5 | samthar\n",
      "Processing Record 10 of Set 5 | wanaka\n",
      "Processing Record 11 of Set 5 | havoysund\n",
      "Processing Record 12 of Set 5 | severomorsk\n",
      "Processing Record 13 of Set 5 | stettler\n",
      "Processing Record 14 of Set 5 | kirov\n",
      "Processing Record 15 of Set 5 | craig\n",
      "Processing Record 16 of Set 5 | mandalgovi\n",
      "Processing Record 17 of Set 5 | plettenberg bay\n",
      "Processing Record 18 of Set 5 | shakawe\n",
      "Processing Record 19 of Set 5 | solnechnyy\n",
      "Processing Record 20 of Set 5 | ngukurr\n",
      "City not found.  Skipping...\n",
      "Processing Record 21 of Set 5 | banamba\n",
      "Processing Record 22 of Set 5 | masvingo\n",
      "Processing Record 23 of Set 5 | bolanos de calatrava\n",
      "Processing Record 24 of Set 5 | batagay-alyta\n",
      "Processing Record 25 of Set 5 | esperance\n",
      "Processing Record 26 of Set 5 | harper\n",
      "Processing Record 27 of Set 5 | kavieng\n",
      "Processing Record 28 of Set 5 | tuktoyaktuk\n",
      "Processing Record 29 of Set 5 | changji\n",
      "Processing Record 30 of Set 5 | deputatskiy\n",
      "Processing Record 31 of Set 5 | skeldon\n",
      "Processing Record 32 of Set 5 | kalmunai\n",
      "Processing Record 33 of Set 5 | utica\n",
      "Processing Record 34 of Set 5 | banda aceh\n",
      "Processing Record 35 of Set 5 | praia da vitoria\n",
      "Processing Record 36 of Set 5 | romny\n",
      "Processing Record 37 of Set 5 | kolyvan\n",
      "Processing Record 38 of Set 5 | hami\n",
      "Processing Record 39 of Set 5 | sakakah\n",
      "Processing Record 40 of Set 5 | diu\n",
      "Processing Record 41 of Set 5 | poum\n",
      "Processing Record 42 of Set 5 | pochutla\n",
      "Processing Record 43 of Set 5 | kiama\n",
      "Processing Record 44 of Set 5 | hurghada\n",
      "Processing Record 45 of Set 5 | gharb\n",
      "City not found.  Skipping...\n",
      "Processing Record 46 of Set 5 | nizhneyansk\n",
      "City not found.  Skipping...\n",
      "Processing Record 47 of Set 5 | moctezuma\n",
      "Processing Record 48 of Set 5 | xining\n",
      "Processing Record 49 of Set 5 | morehead\n",
      "Processing Record 50 of Set 5 | belyy yar\n",
      "Processing Record 1 of Set 6 | chiredzi\n",
      "Processing Record 2 of Set 6 | saint-augustin\n",
      "Processing Record 3 of Set 6 | galle\n",
      "Processing Record 4 of Set 6 | samusu\n",
      "City not found.  Skipping...\n",
      "Processing Record 5 of Set 6 | redmond\n",
      "Processing Record 6 of Set 6 | correntina\n",
      "Processing Record 7 of Set 6 | svetlaya\n",
      "Processing Record 8 of Set 6 | chuy\n",
      "Processing Record 9 of Set 6 | birjand\n",
      "Processing Record 10 of Set 6 | pietarsaari\n",
      "Processing Record 11 of Set 6 | darhan\n",
      "Processing Record 12 of Set 6 | manzhouli\n",
      "Processing Record 13 of Set 6 | kazerun\n",
      "Processing Record 14 of Set 6 | cabedelo\n",
      "Processing Record 15 of Set 6 | mar del plata\n",
      "Processing Record 16 of Set 6 | sitka\n",
      "Processing Record 17 of Set 6 | cidreira\n",
      "Processing Record 18 of Set 6 | concord\n",
      "Processing Record 19 of Set 6 | egvekinot\n",
      "Processing Record 20 of Set 6 | grand river south east\n",
      "City not found.  Skipping...\n",
      "Processing Record 21 of Set 6 | arawa\n",
      "Processing Record 22 of Set 6 | mrirt\n",
      "City not found.  Skipping...\n",
      "Processing Record 23 of Set 6 | attawapiskat\n",
      "City not found.  Skipping...\n",
      "Processing Record 24 of Set 6 | oistins\n",
      "Processing Record 25 of Set 6 | kota kinabalu\n",
      "Processing Record 26 of Set 6 | gorontalo\n",
      "Processing Record 27 of Set 6 | cascais\n",
      "Processing Record 28 of Set 6 | srivardhan\n",
      "Processing Record 29 of Set 6 | presidente medici\n",
      "Processing Record 30 of Set 6 | ambon\n",
      "Processing Record 31 of Set 6 | areia branca\n",
      "Processing Record 32 of Set 6 | la ronge\n",
      "Processing Record 33 of Set 6 | lata\n",
      "Processing Record 34 of Set 6 | aquiraz\n",
      "Processing Record 35 of Set 6 | angoche\n",
      "Processing Record 36 of Set 6 | dingle\n",
      "Processing Record 37 of Set 6 | dharchula\n",
      "Processing Record 38 of Set 6 | awjilah\n",
      "Processing Record 39 of Set 6 | svetlyy\n",
      "Processing Record 40 of Set 6 | petrolandia\n",
      "City not found.  Skipping...\n",
      "Processing Record 41 of Set 6 | abonnema\n",
      "Processing Record 42 of Set 6 | sobolevo\n",
      "Processing Record 43 of Set 6 | lokoja\n",
      "Processing Record 44 of Set 6 | kahului\n",
      "Processing Record 45 of Set 6 | keshan\n",
      "City not found.  Skipping...\n",
      "Processing Record 46 of Set 6 | shingu\n",
      "Processing Record 47 of Set 6 | grand gaube\n",
      "Processing Record 48 of Set 6 | kysyl-syr\n",
      "Processing Record 49 of Set 6 | caranavi\n",
      "Processing Record 50 of Set 6 | saint george\n",
      "Processing Record 1 of Set 7 | tabuk\n",
      "Processing Record 2 of Set 7 | yauya\n",
      "Processing Record 3 of Set 7 | bridlington\n",
      "Processing Record 4 of Set 7 | camacha\n",
      "Processing Record 5 of Set 7 | ulaanbaatar\n",
      "Processing Record 6 of Set 7 | pathein\n",
      "Processing Record 7 of Set 7 | isangel\n",
      "Processing Record 8 of Set 7 | mount gambier\n",
      "Processing Record 9 of Set 7 | muika\n",
      "City not found.  Skipping...\n",
      "Processing Record 10 of Set 7 | orocue\n",
      "Processing Record 11 of Set 7 | de aar\n",
      "Processing Record 12 of Set 7 | pokrovsk\n",
      "Processing Record 13 of Set 7 | tilichiki\n",
      "Processing Record 14 of Set 7 | senador guiomard\n",
      "Processing Record 15 of Set 7 | opuwo\n",
      "Processing Record 16 of Set 7 | yueyang\n",
      "Processing Record 17 of Set 7 | cap-aux-meules\n",
      "Processing Record 18 of Set 7 | gambiran\n",
      "Processing Record 19 of Set 7 | kodinsk\n",
      "Processing Record 20 of Set 7 | stary sacz\n",
      "Processing Record 21 of Set 7 | wahiawa\n",
      "Processing Record 22 of Set 7 | tergnier\n",
      "Processing Record 23 of Set 7 | tecoanapa\n",
      "Processing Record 24 of Set 7 | yulara\n",
      "Processing Record 25 of Set 7 | pimampiro\n",
      "Processing Record 26 of Set 7 | san roque\n",
      "Processing Record 27 of Set 7 | clarence town\n",
      "Processing Record 28 of Set 7 | vao\n",
      "Processing Record 29 of Set 7 | vallenar\n",
      "Processing Record 30 of Set 7 | burnie\n",
      "Processing Record 31 of Set 7 | amargosa\n",
      "Processing Record 32 of Set 7 | shishou\n",
      "Processing Record 33 of Set 7 | kiruna\n",
      "Processing Record 34 of Set 7 | korem\n",
      "Processing Record 35 of Set 7 | russell\n",
      "Processing Record 36 of Set 7 | whitehorse\n",
      "Processing Record 37 of Set 7 | leh\n",
      "Processing Record 38 of Set 7 | calvinia\n",
      "Processing Record 39 of Set 7 | vaitupu\n",
      "City not found.  Skipping...\n",
      "Processing Record 40 of Set 7 | bratsk\n",
      "Processing Record 41 of Set 7 | bambanglipuro\n",
      "Processing Record 42 of Set 7 | ascension\n",
      "Processing Record 43 of Set 7 | biltine\n",
      "Processing Record 44 of Set 7 | pontianak\n",
      "Processing Record 45 of Set 7 | mananjary\n",
      "Processing Record 46 of Set 7 | singaraja\n",
      "Processing Record 47 of Set 7 | corrales\n",
      "Processing Record 48 of Set 7 | lannion\n",
      "Processing Record 49 of Set 7 | naze\n",
      "Processing Record 50 of Set 7 | chulman\n",
      "Processing Record 1 of Set 8 | prieska\n",
      "Processing Record 2 of Set 8 | kailua\n",
      "Processing Record 3 of Set 8 | jalu\n",
      "Processing Record 4 of Set 8 | banjar\n",
      "Processing Record 5 of Set 8 | songea\n",
      "Processing Record 6 of Set 8 | salalah\n",
      "Processing Record 7 of Set 8 | zemio\n",
      "Processing Record 8 of Set 8 | korla\n",
      "Processing Record 9 of Set 8 | padang\n",
      "Processing Record 10 of Set 8 | toamasina\n",
      "Processing Record 11 of Set 8 | port hardy\n",
      "Processing Record 12 of Set 8 | hereford\n",
      "Processing Record 13 of Set 8 | iqaluit\n",
      "Processing Record 14 of Set 8 | worland\n",
      "Processing Record 15 of Set 8 | puerto escondido\n",
      "Processing Record 16 of Set 8 | manggar\n",
      "Processing Record 17 of Set 8 | uvinza\n",
      "Processing Record 18 of Set 8 | faya\n",
      "Processing Record 19 of Set 8 | geraldton\n",
      "Processing Record 20 of Set 8 | ahuimanu\n",
      "Processing Record 21 of Set 8 | tiksi\n",
      "Processing Record 22 of Set 8 | tautira\n",
      "Processing Record 23 of Set 8 | farafangana\n",
      "Processing Record 24 of Set 8 | codrington\n",
      "Processing Record 25 of Set 8 | lysa hora\n",
      "Processing Record 26 of Set 8 | baghdad\n"
     ]
    },
    {
     "name": "stdout",
     "output_type": "stream",
     "text": [
      "Processing Record 27 of Set 8 | udachnyy\n",
      "Processing Record 28 of Set 8 | karratha\n",
      "Processing Record 29 of Set 8 | santa quiteria\n",
      "Processing Record 30 of Set 8 | oksfjord\n",
      "Processing Record 31 of Set 8 | aguilares\n",
      "Processing Record 32 of Set 8 | gushikawa\n",
      "Processing Record 33 of Set 8 | ajdabiya\n",
      "Processing Record 34 of Set 8 | wennigsen\n",
      "Processing Record 35 of Set 8 | kondinskoye\n",
      "Processing Record 36 of Set 8 | assesse\n",
      "Processing Record 37 of Set 8 | tighina\n",
      "Processing Record 38 of Set 8 | kuna\n",
      "Processing Record 39 of Set 8 | burriana\n",
      "Processing Record 40 of Set 8 | cagayan de tawi-tawi\n",
      "City not found.  Skipping...\n",
      "Processing Record 41 of Set 8 | gilgit\n",
      "Processing Record 42 of Set 8 | sorvag\n",
      "City not found.  Skipping...\n",
      "Processing Record 43 of Set 8 | dauis\n",
      "Processing Record 44 of Set 8 | salinopolis\n",
      "Processing Record 45 of Set 8 | beringovskiy\n",
      "Processing Record 46 of Set 8 | hay river\n",
      "Processing Record 47 of Set 8 | manono\n",
      "Processing Record 48 of Set 8 | dubbo\n",
      "Processing Record 49 of Set 8 | yuncheng\n",
      "Processing Record 50 of Set 8 | hambantota\n",
      "Processing Record 1 of Set 9 | bambous virieux\n",
      "Processing Record 2 of Set 9 | atar\n",
      "Processing Record 3 of Set 9 | san policarpo\n",
      "Processing Record 4 of Set 9 | white rock\n",
      "Processing Record 5 of Set 9 | kangaatsiaq\n",
      "Processing Record 6 of Set 9 | caravelas\n",
      "Processing Record 7 of Set 9 | sibu\n",
      "Processing Record 8 of Set 9 | teguise\n",
      "Processing Record 9 of Set 9 | raudeberg\n",
      "Processing Record 10 of Set 9 | ambodifototra\n",
      "City not found.  Skipping...\n",
      "Processing Record 11 of Set 9 | ust-tsilma\n",
      "Processing Record 12 of Set 9 | honiara\n",
      "Processing Record 13 of Set 9 | kizema\n",
      "Processing Record 14 of Set 9 | dinghai\n",
      "Processing Record 15 of Set 9 | fershampenuaz\n",
      "Processing Record 16 of Set 9 | san jeronimo\n",
      "Processing Record 17 of Set 9 | adre\n",
      "Processing Record 18 of Set 9 | luanda\n",
      "Processing Record 19 of Set 9 | portland\n",
      "Processing Record 20 of Set 9 | rodrigues alves\n",
      "Processing Record 21 of Set 9 | ogaminana\n",
      "Processing Record 22 of Set 9 | aykhal\n",
      "Processing Record 23 of Set 9 | bargal\n",
      "City not found.  Skipping...\n",
      "Processing Record 24 of Set 9 | novorzhev\n",
      "Processing Record 25 of Set 9 | port macquarie\n",
      "Processing Record 26 of Set 9 | noyabrsk\n",
      "Processing Record 27 of Set 9 | misratah\n",
      "Processing Record 28 of Set 9 | kirensk\n",
      "Processing Record 29 of Set 9 | nuuk\n",
      "Processing Record 30 of Set 9 | sinnamary\n",
      "Processing Record 31 of Set 9 | broken hill\n",
      "Processing Record 32 of Set 9 | wulanhaote\n",
      "City not found.  Skipping...\n",
      "Processing Record 33 of Set 9 | mandurah\n",
      "Processing Record 34 of Set 9 | santa isabel do rio negro\n",
      "Processing Record 35 of Set 9 | maneadero\n",
      "Processing Record 36 of Set 9 | zafra\n",
      "Processing Record 37 of Set 9 | alekseyevka\n",
      "Processing Record 38 of Set 9 | torbay\n",
      "Processing Record 39 of Set 9 | nemuro\n",
      "Processing Record 40 of Set 9 | tigre\n",
      "Processing Record 41 of Set 9 | rawson\n",
      "Processing Record 42 of Set 9 | avera\n",
      "Processing Record 43 of Set 9 | tiznit\n",
      "Processing Record 44 of Set 9 | shache\n",
      "Processing Record 45 of Set 9 | sydney\n",
      "Processing Record 46 of Set 9 | bayji\n",
      "Processing Record 47 of Set 9 | nouadhibou\n",
      "Processing Record 48 of Set 9 | mecca\n",
      "Processing Record 49 of Set 9 | margate\n",
      "Processing Record 50 of Set 9 | watsa\n",
      "Processing Record 1 of Set 10 | camaguey\n",
      "Processing Record 2 of Set 10 | serdobsk\n",
      "Processing Record 3 of Set 10 | sao jose da coroa grande\n",
      "Processing Record 4 of Set 10 | te anau\n",
      "Processing Record 5 of Set 10 | balykshi\n",
      "Processing Record 6 of Set 10 | fairbanks\n",
      "Processing Record 7 of Set 10 | hobyo\n",
      "Processing Record 8 of Set 10 | ballina\n",
      "Processing Record 9 of Set 10 | moranbah\n",
      "Processing Record 10 of Set 10 | klaksvik\n",
      "Processing Record 11 of Set 10 | warqla\n",
      "City not found.  Skipping...\n",
      "Processing Record 12 of Set 10 | marsa matruh\n",
      "Processing Record 13 of Set 10 | kirakira\n",
      "Processing Record 14 of Set 10 | amahai\n",
      "Processing Record 15 of Set 10 | rio gallegos\n",
      "Processing Record 16 of Set 10 | asau\n",
      "Processing Record 17 of Set 10 | wenatchee\n",
      "Processing Record 18 of Set 10 | eenhana\n",
      "Processing Record 19 of Set 10 | coihaique\n",
      "Processing Record 20 of Set 10 | lobito\n",
      "Processing Record 21 of Set 10 | sanandaj\n",
      "Processing Record 22 of Set 10 | bahir dar\n",
      "Processing Record 23 of Set 10 | geylegphug\n",
      "City not found.  Skipping...\n",
      "Processing Record 24 of Set 10 | ndele\n",
      "Processing Record 25 of Set 10 | baturaja\n",
      "Processing Record 26 of Set 10 | martapura\n",
      "Processing Record 27 of Set 10 | cabinda\n",
      "Processing Record 28 of Set 10 | maceio\n",
      "Processing Record 29 of Set 10 | point fortin\n",
      "Processing Record 30 of Set 10 | tagusao\n",
      "Processing Record 31 of Set 10 | severo-kurilsk\n",
      "Processing Record 32 of Set 10 | vorobyevka\n",
      "Processing Record 33 of Set 10 | gore\n",
      "Processing Record 34 of Set 10 | mount isa\n",
      "Processing Record 35 of Set 10 | storforshei\n",
      "Processing Record 36 of Set 10 | oksbol\n",
      "Processing Record 37 of Set 10 | acobamba\n",
      "Processing Record 38 of Set 10 | namatanai\n",
      "Processing Record 39 of Set 10 | inta\n",
      "Processing Record 40 of Set 10 | posse\n",
      "Processing Record 41 of Set 10 | edd\n",
      "Processing Record 42 of Set 10 | adrar\n",
      "Processing Record 43 of Set 10 | okhotsk\n",
      "Processing Record 44 of Set 10 | college\n",
      "Processing Record 45 of Set 10 | qaqortoq\n",
      "Processing Record 46 of Set 10 | praia\n",
      "Processing Record 47 of Set 10 | gouyave\n",
      "Processing Record 48 of Set 10 | biak\n",
      "Processing Record 49 of Set 10 | chekhov\n",
      "Processing Record 50 of Set 10 | skvyra\n",
      "Processing Record 1 of Set 11 | dunedin\n",
      "Processing Record 2 of Set 11 | vestbygda\n",
      "City not found.  Skipping...\n",
      "Processing Record 3 of Set 11 | bontang\n",
      "Processing Record 4 of Set 11 | sindor\n",
      "Processing Record 5 of Set 11 | staryy nadym\n",
      "Processing Record 6 of Set 11 | san juan\n",
      "Processing Record 7 of Set 11 | labytnangi\n",
      "Processing Record 8 of Set 11 | tieli\n",
      "Processing Record 9 of Set 11 | sorland\n",
      "Processing Record 10 of Set 11 | riyadh\n",
      "Processing Record 11 of Set 11 | tari\n",
      "Processing Record 12 of Set 11 | ippy\n",
      "Processing Record 13 of Set 11 | bandarbeyla\n",
      "Processing Record 14 of Set 11 | dong hoi\n",
      "Processing Record 15 of Set 11 | celestun\n",
      "Processing Record 16 of Set 11 | mahibadhoo\n",
      "Processing Record 17 of Set 11 | vangaindrano\n",
      "Processing Record 18 of Set 11 | ust-omchug\n",
      "Processing Record 19 of Set 11 | guaymas\n",
      "Processing Record 20 of Set 11 | garissa\n",
      "Processing Record 21 of Set 11 | maniitsoq\n",
      "Processing Record 22 of Set 11 | puksoozero\n",
      "Processing Record 23 of Set 11 | tieling\n",
      "Processing Record 24 of Set 11 | beloha\n",
      "Processing Record 25 of Set 11 | camacupa\n",
      "Processing Record 26 of Set 11 | umm kaddadah\n",
      "Processing Record 27 of Set 11 | luganville\n",
      "Processing Record 28 of Set 11 | buala\n",
      "Processing Record 29 of Set 11 | san luis\n",
      "Processing Record 30 of Set 11 | tabas\n",
      "Processing Record 31 of Set 11 | zeya\n",
      "Processing Record 32 of Set 11 | zyryanka\n",
      "Processing Record 33 of Set 11 | loa janan\n",
      "Processing Record 34 of Set 11 | swan river\n",
      "Processing Record 35 of Set 11 | bonthe\n",
      "Processing Record 36 of Set 11 | santa marta\n",
      "Processing Record 37 of Set 11 | general roca\n",
      "Processing Record 38 of Set 11 | axim\n",
      "Processing Record 39 of Set 11 | san quintin\n",
      "Processing Record 40 of Set 11 | qui nhon\n",
      "Processing Record 41 of Set 11 | ocos\n",
      "Processing Record 42 of Set 11 | kirksville\n",
      "Processing Record 43 of Set 11 | ligayan\n",
      "Processing Record 44 of Set 11 | watford\n",
      "Processing Record 45 of Set 11 | chamba\n",
      "Processing Record 46 of Set 11 | giyani\n",
      "Processing Record 47 of Set 11 | lebanon\n",
      "Processing Record 48 of Set 11 | san joaquin\n",
      "Processing Record 49 of Set 11 | litovko\n",
      "Processing Record 50 of Set 11 | kabansk\n",
      "Processing Record 1 of Set 12 | nanortalik\n",
      "Processing Record 2 of Set 12 | along\n",
      "Processing Record 3 of Set 12 | vardo\n",
      "Processing Record 4 of Set 12 | tomakomai\n",
      "Processing Record 5 of Set 12 | oyama\n",
      "Processing Record 6 of Set 12 | mergui\n",
      "City not found.  Skipping...\n",
      "Processing Record 7 of Set 12 | kaitangata\n",
      "Processing Record 8 of Set 12 | tarko-sale\n",
      "Processing Record 9 of Set 12 | tukrah\n",
      "Processing Record 10 of Set 12 | alice springs\n",
      "Processing Record 11 of Set 12 | paoua\n",
      "Processing Record 12 of Set 12 | ola\n",
      "Processing Record 13 of Set 12 | carutapera\n",
      "Processing Record 14 of Set 12 | yanam\n",
      "Processing Record 15 of Set 12 | nea kerasia\n",
      "Processing Record 16 of Set 12 | kaura namoda\n",
      "Processing Record 17 of Set 12 | vilyuysk\n",
      "Processing Record 18 of Set 12 | fukue\n"
     ]
    },
    {
     "name": "stdout",
     "output_type": "stream",
     "text": [
      "Processing Record 19 of Set 12 | pajapan\n",
      "Processing Record 20 of Set 12 | srandakan\n",
      "Processing Record 21 of Set 12 | orlik\n",
      "Processing Record 22 of Set 12 | progreso\n",
      "Processing Record 23 of Set 12 | rovaniemi\n",
      "Processing Record 24 of Set 12 | manbij\n",
      "Processing Record 25 of Set 12 | suez\n",
      "Processing Record 26 of Set 12 | maralal\n",
      "Processing Record 27 of Set 12 | whitianga\n",
      "Processing Record 28 of Set 12 | nizwa\n",
      "Processing Record 29 of Set 12 | irbeyskoye\n",
      "Processing Record 30 of Set 12 | buluang\n",
      "Processing Record 31 of Set 12 | phibun mangsahan\n",
      "Processing Record 32 of Set 12 | bubaque\n",
      "Processing Record 33 of Set 12 | saleaula\n",
      "City not found.  Skipping...\n",
      "Processing Record 34 of Set 12 | pasighat\n",
      "Processing Record 35 of Set 12 | hengshui\n",
      "Processing Record 36 of Set 12 | turan\n",
      "Processing Record 37 of Set 12 | dawei\n",
      "Processing Record 38 of Set 12 | kurchum\n",
      "Processing Record 39 of Set 12 | makakilo city\n",
      "Processing Record 40 of Set 12 | nogliki\n",
      "Processing Record 41 of Set 12 | mattru\n",
      "Processing Record 42 of Set 12 | lincoln\n",
      "Processing Record 43 of Set 12 | kupang\n",
      "Processing Record 44 of Set 12 | thinadhoo\n",
      "Processing Record 45 of Set 12 | sistranda\n",
      "Processing Record 46 of Set 12 | bainbridge\n",
      "Processing Record 47 of Set 12 | mahina\n",
      "Processing Record 48 of Set 12 | tshikapa\n",
      "Processing Record 49 of Set 12 | comodoro rivadavia\n",
      "Processing Record 50 of Set 12 | artyk\n",
      "City not found.  Skipping...\n",
      "Processing Record 1 of Set 13 | umzimvubu\n",
      "City not found.  Skipping...\n",
      "------------------------\n",
      "Data Retrieval Complete\n",
      "------------------------\n"
     ]
    }
   ],
   "source": [
    "# Import google API key\n",
    "from api_keys import g_key\n",
    "\n",
    "# Set variables for weather API calls\n",
    "weather_url = \"http://api.openweathermap.org/data/2.5/weather\"\n",
    "params = {'appid':weather_api_key,\n",
    "         'units':'imperial'}\n",
    "\n",
    "#Set variables for counters. Each set to contain records 1-50.\n",
    "record = 1\n",
    "sets = 1\n",
    "\n",
    "# Print output of API calls\n",
    "print('Beginning Data Retrieval')\n",
    "print('------------------------')\n",
    "\n",
    "# Store weather data into dataframe for each city\n",
    "for index, row in weather_df.iterrows():\n",
    "    params['q'] = row['City']\n",
    "    response = requests.get(weather_url, params).json()\n",
    "       \n",
    "    try:\n",
    "        print(f\"Processing Record {record} of Set {sets} | {row['City']}\")\n",
    "        weather_df.loc[index,'Lat'] = response['coord']['lat']\n",
    "        weather_df.loc[index,'Lng'] = response['coord']['lon']\n",
    "        weather_df.loc[index,'Max Temp'] = response['main']['temp_max']\n",
    "        weather_df.loc[index,'Humidity'] = response['main']['humidity']\n",
    "        weather_df.loc[index,'Cloudiness'] = response['clouds']['all']\n",
    "        weather_df.loc[index,'Wind Speed'] = response['wind']['speed']\n",
    "        weather_df.loc[index,'Country'] = response['sys']['country']        \n",
    "        weather_df.loc[index,'Date'] = response['dt']\n",
    "    except:\n",
    "        print('City not found.  Skipping...')\n",
    "\n",
    "# If number of records is multiple of 50, increment set number and reset city count\n",
    "    if record%50 == 0:\n",
    "        sets += 1        \n",
    "        record = 0\n",
    "\n",
    "# Increment city counter\n",
    "    record += 1\n",
    "\n",
    "print('------------------------')\n",
    "print('Data Retrieval Complete')\n",
    "print('------------------------')"
   ]
  },
  {
   "cell_type": "code",
   "execution_count": 6,
   "id": "d0694d4b",
   "metadata": {
    "scrolled": true
   },
   "outputs": [],
   "source": [
    "# Remove cities not found, reset index, and export into csv file\n",
    "weather_df.dropna(inplace=True)\n",
    "weather_df.reset_index(inplace = True, drop = True)\n",
    "weather_df.to_csv(output_data_file, index = False, header=True)"
   ]
  },
  {
   "cell_type": "markdown",
   "id": "dc61f55c",
   "metadata": {},
   "source": [
    "## Inspect the data and remove the cities where the humidity > 100%."
   ]
  },
  {
   "cell_type": "code",
   "execution_count": 7,
   "id": "88687ab1",
   "metadata": {},
   "outputs": [
    {
     "data": {
      "text/html": [
       "<div>\n",
       "<style scoped>\n",
       "    .dataframe tbody tr th:only-of-type {\n",
       "        vertical-align: middle;\n",
       "    }\n",
       "\n",
       "    .dataframe tbody tr th {\n",
       "        vertical-align: top;\n",
       "    }\n",
       "\n",
       "    .dataframe thead th {\n",
       "        text-align: right;\n",
       "    }\n",
       "</style>\n",
       "<table border=\"1\" class=\"dataframe\">\n",
       "  <thead>\n",
       "    <tr style=\"text-align: right;\">\n",
       "      <th></th>\n",
       "      <th>Lat</th>\n",
       "      <th>Lng</th>\n",
       "      <th>Max Temp</th>\n",
       "      <th>Humidity</th>\n",
       "      <th>Cloudiness</th>\n",
       "      <th>Wind Speed</th>\n",
       "      <th>Date</th>\n",
       "    </tr>\n",
       "  </thead>\n",
       "  <tbody>\n",
       "    <tr>\n",
       "      <th>count</th>\n",
       "      <td>557.000000</td>\n",
       "      <td>557.000000</td>\n",
       "      <td>557.000000</td>\n",
       "      <td>557.000000</td>\n",
       "      <td>557.000000</td>\n",
       "      <td>557.000000</td>\n",
       "      <td>5.570000e+02</td>\n",
       "    </tr>\n",
       "    <tr>\n",
       "      <th>mean</th>\n",
       "      <td>19.683596</td>\n",
       "      <td>24.889568</td>\n",
       "      <td>71.640036</td>\n",
       "      <td>67.260323</td>\n",
       "      <td>53.624776</td>\n",
       "      <td>7.880682</td>\n",
       "      <td>1.628175e+09</td>\n",
       "    </tr>\n",
       "    <tr>\n",
       "      <th>std</th>\n",
       "      <td>33.511311</td>\n",
       "      <td>90.899360</td>\n",
       "      <td>15.106179</td>\n",
       "      <td>23.550621</td>\n",
       "      <td>38.090969</td>\n",
       "      <td>5.523953</td>\n",
       "      <td>1.190776e+02</td>\n",
       "    </tr>\n",
       "    <tr>\n",
       "      <th>min</th>\n",
       "      <td>-54.800000</td>\n",
       "      <td>-179.166700</td>\n",
       "      <td>33.220000</td>\n",
       "      <td>7.000000</td>\n",
       "      <td>0.000000</td>\n",
       "      <td>0.000000</td>\n",
       "      <td>1.628174e+09</td>\n",
       "    </tr>\n",
       "    <tr>\n",
       "      <th>25%</th>\n",
       "      <td>-7.950000</td>\n",
       "      <td>-53.114700</td>\n",
       "      <td>61.050000</td>\n",
       "      <td>55.000000</td>\n",
       "      <td>15.000000</td>\n",
       "      <td>3.850000</td>\n",
       "      <td>1.628175e+09</td>\n",
       "    </tr>\n",
       "    <tr>\n",
       "      <th>50%</th>\n",
       "      <td>21.502800</td>\n",
       "      <td>27.911600</td>\n",
       "      <td>73.760000</td>\n",
       "      <td>73.000000</td>\n",
       "      <td>60.000000</td>\n",
       "      <td>6.910000</td>\n",
       "      <td>1.628175e+09</td>\n",
       "    </tr>\n",
       "    <tr>\n",
       "      <th>75%</th>\n",
       "      <td>48.572200</td>\n",
       "      <td>108.266700</td>\n",
       "      <td>81.680000</td>\n",
       "      <td>85.000000</td>\n",
       "      <td>90.000000</td>\n",
       "      <td>10.360000</td>\n",
       "      <td>1.628175e+09</td>\n",
       "    </tr>\n",
       "    <tr>\n",
       "      <th>max</th>\n",
       "      <td>78.218600</td>\n",
       "      <td>179.316700</td>\n",
       "      <td>114.710000</td>\n",
       "      <td>100.000000</td>\n",
       "      <td>100.000000</td>\n",
       "      <td>36.820000</td>\n",
       "      <td>1.628175e+09</td>\n",
       "    </tr>\n",
       "  </tbody>\n",
       "</table>\n",
       "</div>"
      ],
      "text/plain": [
       "              Lat         Lng    Max Temp    Humidity  Cloudiness  Wind Speed  \\\n",
       "count  557.000000  557.000000  557.000000  557.000000  557.000000  557.000000   \n",
       "mean    19.683596   24.889568   71.640036   67.260323   53.624776    7.880682   \n",
       "std     33.511311   90.899360   15.106179   23.550621   38.090969    5.523953   \n",
       "min    -54.800000 -179.166700   33.220000    7.000000    0.000000    0.000000   \n",
       "25%     -7.950000  -53.114700   61.050000   55.000000   15.000000    3.850000   \n",
       "50%     21.502800   27.911600   73.760000   73.000000   60.000000    6.910000   \n",
       "75%     48.572200  108.266700   81.680000   85.000000   90.000000   10.360000   \n",
       "max     78.218600  179.316700  114.710000  100.000000  100.000000   36.820000   \n",
       "\n",
       "               Date  \n",
       "count  5.570000e+02  \n",
       "mean   1.628175e+09  \n",
       "std    1.190776e+02  \n",
       "min    1.628174e+09  \n",
       "25%    1.628175e+09  \n",
       "50%    1.628175e+09  \n",
       "75%    1.628175e+09  \n",
       "max    1.628175e+09  "
      ]
     },
     "execution_count": 7,
     "metadata": {},
     "output_type": "execute_result"
    }
   ],
   "source": [
    "weather_df.describe()\n",
    "\n",
    "# No cities with humidity > 100%"
   ]
  },
  {
   "cell_type": "markdown",
   "id": "82f531ee",
   "metadata": {},
   "source": [
    "## Latitude vs. Temperature Plot"
   ]
  },
  {
   "cell_type": "code",
   "execution_count": 8,
   "id": "943c4854",
   "metadata": {},
   "outputs": [],
   "source": [
    "# Create new dataframe \n",
    "clean_city_data = weather_df\n",
    "\n",
    "# Create list of latitude values\n",
    "latitude = clean_city_data['Lat']"
   ]
  },
  {
   "cell_type": "code",
   "execution_count": 9,
   "id": "e91c09df",
   "metadata": {},
   "outputs": [],
   "source": [
    "# Function to plot values vs latitude\n",
    "#  Pass y axis values and label name as parameters\n",
    "#  Insert run date into label\n",
    "#  Plot scatter plot and save image\n",
    "\n",
    "from datetime import date\n",
    "\n",
    "def latitude_plot(y_value, label):\n",
    "    todays_date = date.today()\n",
    "    \n",
    "    plt.xlabel('Latitude')\n",
    "    plt.ylabel(label)\n",
    "    plt.grid()\n",
    "    plt.title(f'City Latitude vs. {label} ({todays_date.month}/{todays_date.day}/{todays_date.year})')\n",
    "    plot = plt.scatter(latitude,y_value)\n",
    "    plt.savefig(f\"images/{label} vs Latitude.png\", facecolor='w')\n",
    "\n",
    "    "
   ]
  },
  {
   "cell_type": "code",
   "execution_count": 10,
   "id": "4773823c",
   "metadata": {},
   "outputs": [
    {
     "data": {
      "image/png": "[encoded data removed]",
      "text/plain": [
       "<Figure size 432x288 with 1 Axes>"
      ]
     },
     "metadata": {
      "needs_background": "light"
     },
     "output_type": "display_data"
    }
   ],
   "source": [
    "# Plot latitude vs temp using latitude_plot function\n",
    "temp = clean_city_data['Max Temp']\n",
    "temp_plot = latitude_plot(temp,'Max Temperature (F)')"
   ]
  },
  {
   "cell_type": "code",
   "execution_count": 11,
   "id": "59f49541",
   "metadata": {},
   "outputs": [],
   "source": [
    "# The chart shows evidence of a relationship between latitude and temperature"
   ]
  },
  {
   "cell_type": "markdown",
   "id": "4abc183f",
   "metadata": {},
   "source": [
    "## Latitude vs. Humidity Plot"
   ]
  },
  {
   "cell_type": "code",
   "execution_count": 12,
   "id": "bfcaaf76",
   "metadata": {},
   "outputs": [
    {
     "data": {
      "image/png": "[encoded data removed]",
      "text/plain": [
       "<Figure size 432x288 with 1 Axes>"
      ]
     },
     "metadata": {
      "needs_background": "light"
     },
     "output_type": "display_data"
    }
   ],
   "source": [
    "# Plot latitude vs humidity using latitude_plot function\n",
    "humidity = clean_city_data['Humidity']\n",
    "humidity_plot = latitude_plot(humidity,'Humidity')"
   ]
  },
  {
   "cell_type": "code",
   "execution_count": 13,
   "id": "8a4a19b8",
   "metadata": {},
   "outputs": [],
   "source": [
    "# There does not appear to be a relationship between latitude and humidity"
   ]
  },
  {
   "cell_type": "markdown",
   "id": "77f73caf",
   "metadata": {},
   "source": [
    "## Latitude vs. Cloudiness Plot"
   ]
  },
  {
   "cell_type": "code",
   "execution_count": 14,
   "id": "ea671edd",
   "metadata": {},
   "outputs": [
    {
     "data": {
      "image/png": "[encoded data removed]",
      "text/plain": [
       "<Figure size 432x288 with 1 Axes>"
      ]
     },
     "metadata": {
      "needs_background": "light"
     },
     "output_type": "display_data"
    }
   ],
   "source": [
    "# Plot latitude vs cloudiness using latitude_plot function\n",
    "cloudiness = clean_city_data['Cloudiness']\n",
    "cloudiness_plot = latitude_plot(cloudiness,'Cloudiness')"
   ]
  },
  {
   "cell_type": "code",
   "execution_count": 15,
   "id": "017357ea",
   "metadata": {},
   "outputs": [],
   "source": [
    "# There does not appear to be a relationship between latitude and cloudiness"
   ]
  },
  {
   "cell_type": "markdown",
   "id": "8222fda1",
   "metadata": {},
   "source": [
    "## Latitude vs. Wind Speed Plot"
   ]
  },
  {
   "cell_type": "code",
   "execution_count": 16,
   "id": "355b1eb1",
   "metadata": {},
   "outputs": [
    {
     "data": {
      "image/png": "[encoded data removed]",
      "text/plain": [
       "<Figure size 432x288 with 1 Axes>"
      ]
     },
     "metadata": {
      "needs_background": "light"
     },
     "output_type": "display_data"
    }
   ],
   "source": [
    "# Plot latitude vs wind speed using latitude_plot function\n",
    "wind_speed = clean_city_data['Wind Speed']\n",
    "wind_plot = latitude_plot(wind_speed,'Wind Speed (mph)')"
   ]
  },
  {
   "cell_type": "code",
   "execution_count": 17,
   "id": "afcb868e",
   "metadata": {},
   "outputs": [],
   "source": [
    "# There does not appear to be a relationship between latitude and wind speed"
   ]
  },
  {
   "cell_type": "markdown",
   "id": "6a949884",
   "metadata": {},
   "source": [
    "## Linear Regression"
   ]
  },
  {
   "cell_type": "code",
   "execution_count": 18,
   "id": "97fd2555",
   "metadata": {},
   "outputs": [],
   "source": [
    "# Separate dataframe by Lat\n",
    "northern_data = clean_city_data.loc[clean_city_data['Lat']>=0]\n",
    "southern_data = clean_city_data.loc[clean_city_data['Lat']<0]"
   ]
  },
  {
   "cell_type": "code",
   "execution_count": 19,
   "id": "68900851",
   "metadata": {},
   "outputs": [],
   "source": [
    "# Set variables for northern and southern latitudes\n",
    "northern_latitude = northern_data['Lat']\n",
    "southern_latitude = southern_data['Lat']"
   ]
  },
  {
   "cell_type": "markdown",
   "id": "8d8a5966",
   "metadata": {},
   "source": [
    "####  Northern Hemisphere - Max Temp vs. Latitude Linear Regression"
   ]
  },
  {
   "cell_type": "code",
   "execution_count": 25,
   "id": "203032ff",
   "metadata": {},
   "outputs": [
    {
     "name": "stdout",
     "output_type": "stream",
     "text": [
      "The r-value is: -0.6688967093062488\n"
     ]
    },
    {
     "data": {
      "image/png": "[encoded data removed]",
      "text/plain": [
       "<Figure size 432x288 with 1 Axes>"
      ]
     },
     "metadata": {
      "needs_background": "light"
     },
     "output_type": "display_data"
    }
   ],
   "source": [
    "# Find max temp for northern latitudes\n",
    "n_temp = northern_data['Max Temp']\n",
    "\n",
    "# Plot scatter plot with linear regression line\n",
    "plt.scatter(northern_latitude,n_temp)\n",
    "plt.xlabel('Latitude')\n",
    "plt.ylabel('Max Temp')\n",
    "slope, int, rvalue = linregress(northern_latitude,n_temp)[0:3]\n",
    "line = slope * northern_latitude + int\n",
    "plt.plot(northern_latitude,line)\n",
    "plt.savefig(f\"images/Max Temp North Regression.png\", facecolor='w')\n",
    "\n",
    "# Print R value\n",
    "print(f'The r-value is: {rvalue}')\n",
    "\n",
    "# Add text\n",
    "line_eq = f'y = {round(slope,2)}x + {round(int,2)}'\n",
    "plt.annotate(line_eq,(10,40),fontsize=15,color=\"red\")\n",
    "plt.show()"
   ]
  },
  {
   "cell_type": "code",
   "execution_count": 23,
   "id": "08e74d22",
   "metadata": {},
   "outputs": [],
   "source": [
    "# There is strong correlation between latitude and temperature.  The maximum temperature decreases as the latitude increases."
   ]
  },
  {
   "cell_type": "markdown",
   "id": "b76afe47",
   "metadata": {},
   "source": [
    "####  Southern Hemisphere - Max Temp vs. Latitude Linear Regression"
   ]
  },
  {
   "cell_type": "code",
   "execution_count": 26,
   "id": "7fe1f3cb",
   "metadata": {},
   "outputs": [
    {
     "name": "stdout",
     "output_type": "stream",
     "text": [
      "The r-value is: 0.7700958122598354\n"
     ]
    },
    {
     "data": {
      "image/png": "[encoded data removed]",
      "text/plain": [
       "<Figure size 432x288 with 1 Axes>"
      ]
     },
     "metadata": {
      "needs_background": "light"
     },
     "output_type": "display_data"
    }
   ],
   "source": [
    "# Find max temp for southern latitudes\n",
    "s_temp = southern_data['Max Temp']\n",
    "\n",
    "# Plot scatter plot with linear regression line\n",
    "plt.scatter(southern_latitude,s_temp)\n",
    "plt.xlabel('Latitude')\n",
    "plt.ylabel('Max Temp')\n",
    "slope, int, rvalue = linregress(southern_latitude,s_temp)[0:3]\n",
    "line = slope * southern_latitude + int\n",
    "plt.plot(southern_latitude,line,\"--\")\n",
    "plt.savefig(f\"images/Max Temp South Regression.png\", facecolor='w')\n",
    "\n",
    "# Print R value\n",
    "print(f'The r-value is: {rvalue}')\n",
    "\n",
    "# Add text\n",
    "line_eq = f'y = {round(slope,2)}x + {round(int,2)}'\n",
    "plt.annotate(line_eq,(-54,90),fontsize=15,color=\"red\")\n",
    "plt.show()"
   ]
  },
  {
   "cell_type": "code",
   "execution_count": 27,
   "id": "96f0ff20",
   "metadata": {},
   "outputs": [],
   "source": [
    "# There is strong correlation between latitude and temperature.  The maximum temperature increases as the latitude approaches 0."
   ]
  },
  {
   "cell_type": "markdown",
   "id": "51688428",
   "metadata": {},
   "source": [
    "####  Northern Hemisphere - Humidity (%) vs. Latitude Linear Regression"
   ]
  },
  {
   "cell_type": "code",
   "execution_count": 33,
   "id": "4782f948",
   "metadata": {},
   "outputs": [
    {
     "name": "stdout",
     "output_type": "stream",
     "text": [
      "The r-value is: 0.05145143824638782\n"
     ]
    },
    {
     "data": {
      "image/png": "[encoded data removed]",
      "text/plain": [
       "<Figure size 432x288 with 1 Axes>"
      ]
     },
     "metadata": {
      "needs_background": "light"
     },
     "output_type": "display_data"
    }
   ],
   "source": [
    "# Find humidity for northern latitudes\n",
    "n_humidity = northern_data['Humidity']\n",
    "\n",
    "# Plot scatter plot with linear regression line\n",
    "plt.scatter(northern_latitude,n_humidity)\n",
    "plt.xlabel('Latitude')\n",
    "plt.ylabel('Humidity')\n",
    "slope, int, rvalue = linregress(northern_latitude,n_humidity)[0:3]\n",
    "line = slope * northern_latitude + int\n",
    "plt.plot(northern_latitude,line)\n",
    "plt.savefig(f\"images/Humidity North Regression.png\", facecolor='w')\n",
    "\n",
    "# Print R value\n",
    "print(f'The r-value is: {rvalue}')\n",
    "\n",
    "# Add text\n",
    "line_eq = f'y = {round(slope,2)}x + {round(int,2)}'\n",
    "plt.annotate(line_eq,(47,7),fontsize=15,color=\"red\")\n",
    "plt.show()"
   ]
  },
  {
   "cell_type": "code",
   "execution_count": 34,
   "id": "6ae4f087",
   "metadata": {},
   "outputs": [],
   "source": [
    "# There is weak correlation between latitude and humidity"
   ]
  },
  {
   "cell_type": "markdown",
   "id": "4d4192bd",
   "metadata": {},
   "source": [
    "####  Southern Hemisphere - Humidity (%) vs. Latitude Linear Regression"
   ]
  },
  {
   "cell_type": "code",
   "execution_count": 37,
   "id": "c0f2efbc",
   "metadata": {},
   "outputs": [
    {
     "name": "stdout",
     "output_type": "stream",
     "text": [
      "The r-value is: -0.07718877252494534\n"
     ]
    },
    {
     "data": {
      "image/png": "[encoded data removed]",
      "text/plain": [
       "<Figure size 432x288 with 1 Axes>"
      ]
     },
     "metadata": {
      "needs_background": "light"
     },
     "output_type": "display_data"
    }
   ],
   "source": [
    "# Find humidity for southern latitudes\n",
    "s_humidity = southern_data['Humidity']\n",
    "\n",
    "# Plot scatter plot with linear regression line\n",
    "plt.scatter(southern_latitude,s_humidity)\n",
    "plt.xlabel('Latitude')\n",
    "plt.ylabel('Humidity')\n",
    "slope, int, rvalue = linregress(southern_latitude,s_humidity)[0:3]\n",
    "line = slope * southern_latitude + int\n",
    "plt.plot(southern_latitude,line,\"--\")\n",
    "plt.savefig(f\"images/Humidity South Regression.png\", facecolor='w')\n",
    "\n",
    "# Print R value\n",
    "print(f'The r-value is: {rvalue}')\n",
    "\n",
    "# Add text\n",
    "line_eq = f'y = {round(slope,2)}x + {round(int,2)}'\n",
    "plt.annotate(line_eq,(-54,45),fontsize=15,color=\"red\")\n",
    "plt.show()"
   ]
  },
  {
   "cell_type": "code",
   "execution_count": 38,
   "id": "77107d35",
   "metadata": {},
   "outputs": [],
   "source": [
    "# There is weak correlation between latitude and humidity"
   ]
  },
  {
   "cell_type": "markdown",
   "id": "e37120ff",
   "metadata": {},
   "source": [
    "####  Northern Hemisphere - Cloudiness (%) vs. Latitude Linear Regression"
   ]
  },
  {
   "cell_type": "code",
   "execution_count": 39,
   "id": "2840fe88",
   "metadata": {},
   "outputs": [
    {
     "name": "stdout",
     "output_type": "stream",
     "text": [
      "The r-value is: 0.06051314496080336\n"
     ]
    },
    {
     "data": {
      "image/png": "[encoded data removed]",
      "text/plain": [
       "<Figure size 432x288 with 1 Axes>"
      ]
     },
     "metadata": {
      "needs_background": "light"
     },
     "output_type": "display_data"
    }
   ],
   "source": [
    "# Find cloudiness for northern latitudes\n",
    "n_cloudiness = northern_data['Cloudiness']\n",
    "\n",
    "# Plot scatter plot with linear regression line\n",
    "plt.scatter(northern_latitude,n_cloudiness)\n",
    "plt.xlabel('Latitude')\n",
    "plt.ylabel('Cloudiness')\n",
    "slope, int, rvalue = linregress(northern_latitude,n_cloudiness)[0:3]\n",
    "line = slope * northern_latitude + int\n",
    "plt.plot(northern_latitude,line)\n",
    "plt.savefig(f\"images/Cloudiness North Regression.png\", facecolor='w')\n",
    "\n",
    "# Print R value\n",
    "print(f'The r-value is: {rvalue}')\n",
    "\n",
    "# Add text\n",
    "line_eq = f'y = {round(slope,2)}x + {round(int,2)}'\n",
    "plt.annotate(line_eq,(10,10),fontsize=15,color=\"red\")\n",
    "plt.show()"
   ]
  },
  {
   "cell_type": "code",
   "execution_count": 40,
   "id": "5341e20c",
   "metadata": {},
   "outputs": [],
   "source": [
    "# There is very weak correlation between latitude and cloudiness"
   ]
  },
  {
   "cell_type": "markdown",
   "id": "a9b77bee",
   "metadata": {},
   "source": [
    "####  Southern Hemisphere - Cloudiness (%) vs. Latitude Linear Regression"
   ]
  },
  {
   "cell_type": "code",
   "execution_count": 42,
   "id": "678cefc7",
   "metadata": {},
   "outputs": [
    {
     "name": "stdout",
     "output_type": "stream",
     "text": [
      "The r-value is: 0.032266573650768404\n"
     ]
    },
    {
     "data": {
      "image/png": "[encoded data removed]",
      "text/plain": [
       "<Figure size 432x288 with 1 Axes>"
      ]
     },
     "metadata": {
      "needs_background": "light"
     },
     "output_type": "display_data"
    }
   ],
   "source": [
    "# Find cloudiness for southern latitudes\n",
    "s_cloudiness = southern_data['Cloudiness']\n",
    "\n",
    "# Plot scatter plot with linear regression line\n",
    "plt.scatter(southern_latitude,s_cloudiness)\n",
    "plt.xlabel('Latitude')\n",
    "plt.ylabel('Cloudiness')\n",
    "slope, int, rvalue = linregress(southern_latitude,s_cloudiness)[0:3]\n",
    "line = slope * southern_latitude + int\n",
    "plt.plot(southern_latitude,line,\"--\")\n",
    "plt.savefig(f\"images/Cloudiness South Regression.png\", facecolor='w')\n",
    "\n",
    "# Print R value\n",
    "print(f'The r-value is: {rvalue}')\n",
    "\n",
    "# Add text\n",
    "line_eq = f'y = {round(slope,2)}x + {round(int,2)}'\n",
    "plt.annotate(line_eq,(-54,55),fontsize=15,color=\"red\")\n",
    "plt.show()"
   ]
  },
  {
   "cell_type": "code",
   "execution_count": 43,
   "id": "79b42b62",
   "metadata": {},
   "outputs": [],
   "source": [
    "# There is very weak correlation between latitude and cloudiness"
   ]
  },
  {
   "cell_type": "markdown",
   "id": "1e7e20e6",
   "metadata": {},
   "source": [
    "####  Northern Hemisphere - Wind Speed (mph) vs. Latitude Linear Regression"
   ]
  },
  {
   "cell_type": "code",
   "execution_count": 46,
   "id": "2c86b7c2",
   "metadata": {},
   "outputs": [
    {
     "name": "stdout",
     "output_type": "stream",
     "text": [
      "The r-value is: -0.01795145770302353\n"
     ]
    },
    {
     "data": {
      "image/png": "[encoded data removed]",
      "text/plain": [
       "<Figure size 432x288 with 1 Axes>"
      ]
     },
     "metadata": {
      "needs_background": "light"
     },
     "output_type": "display_data"
    }
   ],
   "source": [
    "# Find wind speed for northern latitudes\n",
    "n_wind = northern_data['Wind Speed']\n",
    "\n",
    "# Plot scatter plot with linear regression line\n",
    "plt.scatter(northern_latitude,n_wind)\n",
    "plt.xlabel('Latitude')\n",
    "plt.ylabel('Wind Speed')\n",
    "slope, int, rvalue = linregress(northern_latitude,n_wind)[0:3]\n",
    "line = slope * northern_latitude + int\n",
    "plt.plot(northern_latitude,line)\n",
    "plt.savefig(f\"images/Wind North Regression.png\", facecolor='w')\n",
    "\n",
    "# Print R value\n",
    "print(f'The r-value is: {rvalue}')\n",
    "\n",
    "# Add text\n",
    "line_eq = f'y = {round(slope,2)}x + {round(int,2)}'\n",
    "plt.annotate(line_eq,(10,25),fontsize=15,color=\"red\")\n",
    "plt.show()"
   ]
  },
  {
   "cell_type": "code",
   "execution_count": 47,
   "id": "c7bbc250",
   "metadata": {},
   "outputs": [],
   "source": [
    "# There is very weak correlation between latitude and wind speed"
   ]
  },
  {
   "cell_type": "markdown",
   "id": "c779a9b9",
   "metadata": {},
   "source": [
    "####  Southern Hemisphere - Wind Speed (mph) vs. Latitude Linear Regression"
   ]
  },
  {
   "cell_type": "code",
   "execution_count": 49,
   "id": "ebc7f41c",
   "metadata": {},
   "outputs": [
    {
     "name": "stdout",
     "output_type": "stream",
     "text": [
      "The r-value is: -0.1762055711216624\n"
     ]
    },
    {
     "data": {
      "image/png": "[encoded data removed]",
      "text/plain": [
       "<Figure size 432x288 with 1 Axes>"
      ]
     },
     "metadata": {
      "needs_background": "light"
     },
     "output_type": "display_data"
    }
   ],
   "source": [
    "# Find wind speed for southern latitudes\n",
    "s_wind = southern_data['Wind Speed']\n",
    "\n",
    "# Plot scatter plot with linear regression line\n",
    "plt.scatter(southern_latitude,s_wind)\n",
    "plt.xlabel('Latitude')\n",
    "plt.ylabel('Wind Speed')\n",
    "slope, int, rvalue = linregress(southern_latitude,s_wind)[0:3]\n",
    "line = slope * southern_latitude + int\n",
    "plt.plot(southern_latitude,line,\"--\")\n",
    "plt.savefig(f\"images/Wind South Regression.png\", facecolor='w')\n",
    "\n",
    "# Print R value\n",
    "print(f'The r-value is: {rvalue}')\n",
    "\n",
    "# Add text\n",
    "line_eq = f'y = {round(slope,2)}x + {round(int,2)}'\n",
    "plt.annotate(line_eq,(-55,25),fontsize=15,color=\"red\")\n",
    "plt.show()"
   ]
  },
  {
   "cell_type": "code",
   "execution_count": 50,
   "id": "75c7f19f",
   "metadata": {},
   "outputs": [],
   "source": [
    "# There is very weak correlation between latitude and wind speed"
   ]
  },
  {
   "cell_type": "code",
   "execution_count": null,
   "id": "b959c158",
   "metadata": {},
   "outputs": [],
   "source": []
  }
 ],
 "metadata": {
  "kernelspec": {
   "display_name": "Python 3",
   "language": "python",
   "name": "python3"
  },
  "language_info": {
   "codemirror_mode": {
    "name": "ipython",
    "version": 3
   },
   "file_extension": ".py",
   "mimetype": "text/x-python",
   "name": "python",
   "nbconvert_exporter": "python",
   "pygments_lexer": "ipython3",
   "version": "3.8.8"
  }
 },
 "nbformat": 4,
 "nbformat_minor": 5
}
