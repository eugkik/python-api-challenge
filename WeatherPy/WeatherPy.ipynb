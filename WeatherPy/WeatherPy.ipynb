{
 "cells": [
  {
   "cell_type": "markdown",
   "id": "aeda3daa",
   "metadata": {},
   "source": [
    "# WeatherPy"
   ]
  },
  {
   "cell_type": "code",
   "execution_count": 5,
   "id": "c8a8b60d",
   "metadata": {},
   "outputs": [],
   "source": [
    "# Dependencies and Setup\n",
    "import matplotlib.pyplot as plt\n",
    "import pandas as pd\n",
    "import numpy as np\n",
    "import requests\n",
    "import time\n",
    "from scipy.stats import linregress\n",
    "\n",
    "# Import API key\n",
    "from api_keys import weather_api_key\n",
    "\n",
    "# Incorporated citipy to determine city based on latitude and longitude\n",
    "from citipy import citipy\n",
    "\n",
    "# Output File (CSV)\n",
    "output_data_file = \"../output_data/cities.csv\"\n",
    "\n",
    "# Range of latitudes and longitudes\n",
    "lat_range = (-90, 90)\n",
    "lng_range = (-180, 180)"
   ]
  },
  {
   "cell_type": "code",
   "execution_count": 7,
   "id": "73b5aaec",
   "metadata": {},
   "outputs": [
    {
     "data": {
      "text/plain": [
       "17"
      ]
     },
     "execution_count": 7,
     "metadata": {},
     "output_type": "execute_result"
    }
   ],
   "source": [
    "# List for holding lat_lngs and cities\n",
    "lat_lngs = []\n",
    "cities = []\n",
    "\n",
    "# Create a set of random lat and lng combinations\n",
    "lats = np.random.uniform(lat_range[0], lat_range[1], size=20)\n",
    "lngs = np.random.uniform(lng_range[0], lng_range[1], size=20)\n",
    "lat_lngs = zip(lats, lngs)\n",
    "\n",
    "# Identify nearest city for each lat, lng combination\n",
    "for lat_lng in lat_lngs:\n",
    "    city = citipy.nearest_city(lat_lng[0], lat_lng[1]).city_name\n",
    "    \n",
    "    # If the city is unique, then add it to a our cities list\n",
    "    if city not in cities:\n",
    "        cities.append(city)\n",
    "\n",
    "# Print the city count to confirm sufficient count\n",
    "len(cities)"
   ]
  },
  {
   "cell_type": "code",
   "execution_count": 8,
   "id": "f9e1dbfa",
   "metadata": {},
   "outputs": [
    {
     "data": {
      "text/plain": [
       "['adrar',\n",
       " 'yellowknife',\n",
       " 'mys shmidta',\n",
       " 'batticaloa',\n",
       " 'dikson',\n",
       " 'cape town',\n",
       " 'hilo',\n",
       " 'ancud',\n",
       " 'richards bay',\n",
       " 'rikitea',\n",
       " 'mataura',\n",
       " 'belushya guba',\n",
       " 'ushuaia',\n",
       " 'turbat',\n",
       " 'maniitsoq',\n",
       " 'tarakan',\n",
       " 'barrow']"
      ]
     },
     "execution_count": 8,
     "metadata": {},
     "output_type": "execute_result"
    }
   ],
   "source": [
    "cities"
   ]
  },
  {
   "cell_type": "code",
   "execution_count": 9,
   "id": "47724ffa",
   "metadata": {},
   "outputs": [],
   "source": [
    "# Create new dataframe with cities\n",
    "weather_df = pd.DataFrame(cities, columns = ['City'])"
   ]
  },
  {
   "cell_type": "code",
   "execution_count": 10,
   "id": "da822d03",
   "metadata": {},
   "outputs": [
    {
     "name": "stdout",
     "output_type": "stream",
     "text": [
      "Beginning Data Retrieval\n",
      "------------------------\n",
      "Processing Record 0 | adrar\n",
      "Processing Record 1 | yellowknife\n",
      "Processing Record 2 | mys shmidta\n",
      "City not found.  Skipping...\n",
      "Processing Record 3 | batticaloa\n",
      "Processing Record 4 | dikson\n",
      "Processing Record 5 | cape town\n",
      "Processing Record 6 | hilo\n",
      "Processing Record 7 | ancud\n",
      "Processing Record 8 | richards bay\n",
      "Processing Record 9 | rikitea\n",
      "Processing Record 10 | mataura\n",
      "Processing Record 11 | belushya guba\n",
      "City not found.  Skipping...\n",
      "Processing Record 12 | ushuaia\n",
      "Processing Record 13 | turbat\n",
      "Processing Record 14 | maniitsoq\n",
      "Processing Record 15 | tarakan\n",
      "Processing Record 16 | barrow\n",
      "------------------------\n",
      "Data Retrieval Complete\n",
      "------------------------\n"
     ]
    }
   ],
   "source": [
    "# Import google API key\n",
    "from api_keys import g_key\n",
    "\n",
    "# Set variables for weather API calls\n",
    "weather_url = \"http://api.openweathermap.org/data/2.5/weather\"\n",
    "params = {'appid':weather_api_key,\n",
    "         'units':'imperial'}\n",
    "\n",
    "# Print output of API calls\n",
    "print('Beginning Data Retrieval')\n",
    "print('------------------------')\n",
    "\n",
    "# Store weather data into dataframe for each city\n",
    "for index, row in weather_df.iterrows():\n",
    "    params['q'] = row['City']\n",
    "    response = requests.get(weather_url, params).json()\n",
    "    try:\n",
    "        print(f\"Processing Record {index} | {row['City']}\")\n",
    "        weather_df.loc[index,'Lat'] = response['coord']['lat']\n",
    "        weather_df.loc[index,'Lng'] = response['coord']['lon']\n",
    "        weather_df.loc[index,'Max Temp'] = response['main']['temp_max']\n",
    "        weather_df.loc[index,'Humidity'] = response['main']['humidity']\n",
    "        weather_df.loc[index,'Cloudiness'] = response['clouds']['all']\n",
    "        weather_df.loc[index,'Wind Speed'] = response['wind']['speed']\n",
    "        weather_df.loc[index,'Country'] = response['sys']['country']        \n",
    "        weather_df.loc[index,'Date'] = response['dt']\n",
    "    except:\n",
    "        print('City not found.  Skipping...')\n",
    "print('------------------------')\n",
    "print('Data Retrieval Complete')\n",
    "print('------------------------')\n",
    "        "
   ]
  },
  {
   "cell_type": "code",
   "execution_count": 29,
   "id": "d0694d4b",
   "metadata": {},
   "outputs": [],
   "source": [
    "# Remove cities not found, reset index, and export into csv file\n",
    "weather_df.dropna(inplace=True)\n",
    "weather_df.reset_index(inplace=True)\n",
    "weather_df.to_csv(output_data_file, header=True)"
   ]
  },
  {
   "cell_type": "markdown",
   "id": "dc61f55c",
   "metadata": {},
   "source": [
    "## Inspect the data and remove the cities where the humidity > 100%."
   ]
  },
  {
   "cell_type": "code",
   "execution_count": 31,
   "id": "88687ab1",
   "metadata": {},
   "outputs": [
    {
     "data": {
      "text/html": [
       "<div>\n",
       "<style scoped>\n",
       "    .dataframe tbody tr th:only-of-type {\n",
       "        vertical-align: middle;\n",
       "    }\n",
       "\n",
       "    .dataframe tbody tr th {\n",
       "        vertical-align: top;\n",
       "    }\n",
       "\n",
       "    .dataframe thead th {\n",
       "        text-align: right;\n",
       "    }\n",
       "</style>\n",
       "<table border=\"1\" class=\"dataframe\">\n",
       "  <thead>\n",
       "    <tr style=\"text-align: right;\">\n",
       "      <th></th>\n",
       "      <th>level_0</th>\n",
       "      <th>index</th>\n",
       "      <th>Lat</th>\n",
       "      <th>Lng</th>\n",
       "      <th>Max Temp</th>\n",
       "      <th>Humidity</th>\n",
       "      <th>Cloudiness</th>\n",
       "      <th>Wind Speed</th>\n",
       "      <th>Date</th>\n",
       "    </tr>\n",
       "  </thead>\n",
       "  <tbody>\n",
       "    <tr>\n",
       "      <th>count</th>\n",
       "      <td>15.000000</td>\n",
       "      <td>15.000000</td>\n",
       "      <td>15.000000</td>\n",
       "      <td>15.000000</td>\n",
       "      <td>15.000000</td>\n",
       "      <td>15.000000</td>\n",
       "      <td>15.000000</td>\n",
       "      <td>15.000000</td>\n",
       "      <td>1.500000e+01</td>\n",
       "    </tr>\n",
       "    <tr>\n",
       "      <th>mean</th>\n",
       "      <td>7.000000</td>\n",
       "      <td>8.200000</td>\n",
       "      <td>8.081540</td>\n",
       "      <td>-13.603367</td>\n",
       "      <td>65.214000</td>\n",
       "      <td>69.000000</td>\n",
       "      <td>59.266667</td>\n",
       "      <td>7.498667</td>\n",
       "      <td>1.627844e+09</td>\n",
       "    </tr>\n",
       "    <tr>\n",
       "      <th>std</th>\n",
       "      <td>4.472136</td>\n",
       "      <td>5.087801</td>\n",
       "      <td>45.234268</td>\n",
       "      <td>103.861743</td>\n",
       "      <td>20.094018</td>\n",
       "      <td>22.303107</td>\n",
       "      <td>42.841013</td>\n",
       "      <td>6.121246</td>\n",
       "      <td>9.514640e+01</td>\n",
       "    </tr>\n",
       "    <tr>\n",
       "      <th>min</th>\n",
       "      <td>0.000000</td>\n",
       "      <td>0.000000</td>\n",
       "      <td>-54.800000</td>\n",
       "      <td>-156.788700</td>\n",
       "      <td>39.360000</td>\n",
       "      <td>18.000000</td>\n",
       "      <td>0.000000</td>\n",
       "      <td>1.010000</td>\n",
       "      <td>1.627844e+09</td>\n",
       "    </tr>\n",
       "    <tr>\n",
       "      <th>25%</th>\n",
       "      <td>3.500000</td>\n",
       "      <td>4.500000</td>\n",
       "      <td>-31.354400</td>\n",
       "      <td>-94.086400</td>\n",
       "      <td>47.930000</td>\n",
       "      <td>60.500000</td>\n",
       "      <td>15.000000</td>\n",
       "      <td>3.860000</td>\n",
       "      <td>1.627844e+09</td>\n",
       "    </tr>\n",
       "    <tr>\n",
       "      <th>50%</th>\n",
       "      <td>7.000000</td>\n",
       "      <td>8.000000</td>\n",
       "      <td>7.710200</td>\n",
       "      <td>-10.071100</td>\n",
       "      <td>63.810000</td>\n",
       "      <td>74.000000</td>\n",
       "      <td>68.000000</td>\n",
       "      <td>5.750000</td>\n",
       "      <td>1.627844e+09</td>\n",
       "    </tr>\n",
       "    <tr>\n",
       "      <th>75%</th>\n",
       "      <td>10.500000</td>\n",
       "      <td>12.500000</td>\n",
       "      <td>44.229150</td>\n",
       "      <td>71.795200</td>\n",
       "      <td>81.140000</td>\n",
       "      <td>82.000000</td>\n",
       "      <td>100.000000</td>\n",
       "      <td>8.600000</td>\n",
       "      <td>1.627844e+09</td>\n",
       "    </tr>\n",
       "    <tr>\n",
       "      <th>max</th>\n",
       "      <td>14.000000</td>\n",
       "      <td>16.000000</td>\n",
       "      <td>73.506900</td>\n",
       "      <td>168.864300</td>\n",
       "      <td>102.090000</td>\n",
       "      <td>98.000000</td>\n",
       "      <td>100.000000</td>\n",
       "      <td>23.890000</td>\n",
       "      <td>1.627844e+09</td>\n",
       "    </tr>\n",
       "  </tbody>\n",
       "</table>\n",
       "</div>"
      ],
      "text/plain": [
       "         level_0      index        Lat         Lng    Max Temp   Humidity  \\\n",
       "count  15.000000  15.000000  15.000000   15.000000   15.000000  15.000000   \n",
       "mean    7.000000   8.200000   8.081540  -13.603367   65.214000  69.000000   \n",
       "std     4.472136   5.087801  45.234268  103.861743   20.094018  22.303107   \n",
       "min     0.000000   0.000000 -54.800000 -156.788700   39.360000  18.000000   \n",
       "25%     3.500000   4.500000 -31.354400  -94.086400   47.930000  60.500000   \n",
       "50%     7.000000   8.000000   7.710200  -10.071100   63.810000  74.000000   \n",
       "75%    10.500000  12.500000  44.229150   71.795200   81.140000  82.000000   \n",
       "max    14.000000  16.000000  73.506900  168.864300  102.090000  98.000000   \n",
       "\n",
       "       Cloudiness  Wind Speed          Date  \n",
       "count   15.000000   15.000000  1.500000e+01  \n",
       "mean    59.266667    7.498667  1.627844e+09  \n",
       "std     42.841013    6.121246  9.514640e+01  \n",
       "min      0.000000    1.010000  1.627844e+09  \n",
       "25%     15.000000    3.860000  1.627844e+09  \n",
       "50%     68.000000    5.750000  1.627844e+09  \n",
       "75%    100.000000    8.600000  1.627844e+09  \n",
       "max    100.000000   23.890000  1.627844e+09  "
      ]
     },
     "execution_count": 31,
     "metadata": {},
     "output_type": "execute_result"
    }
   ],
   "source": [
    "weather_df.describe()"
   ]
  },
  {
   "cell_type": "markdown",
   "id": "82f531ee",
   "metadata": {},
   "source": [
    "## Latitude vs. Temperature Plot"
   ]
  },
  {
   "cell_type": "code",
   "execution_count": 32,
   "id": "943c4854",
   "metadata": {},
   "outputs": [],
   "source": [
    "clean_city_data = weather_df\n",
    "latitude = clean_city_data['Lat']"
   ]
  },
  {
   "cell_type": "code",
   "execution_count": 33,
   "id": "98eba09d",
   "metadata": {},
   "outputs": [
    {
     "data": {
      "image/png": "[encoded data removed]",
      "text/plain": [
       "<Figure size 432x288 with 1 Axes>"
      ]
     },
     "metadata": {
      "needs_background": "light"
     },
     "output_type": "display_data"
    }
   ],
   "source": [
    "# Plot latitude vs temp\n",
    "temp = clean_city_data['Max Temp']\n",
    "plt.scatter(latitude,temp)\n",
    "plt.xlabel('Latitude')\n",
    "plt.ylabel('Max Temperature (F)')\n",
    "plt.title('City Latitude vs. Max Temperature (8/1/2021)')\n",
    "plt.grid()\n",
    "plt.show()"
   ]
  },
  {
   "cell_type": "markdown",
   "id": "4abc183f",
   "metadata": {},
   "source": [
    "## Latitude vs. Humidity Plot"
   ]
  },
  {
   "cell_type": "code",
   "execution_count": 34,
   "id": "38cbd2e1",
   "metadata": {},
   "outputs": [
    {
     "data": {
      "image/png": "[encoded data removed]",
      "text/plain": [
       "<Figure size 432x288 with 1 Axes>"
      ]
     },
     "metadata": {
      "needs_background": "light"
     },
     "output_type": "display_data"
    }
   ],
   "source": [
    "# Plot latitude vs. humidity\n",
    "humidity = clean_city_data['Humidity']\n",
    "plt.scatter(latitude,humidity)\n",
    "plt.xlabel('Latitude')\n",
    "plt.ylabel('Humidity (%)')\n",
    "plt.title('City Latitude vs. Humidity (8/1/2021)')\n",
    "plt.grid()\n",
    "plt.show()"
   ]
  },
  {
   "cell_type": "markdown",
   "id": "77f73caf",
   "metadata": {},
   "source": [
    "## Latitude vs. Cloudiness Plot"
   ]
  },
  {
   "cell_type": "code",
   "execution_count": 36,
   "id": "2c7c8d3b",
   "metadata": {},
   "outputs": [
    {
     "data": {
      "image/png": "[encoded data removed]",
      "text/plain": [
       "<Figure size 432x288 with 1 Axes>"
      ]
     },
     "metadata": {
      "needs_background": "light"
     },
     "output_type": "display_data"
    }
   ],
   "source": [
    "# Plot latitude vs cloudiness\n",
    "cloudiness = clean_city_data['Cloudiness']\n",
    "plt.scatter(latitude,cloudiness)\n",
    "plt.xlabel('Latitude')\n",
    "plt.ylabel('Cloudiness (%)')\n",
    "plt.title('City Latitude vs. Cloudiness (8/1/2021)')\n",
    "plt.grid()\n",
    "plt.show()"
   ]
  },
  {
   "cell_type": "markdown",
   "id": "8222fda1",
   "metadata": {},
   "source": [
    "## Latitude vs. Wind Speed Plot"
   ]
  },
  {
   "cell_type": "code",
   "execution_count": 37,
   "id": "aee5eacf",
   "metadata": {},
   "outputs": [
    {
     "data": {
      "image/png": "[encoded data removed]",
      "text/plain": [
       "<Figure size 432x288 with 1 Axes>"
      ]
     },
     "metadata": {
      "needs_background": "light"
     },
     "output_type": "display_data"
    }
   ],
   "source": [
    "# Plot latitude vs wind speed\n",
    "wind_speed = clean_city_data['Wind Speed']\n",
    "plt.scatter(latitude,wind_speed)\n",
    "plt.xlabel('Latitude')\n",
    "plt.ylabel('Wind Speed (mph)')\n",
    "plt.title('City Latitude vs. Wind Speed (8/1/2021)')\n",
    "plt.grid()\n",
    "plt.show()"
   ]
  },
  {
   "cell_type": "markdown",
   "id": "6a949884",
   "metadata": {},
   "source": [
    "## Linear Regression"
   ]
  },
  {
   "cell_type": "code",
   "execution_count": 38,
   "id": "97fd2555",
   "metadata": {},
   "outputs": [],
   "source": [
    "# Separate dataframe by Lat\n",
    "northern_data = clean_city_data.loc[clean_city_data['Lat']>=0]\n",
    "southern_data = clean_city_data.loc[clean_city_data['Lat']<0]"
   ]
  },
  {
   "cell_type": "code",
   "execution_count": 41,
   "id": "68900851",
   "metadata": {},
   "outputs": [],
   "source": [
    "# Set variables for northern and southern latitudes\n",
    "northern_latitude = northern_data['Lat']\n",
    "southern_latitude = southern_data['Lat']"
   ]
  },
  {
   "cell_type": "markdown",
   "id": "8d8a5966",
   "metadata": {},
   "source": [
    "####  Northern Hemisphere - Max Temp vs. Latitude Linear Regression"
   ]
  },
  {
   "cell_type": "code",
   "execution_count": 45,
   "id": "203032ff",
   "metadata": {},
   "outputs": [
    {
     "name": "stdout",
     "output_type": "stream",
     "text": [
      "The r-value is: -0.7425470214118096\n"
     ]
    },
    {
     "data": {
      "image/png": "[encoded data removed]",
      "text/plain": [
       "<Figure size 432x288 with 1 Axes>"
      ]
     },
     "metadata": {
      "needs_background": "light"
     },
     "output_type": "display_data"
    }
   ],
   "source": [
    "# Find max temp for northern latitudes\n",
    "n_temp = northern_data['Max Temp']\n",
    "\n",
    "# Plot scatter plot with linear regression line\n",
    "plt.scatter(northern_latitude,n_temp)\n",
    "plt.xlabel('Latitude')\n",
    "plt.ylabel('Max Temp')\n",
    "slope, int, rvalue = linregress(northern_latitude,n_temp)[0:3]\n",
    "line = slope * northern_latitude + int\n",
    "plt.plot(northern_latitude,line)\n",
    "\n",
    "# Print R value\n",
    "print(f'The r-value is: {rvalue}')\n",
    "\n",
    "# Add text\n",
    "line_eq = f'y = {round(slope,2)}x + {round(int,2)}'\n",
    "plt.annotate(line_eq,(15,55),fontsize=15,color=\"red\")\n",
    "plt.show()"
   ]
  },
  {
   "cell_type": "markdown",
   "id": "b76afe47",
   "metadata": {},
   "source": [
    "####  Southern Hemisphere - Max Temp vs. Latitude Linear Regression"
   ]
  },
  {
   "cell_type": "code",
   "execution_count": 48,
   "id": "7fe1f3cb",
   "metadata": {},
   "outputs": [
    {
     "name": "stdout",
     "output_type": "stream",
     "text": [
      "The r-value is: 0.9120737367507253\n"
     ]
    },
    {
     "data": {
      "image/png": "[encoded data removed]",
      "text/plain": [
       "<Figure size 432x288 with 1 Axes>"
      ]
     },
     "metadata": {
      "needs_background": "light"
     },
     "output_type": "display_data"
    }
   ],
   "source": [
    "# Find max temp for southern latitudes\n",
    "s_temp = southern_data['Max Temp']\n",
    "\n",
    "# Plot scatter plot with linear regression line\n",
    "plt.scatter(southern_latitude,s_temp)\n",
    "plt.xlabel('Latitude')\n",
    "plt.ylabel('Max Temp')\n",
    "slope, int, rvalue = linregress(southern_latitude,s_temp)[0:3]\n",
    "line = slope * southern_latitude + int\n",
    "plt.plot(southern_latitude,line,\"--\")\n",
    "\n",
    "# Print R value\n",
    "print(f'The r-value is: {rvalue}')\n",
    "\n",
    "# Add text\n",
    "line_eq = f'y = {round(slope,2)}x + {round(int,2)}'\n",
    "plt.annotate(line_eq,(-54,67),fontsize=15,color=\"red\")\n",
    "plt.show()"
   ]
  },
  {
   "cell_type": "markdown",
   "id": "51688428",
   "metadata": {},
   "source": [
    "####  Northern Hemisphere - Humidity (%) vs. Latitude Linear Regression"
   ]
  },
  {
   "cell_type": "code",
   "execution_count": 50,
   "id": "4782f948",
   "metadata": {},
   "outputs": [
    {
     "name": "stdout",
     "output_type": "stream",
     "text": [
      "The r-value is: 0.1778462287034101\n"
     ]
    },
    {
     "data": {
      "image/png": "[encoded data removed]",
      "text/plain": [
       "<Figure size 432x288 with 1 Axes>"
      ]
     },
     "metadata": {
      "needs_background": "light"
     },
     "output_type": "display_data"
    }
   ],
   "source": [
    "# Find humidity for northern latitudes\n",
    "n_humidity = northern_data['Humidity']\n",
    "\n",
    "# Plot scatter plot with linear regression line\n",
    "plt.scatter(northern_latitude,n_humidity)\n",
    "plt.xlabel('Latitude')\n",
    "plt.ylabel('Humidity')\n",
    "slope, int, rvalue = linregress(northern_latitude,n_humidity)[0:3]\n",
    "line = slope * northern_latitude + int\n",
    "plt.plot(northern_latitude,line)\n",
    "\n",
    "# Print R value\n",
    "print(f'The r-value is: {rvalue}')\n",
    "\n",
    "# Add text\n",
    "line_eq = f'y = {round(slope,2)}x + {round(int,2)}'\n",
    "plt.annotate(line_eq,(15,25),fontsize=15,color=\"red\")\n",
    "plt.show()"
   ]
  },
  {
   "cell_type": "markdown",
   "id": "4d4192bd",
   "metadata": {},
   "source": [
    "####  Southern Hemisphere - Humidity (%) vs. Latitude Linear Regression"
   ]
  },
  {
   "cell_type": "code",
   "execution_count": 59,
   "id": "c0f2efbc",
   "metadata": {},
   "outputs": [
    {
     "name": "stdout",
     "output_type": "stream",
     "text": [
      "The r-value is: -0.1657460123394284\n"
     ]
    },
    {
     "data": {
      "image/png": "[encoded data removed]",
      "text/plain": [
       "<Figure size 432x288 with 1 Axes>"
      ]
     },
     "metadata": {
      "needs_background": "light"
     },
     "output_type": "display_data"
    }
   ],
   "source": [
    "# Find humidity for southern latitudes\n",
    "s_humidity = southern_data['Humidity']\n",
    "\n",
    "# Plot scatter plot with linear regression line\n",
    "plt.scatter(southern_latitude,s_humidity)\n",
    "plt.xlabel('Latitude')\n",
    "plt.ylabel('Humidity')\n",
    "slope, int, rvalue = linregress(southern_latitude,s_humidity)[0:3]\n",
    "line = slope * southern_latitude + int\n",
    "plt.plot(southern_latitude,line,\"--\")\n",
    "\n",
    "# Print R value\n",
    "print(f'The r-value is: {rvalue}')\n",
    "\n",
    "# Add text\n",
    "line_eq = f'y = {round(slope,2)}x + {round(int,2)}'\n",
    "plt.annotate(line_eq,(-54,67),fontsize=15,color=\"red\")\n",
    "plt.show()"
   ]
  },
  {
   "cell_type": "markdown",
   "id": "e37120ff",
   "metadata": {},
   "source": [
    "####  Northern Hemisphere - Cloudiness (%) vs. Latitude Linear Regression"
   ]
  },
  {
   "cell_type": "code",
   "execution_count": 58,
   "id": "2840fe88",
   "metadata": {},
   "outputs": [
    {
     "name": "stdout",
     "output_type": "stream",
     "text": [
      "The r-value is: -0.3344065236528081\n"
     ]
    },
    {
     "data": {
      "image/png": "[encoded data removed]",
      "text/plain": [
       "<Figure size 432x288 with 1 Axes>"
      ]
     },
     "metadata": {
      "needs_background": "light"
     },
     "output_type": "display_data"
    }
   ],
   "source": [
    "# Find cloudiness for northern latitudes\n",
    "n_cloudiness = northern_data['Cloudiness']\n",
    "\n",
    "# Plot scatter plot with linear regression line\n",
    "plt.scatter(northern_latitude,n_cloudiness)\n",
    "plt.xlabel('Latitude')\n",
    "plt.ylabel('Cloudiness')\n",
    "slope, int, rvalue = linregress(northern_latitude,n_cloudiness)[0:3]\n",
    "line = slope * northern_latitude + int\n",
    "plt.plot(northern_latitude,line)\n",
    "\n",
    "# Print R value\n",
    "print(f'The r-value is: {rvalue}')\n",
    "\n",
    "# Add text\n",
    "line_eq = f'y = {round(slope,2)}x + {round(int,2)}'\n",
    "plt.annotate(line_eq,(10,10),fontsize=15,color=\"red\")\n",
    "plt.show()"
   ]
  },
  {
   "cell_type": "markdown",
   "id": "a9b77bee",
   "metadata": {},
   "source": [
    "####  Southern Hemisphere - Cloudiness (%) vs. Latitude Linear Regression"
   ]
  },
  {
   "cell_type": "code",
   "execution_count": 56,
   "id": "678cefc7",
   "metadata": {},
   "outputs": [
    {
     "name": "stdout",
     "output_type": "stream",
     "text": [
      "The r-value is: 0.29996877798780164\n"
     ]
    },
    {
     "data": {
      "image/png": "[encoded data removed]",
      "text/plain": [
       "<Figure size 432x288 with 1 Axes>"
      ]
     },
     "metadata": {
      "needs_background": "light"
     },
     "output_type": "display_data"
    }
   ],
   "source": [
    "# Find cloudiness for southern latitudes\n",
    "s_cloudiness = southern_data['Cloudiness']\n",
    "\n",
    "# Plot scatter plot with linear regression line\n",
    "plt.scatter(southern_latitude,s_cloudiness)\n",
    "plt.xlabel('Latitude')\n",
    "plt.ylabel('Cloudiness')\n",
    "slope, int, rvalue = linregress(southern_latitude,s_cloudiness)[0:3]\n",
    "line = slope * southern_latitude + int\n",
    "plt.plot(southern_latitude,line,\"--\")\n",
    "\n",
    "# Print R value\n",
    "print(f'The r-value is: {rvalue}')\n",
    "\n",
    "# Add text\n",
    "line_eq = f'y = {round(slope,2)}x + {round(int,2)}'\n",
    "plt.annotate(line_eq,(-54,90),fontsize=15,color=\"red\")\n",
    "plt.show()"
   ]
  },
  {
   "cell_type": "markdown",
   "id": "1e7e20e6",
   "metadata": {},
   "source": [
    "####  Northern Hemisphere - Wind Speed (mph) vs. Latitude Linear Regression"
   ]
  },
  {
   "cell_type": "code",
   "execution_count": 61,
   "id": "2c86b7c2",
   "metadata": {},
   "outputs": [
    {
     "name": "stdout",
     "output_type": "stream",
     "text": [
      "The r-value is: 0.18555743912171702\n"
     ]
    },
    {
     "data": {
      "image/png": "[encoded data removed]",
      "text/plain": [
       "<Figure size 432x288 with 1 Axes>"
      ]
     },
     "metadata": {
      "needs_background": "light"
     },
     "output_type": "display_data"
    }
   ],
   "source": [
    "# Find wind speed for northern latitudes\n",
    "n_wind = northern_data['Wind Speed']\n",
    "\n",
    "# Plot scatter plot with linear regression line\n",
    "plt.scatter(northern_latitude,n_wind)\n",
    "plt.xlabel('Latitude')\n",
    "plt.ylabel('Wind Speed')\n",
    "slope, int, rvalue = linregress(northern_latitude,n_wind)[0:3]\n",
    "line = slope * northern_latitude + int\n",
    "plt.plot(northern_latitude,line)\n",
    "\n",
    "# Print R value\n",
    "print(f'The r-value is: {rvalue}')\n",
    "\n",
    "# Add text\n",
    "line_eq = f'y = {round(slope,2)}x + {round(int,2)}'\n",
    "plt.annotate(line_eq,(10,16),fontsize=15,color=\"red\")\n",
    "plt.show()"
   ]
  },
  {
   "cell_type": "markdown",
   "id": "c779a9b9",
   "metadata": {},
   "source": [
    "####  Southern Hemisphere - Wind Speed (mph) vs. Latitude Linear Regression"
   ]
  },
  {
   "cell_type": "code",
   "execution_count": 63,
   "id": "ebc7f41c",
   "metadata": {},
   "outputs": [
    {
     "name": "stdout",
     "output_type": "stream",
     "text": [
      "The r-value is: 0.5264113955767803\n"
     ]
    },
    {
     "data": {
      "image/png": "[encoded data removed]",
      "text/plain": [
       "<Figure size 432x288 with 1 Axes>"
      ]
     },
     "metadata": {
      "needs_background": "light"
     },
     "output_type": "display_data"
    }
   ],
   "source": [
    "# Find wind speed for southern latitudes\n",
    "s_wind = southern_data['Wind Speed']\n",
    "\n",
    "# Plot scatter plot with linear regression line\n",
    "plt.scatter(southern_latitude,s_wind)\n",
    "plt.xlabel('Latitude')\n",
    "plt.ylabel('Wind Speed')\n",
    "slope, int, rvalue = linregress(southern_latitude,s_wind)[0:3]\n",
    "line = slope * southern_latitude + int\n",
    "plt.plot(southern_latitude,line,\"--\")\n",
    "\n",
    "# Print R value\n",
    "print(f'The r-value is: {rvalue}')\n",
    "\n",
    "# Add text\n",
    "line_eq = f'y = {round(slope,2)}x + {round(int,2)}'\n",
    "plt.annotate(line_eq,(-55,20),fontsize=15,color=\"red\")\n",
    "plt.show()"
   ]
  },
  {
   "cell_type": "code",
   "execution_count": null,
   "id": "75c7f19f",
   "metadata": {},
   "outputs": [],
   "source": []
  }
 ],
 "metadata": {
  "kernelspec": {
   "display_name": "Python 3",
   "language": "python",
   "name": "python3"
  },
  "language_info": {
   "codemirror_mode": {
    "name": "ipython",
    "version": 3
   },
   "file_extension": ".py",
   "mimetype": "text/x-python",
   "name": "python",
   "nbconvert_exporter": "python",
   "pygments_lexer": "ipython3",
   "version": "3.8.8"
  }
 },
 "nbformat": 4,
 "nbformat_minor": 5
}
