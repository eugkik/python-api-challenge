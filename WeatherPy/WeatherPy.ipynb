{
 "cells": [
  {
   "cell_type": "markdown",
   "id": "aeda3daa",
   "metadata": {},
   "source": [
    "# WeatherPy"
   ]
  },
  {
   "cell_type": "code",
   "execution_count": 1,
   "id": "c8a8b60d",
   "metadata": {},
   "outputs": [],
   "source": [
    "# Dependencies and Setup\n",
    "import matplotlib.pyplot as plt\n",
    "import pandas as pd\n",
    "import numpy as np\n",
    "import requests\n",
    "import time\n",
    "from scipy.stats import linregress\n",
    "\n",
    "# Import API key\n",
    "from api_keys import weather_api_key\n",
    "\n",
    "# Incorporated citipy to determine city based on latitude and longitude\n",
    "from citipy import citipy\n",
    "\n",
    "# Output File (CSV)\n",
    "output_data_file = \"../output_data/cities.csv\"\n",
    "\n",
    "# Range of latitudes and longitudes\n",
    "lat_range = (-90, 90)\n",
    "lng_range = (-180, 180)"
   ]
  },
  {
   "cell_type": "code",
   "execution_count": 2,
   "id": "73b5aaec",
   "metadata": {},
   "outputs": [
    {
     "data": {
      "text/plain": [
       "616"
      ]
     },
     "execution_count": 2,
     "metadata": {},
     "output_type": "execute_result"
    }
   ],
   "source": [
    "# List for holding lat_lngs and cities\n",
    "lat_lngs = []\n",
    "cities = []\n",
    "\n",
    "# Create a set of random lat and lng combinations\n",
    "lats = np.random.uniform(lat_range[0], lat_range[1], size=1500)\n",
    "lngs = np.random.uniform(lng_range[0], lng_range[1], size=1500)\n",
    "lat_lngs = zip(lats, lngs)\n",
    "\n",
    "# Identify nearest city for each lat, lng combination\n",
    "for lat_lng in lat_lngs:\n",
    "    city = citipy.nearest_city(lat_lng[0], lat_lng[1]).city_name\n",
    "    \n",
    "    # If the city is unique, then add it to a our cities list\n",
    "    if city not in cities:\n",
    "        cities.append(city)\n",
    "\n",
    "# Print the city count to confirm sufficient count\n",
    "len(cities)"
   ]
  },
  {
   "cell_type": "code",
   "execution_count": 3,
   "id": "47724ffa",
   "metadata": {},
   "outputs": [],
   "source": [
    "# Create new dataframe with cities\n",
    "weather_df = pd.DataFrame(cities, columns = ['City'])"
   ]
  },
  {
   "cell_type": "code",
   "execution_count": 5,
   "id": "4bc805e6",
   "metadata": {},
   "outputs": [
    {
     "name": "stdout",
     "output_type": "stream",
     "text": [
      "Beginning Data Retrieval\n",
      "------------------------\n",
      "Processing Record 1 of Set 1 | narsaq\n",
      "Processing Record 2 of Set 1 | bredasdorp\n",
      "Processing Record 3 of Set 1 | umm durman\n",
      "City not found.  Skipping...\n",
      "Processing Record 4 of Set 1 | lebu\n",
      "Processing Record 5 of Set 1 | vaini\n",
      "Processing Record 6 of Set 1 | khatanga\n",
      "Processing Record 7 of Set 1 | cape town\n",
      "Processing Record 8 of Set 1 | colborne\n",
      "Processing Record 9 of Set 1 | qaanaaq\n",
      "Processing Record 10 of Set 1 | bandarbeyla\n",
      "Processing Record 11 of Set 1 | saskylakh\n",
      "Processing Record 12 of Set 1 | saint george\n",
      "Processing Record 13 of Set 1 | arraial do cabo\n",
      "Processing Record 14 of Set 1 | oriximina\n",
      "Processing Record 15 of Set 1 | escada\n",
      "Processing Record 16 of Set 1 | attawapiskat\n",
      "City not found.  Skipping...\n",
      "Processing Record 17 of Set 1 | mocambique\n",
      "City not found.  Skipping...\n",
      "Processing Record 18 of Set 1 | ampanihy\n",
      "Processing Record 19 of Set 1 | pevek\n",
      "Processing Record 20 of Set 1 | bentiu\n",
      "Processing Record 21 of Set 1 | sentyabrskiy\n",
      "City not found.  Skipping...\n",
      "Processing Record 22 of Set 1 | bengkulu\n",
      "Processing Record 23 of Set 1 | mar del plata\n",
      "Processing Record 24 of Set 1 | taolanaro\n",
      "City not found.  Skipping...\n",
      "Processing Record 25 of Set 1 | la ronge\n",
      "Processing Record 26 of Set 1 | kachikau\n",
      "City not found.  Skipping...\n",
      "Processing Record 27 of Set 1 | wasilla\n",
      "Processing Record 28 of Set 1 | illoqqortoormiut\n",
      "City not found.  Skipping...\n",
      "Processing Record 29 of Set 1 | fairbanks\n",
      "Processing Record 30 of Set 1 | constitucion\n",
      "Processing Record 31 of Set 1 | bollnas\n",
      "Processing Record 32 of Set 1 | sar-e pul\n",
      "Processing Record 33 of Set 1 | severo-kurilsk\n",
      "Processing Record 34 of Set 1 | ibra\n",
      "Processing Record 35 of Set 1 | dikson\n",
      "Processing Record 36 of Set 1 | albany\n",
      "Processing Record 37 of Set 1 | kerteh\n",
      "City not found.  Skipping...\n",
      "Processing Record 38 of Set 1 | aklavik\n",
      "Processing Record 39 of Set 1 | talnakh\n",
      "Processing Record 40 of Set 1 | cherskiy\n",
      "Processing Record 41 of Set 1 | songkhla\n",
      "Processing Record 42 of Set 1 | jamestown\n",
      "Processing Record 43 of Set 1 | leningradskiy\n",
      "Processing Record 44 of Set 1 | miramar\n",
      "Processing Record 45 of Set 1 | nioki\n",
      "Processing Record 46 of Set 1 | chunskiy\n",
      "Processing Record 47 of Set 1 | yellowknife\n",
      "Processing Record 48 of Set 1 | klaksvik\n",
      "Processing Record 49 of Set 1 | hermanus\n",
      "Processing Record 50 of Set 1 | butaritari\n",
      "Processing Record 1 of Set 2 | temaraia\n",
      "City not found.  Skipping...\n",
      "Processing Record 2 of Set 2 | guerrero negro\n",
      "Processing Record 3 of Set 2 | tasiilaq\n",
      "Processing Record 4 of Set 2 | punta arenas\n",
      "Processing Record 5 of Set 2 | barentsburg\n",
      "City not found.  Skipping...\n",
      "Processing Record 6 of Set 2 | seidu\n",
      "Processing Record 7 of Set 2 | caruray\n",
      "Processing Record 8 of Set 2 | georgetown\n",
      "Processing Record 9 of Set 2 | kahului\n",
      "Processing Record 10 of Set 2 | fort saint john\n",
      "City not found.  Skipping...\n",
      "Processing Record 11 of Set 2 | thompson\n",
      "Processing Record 12 of Set 2 | amderma\n",
      "City not found.  Skipping...\n",
      "Processing Record 13 of Set 2 | kaitangata\n",
      "Processing Record 14 of Set 2 | atuona\n",
      "Processing Record 15 of Set 2 | mys shmidta\n",
      "City not found.  Skipping...\n",
      "Processing Record 16 of Set 2 | tateyama\n",
      "Processing Record 17 of Set 2 | jiuquan\n",
      "Processing Record 18 of Set 2 | hithadhoo\n",
      "Processing Record 19 of Set 2 | vostok\n",
      "Processing Record 20 of Set 2 | taltal\n",
      "Processing Record 21 of Set 2 | comodoro rivadavia\n",
      "Processing Record 22 of Set 2 | cayenne\n",
      "Processing Record 23 of Set 2 | upernavik\n",
      "Processing Record 24 of Set 2 | rikitea\n",
      "Processing Record 25 of Set 2 | port hueneme\n",
      "Processing Record 26 of Set 2 | olafsvik\n",
      "Processing Record 27 of Set 2 | hambantota\n",
      "Processing Record 28 of Set 2 | tuktoyaktuk\n",
      "Processing Record 29 of Set 2 | provideniya\n",
      "Processing Record 30 of Set 2 | lermontovka\n",
      "Processing Record 31 of Set 2 | broome\n",
      "Processing Record 32 of Set 2 | new norfolk\n",
      "Processing Record 33 of Set 2 | bathsheba\n",
      "Processing Record 34 of Set 2 | victoria\n",
      "Processing Record 35 of Set 2 | hobart\n",
      "Processing Record 36 of Set 2 | pangnirtung\n",
      "Processing Record 37 of Set 2 | lagoa\n",
      "Processing Record 38 of Set 2 | muros\n",
      "Processing Record 39 of Set 2 | nizhneyansk\n",
      "City not found.  Skipping...\n",
      "Processing Record 40 of Set 2 | tura\n",
      "Processing Record 41 of Set 2 | faanui\n",
      "Processing Record 42 of Set 2 | bambous virieux\n",
      "Processing Record 43 of Set 2 | esperance\n",
      "Processing Record 44 of Set 2 | carnarvon\n",
      "Processing Record 45 of Set 2 | san patricio\n",
      "Processing Record 46 of Set 2 | kapaa\n",
      "Processing Record 47 of Set 2 | yar-sale\n",
      "Processing Record 48 of Set 2 | ushuaia\n",
      "Processing Record 49 of Set 2 | hilo\n",
      "Processing Record 50 of Set 2 | airai\n",
      "Processing Record 1 of Set 3 | buraydah\n",
      "Processing Record 2 of Set 3 | morros\n",
      "Processing Record 3 of Set 3 | kodiak\n",
      "Processing Record 4 of Set 3 | grand river south east\n",
      "City not found.  Skipping...\n",
      "Processing Record 5 of Set 3 | barrow\n",
      "Processing Record 6 of Set 3 | souillac\n",
      "Processing Record 7 of Set 3 | mimongo\n",
      "Processing Record 8 of Set 3 | beringovskiy\n",
      "Processing Record 9 of Set 3 | port alfred\n",
      "Processing Record 10 of Set 3 | kazalinsk\n",
      "City not found.  Skipping...\n",
      "Processing Record 11 of Set 3 | stephenville\n",
      "Processing Record 12 of Set 3 | tiksi\n",
      "Processing Record 13 of Set 3 | lazaro cardenas\n",
      "Processing Record 14 of Set 3 | pachino\n",
      "Processing Record 15 of Set 3 | zaysan\n",
      "Processing Record 16 of Set 3 | rio grande\n",
      "Processing Record 17 of Set 3 | dzerzhinsk\n",
      "Processing Record 18 of Set 3 | mao\n",
      "Processing Record 19 of Set 3 | fort nelson\n",
      "Processing Record 20 of Set 3 | kalabo\n",
      "Processing Record 21 of Set 3 | boa vista\n",
      "Processing Record 22 of Set 3 | tuatapere\n",
      "Processing Record 23 of Set 3 | bluff\n",
      "Processing Record 24 of Set 3 | padang\n",
      "Processing Record 25 of Set 3 | arras\n",
      "Processing Record 26 of Set 3 | omboue\n",
      "Processing Record 27 of Set 3 | arlit\n",
      "Processing Record 28 of Set 3 | karratha\n",
      "Processing Record 29 of Set 3 | busselton\n",
      "Processing Record 30 of Set 3 | poum\n",
      "Processing Record 31 of Set 3 | katsiveli\n",
      "City not found.  Skipping...\n",
      "Processing Record 32 of Set 3 | barcelos\n",
      "Processing Record 33 of Set 3 | okmulgee\n",
      "Processing Record 34 of Set 3 | kruisfontein\n",
      "Processing Record 35 of Set 3 | sandwick\n",
      "Processing Record 36 of Set 3 | morondava\n",
      "Processing Record 37 of Set 3 | chuy\n",
      "Processing Record 38 of Set 3 | tsihombe\n",
      "City not found.  Skipping...\n",
      "Processing Record 39 of Set 3 | tagbac\n",
      "Processing Record 40 of Set 3 | dvinskoy\n",
      "Processing Record 41 of Set 3 | vagur\n",
      "Processing Record 42 of Set 3 | mataura\n",
      "Processing Record 43 of Set 3 | mount gambier\n",
      "Processing Record 44 of Set 3 | namatanai\n",
      "Processing Record 45 of Set 3 | vardo\n",
      "Processing Record 46 of Set 3 | jiddah\n",
      "City not found.  Skipping...\n",
      "Processing Record 47 of Set 3 | modica\n",
      "Processing Record 48 of Set 3 | dauphin\n",
      "Processing Record 49 of Set 3 | mahebourg\n",
      "Processing Record 50 of Set 3 | jining\n",
      "Processing Record 1 of Set 4 | east london\n",
      "Processing Record 2 of Set 4 | cruzeiro do sul\n",
      "Processing Record 3 of Set 4 | viedma\n",
      "Processing Record 4 of Set 4 | salalah\n",
      "Processing Record 5 of Set 4 | chokurdakh\n",
      "Processing Record 6 of Set 4 | urdzhar\n",
      "City not found.  Skipping...\n",
      "Processing Record 7 of Set 4 | la moncada\n",
      "Processing Record 8 of Set 4 | avanigadda\n",
      "Processing Record 9 of Set 4 | flinders\n",
      "Processing Record 10 of Set 4 | kavaratti\n",
      "Processing Record 11 of Set 4 | norman wells\n",
      "Processing Record 12 of Set 4 | krasnogorsk\n",
      "Processing Record 13 of Set 4 | williams lake\n",
      "Processing Record 14 of Set 4 | biak\n",
      "Processing Record 15 of Set 4 | araguaina\n",
      "Processing Record 16 of Set 4 | acajutla\n",
      "Processing Record 17 of Set 4 | longyearbyen\n",
      "Processing Record 18 of Set 4 | stepnoye\n",
      "Processing Record 19 of Set 4 | castro\n",
      "Processing Record 20 of Set 4 | roma\n",
      "Processing Record 21 of Set 4 | henties bay\n",
      "Processing Record 22 of Set 4 | sao filipe\n",
      "Processing Record 23 of Set 4 | atar\n",
      "Processing Record 24 of Set 4 | tumannyy\n",
      "City not found.  Skipping...\n",
      "Processing Record 25 of Set 4 | abu zabad\n",
      "Processing Record 26 of Set 4 | lang son\n",
      "Processing Record 27 of Set 4 | coihueco\n",
      "Processing Record 28 of Set 4 | nikolskoye\n",
      "Processing Record 29 of Set 4 | rawlins\n",
      "Processing Record 30 of Set 4 | verkhniy lomov\n",
      "Processing Record 31 of Set 4 | moravsky krumlov\n",
      "Processing Record 32 of Set 4 | celestun\n",
      "Processing Record 33 of Set 4 | andevoranto\n",
      "City not found.  Skipping...\n"
     ]
    },
    {
     "name": "stdout",
     "output_type": "stream",
     "text": [
      "Processing Record 34 of Set 4 | cabo san lucas\n",
      "Processing Record 35 of Set 4 | margate\n",
      "Processing Record 36 of Set 4 | alofi\n",
      "Processing Record 37 of Set 4 | marsa matruh\n",
      "Processing Record 38 of Set 4 | wakkanai\n",
      "Processing Record 39 of Set 4 | coquimbo\n",
      "Processing Record 40 of Set 4 | lompoc\n",
      "Processing Record 41 of Set 4 | yagodnoye\n",
      "Processing Record 42 of Set 4 | bethel\n",
      "Processing Record 43 of Set 4 | karauzyak\n",
      "City not found.  Skipping...\n",
      "Processing Record 44 of Set 4 | erzin\n",
      "Processing Record 45 of Set 4 | necochea\n",
      "Processing Record 46 of Set 4 | finote selam\n",
      "Processing Record 47 of Set 4 | saint-philippe\n",
      "Processing Record 48 of Set 4 | ibiruba\n",
      "Processing Record 49 of Set 4 | port elizabeth\n",
      "Processing Record 50 of Set 4 | harper\n",
      "Processing Record 1 of Set 5 | stromness\n",
      "Processing Record 2 of Set 5 | chegdomyn\n",
      "Processing Record 3 of Set 5 | axim\n",
      "Processing Record 4 of Set 5 | emba\n",
      "Processing Record 5 of Set 5 | quetzaltepec\n",
      "City not found.  Skipping...\n",
      "Processing Record 6 of Set 5 | bilma\n",
      "Processing Record 7 of Set 5 | metro\n",
      "Processing Record 8 of Set 5 | okhotsk\n",
      "Processing Record 9 of Set 5 | tautira\n",
      "Processing Record 10 of Set 5 | asuncion\n",
      "Processing Record 11 of Set 5 | udachnyy\n",
      "Processing Record 12 of Set 5 | russell\n",
      "Processing Record 13 of Set 5 | meulaboh\n",
      "Processing Record 14 of Set 5 | avarua\n",
      "Processing Record 15 of Set 5 | kosh-agach\n",
      "Processing Record 16 of Set 5 | torbat-e jam\n",
      "Processing Record 17 of Set 5 | torbay\n",
      "Processing Record 18 of Set 5 | katsuura\n",
      "Processing Record 19 of Set 5 | santa eulalia del rio\n",
      "City not found.  Skipping...\n",
      "Processing Record 20 of Set 5 | poli\n",
      "Processing Record 21 of Set 5 | sambava\n",
      "Processing Record 22 of Set 5 | vanavara\n",
      "Processing Record 23 of Set 5 | okitipupa\n",
      "Processing Record 24 of Set 5 | louisbourg\n",
      "City not found.  Skipping...\n",
      "Processing Record 25 of Set 5 | blenheim\n",
      "Processing Record 26 of Set 5 | kinango\n",
      "Processing Record 27 of Set 5 | ust-charyshskaya pristan\n",
      "Processing Record 28 of Set 5 | sucua\n",
      "Processing Record 29 of Set 5 | puerto ayora\n",
      "Processing Record 30 of Set 5 | peikang\n",
      "City not found.  Skipping...\n",
      "Processing Record 31 of Set 5 | pitea\n",
      "Processing Record 32 of Set 5 | goderich\n",
      "Processing Record 33 of Set 5 | husavik\n",
      "Processing Record 34 of Set 5 | xiongzhou\n",
      "Processing Record 35 of Set 5 | huangchuan\n",
      "Processing Record 36 of Set 5 | bykov\n",
      "Processing Record 37 of Set 5 | nabire\n",
      "Processing Record 38 of Set 5 | santo antonio do ica\n",
      "Processing Record 39 of Set 5 | saint-augustin\n",
      "Processing Record 40 of Set 5 | lavrentiya\n",
      "Processing Record 41 of Set 5 | teya\n",
      "Processing Record 42 of Set 5 | bairiki\n",
      "Processing Record 43 of Set 5 | ayagoz\n",
      "Processing Record 44 of Set 5 | arandis\n",
      "Processing Record 45 of Set 5 | verkhnevilyuysk\n",
      "Processing Record 46 of Set 5 | rehoboth\n",
      "Processing Record 47 of Set 5 | reforma\n",
      "Processing Record 48 of Set 5 | zhigansk\n",
      "Processing Record 49 of Set 5 | gamba\n",
      "Processing Record 50 of Set 5 | vientiane\n",
      "Processing Record 1 of Set 6 | grand centre\n",
      "City not found.  Skipping...\n",
      "Processing Record 2 of Set 6 | iqaluit\n",
      "Processing Record 3 of Set 6 | camacha\n",
      "Processing Record 4 of Set 6 | mecca\n",
      "Processing Record 5 of Set 6 | mount isa\n",
      "Processing Record 6 of Set 6 | lipany\n",
      "Processing Record 7 of Set 6 | sarangani\n",
      "Processing Record 8 of Set 6 | havelock\n",
      "Processing Record 9 of Set 6 | pangody\n",
      "Processing Record 10 of Set 6 | lata\n",
      "Processing Record 11 of Set 6 | sumbawa\n",
      "City not found.  Skipping...\n",
      "Processing Record 12 of Set 6 | ponta do sol\n",
      "Processing Record 13 of Set 6 | hattiesburg\n",
      "Processing Record 14 of Set 6 | aksu\n",
      "Processing Record 15 of Set 6 | hovd\n",
      "Processing Record 16 of Set 6 | haukipudas\n",
      "Processing Record 17 of Set 6 | dosso\n",
      "Processing Record 18 of Set 6 | moorhead\n",
      "Processing Record 19 of Set 6 | ouahigouya\n",
      "Processing Record 20 of Set 6 | laguna\n",
      "Processing Record 21 of Set 6 | bowen\n",
      "Processing Record 22 of Set 6 | esfarayen\n",
      "Processing Record 23 of Set 6 | olds\n",
      "Processing Record 24 of Set 6 | los llanos de aridane\n",
      "Processing Record 25 of Set 6 | dalianwan\n",
      "Processing Record 26 of Set 6 | ponta delgada\n",
      "Processing Record 27 of Set 6 | saldanha\n",
      "Processing Record 28 of Set 6 | orange cove\n",
      "Processing Record 29 of Set 6 | voh\n",
      "Processing Record 30 of Set 6 | rocha\n",
      "Processing Record 31 of Set 6 | banda aceh\n",
      "Processing Record 32 of Set 6 | codrington\n",
      "Processing Record 33 of Set 6 | mabaruma\n",
      "Processing Record 34 of Set 6 | denison\n",
      "Processing Record 35 of Set 6 | duncan\n",
      "Processing Record 36 of Set 6 | vrangel\n",
      "Processing Record 37 of Set 6 | santa cruz\n",
      "Processing Record 38 of Set 6 | uruguaiana\n",
      "Processing Record 39 of Set 6 | yaan\n",
      "Processing Record 40 of Set 6 | ribeira grande\n",
      "Processing Record 41 of Set 6 | pisco\n",
      "Processing Record 42 of Set 6 | tabiauea\n",
      "City not found.  Skipping...\n",
      "Processing Record 43 of Set 6 | berwick\n",
      "Processing Record 44 of Set 6 | matadi\n",
      "Processing Record 45 of Set 6 | clyde river\n",
      "Processing Record 46 of Set 6 | port hardy\n",
      "Processing Record 47 of Set 6 | caraballeda\n",
      "Processing Record 48 of Set 6 | binga\n",
      "Processing Record 49 of Set 6 | petropavlovsk-kamchatskiy\n",
      "Processing Record 50 of Set 6 | sabha\n",
      "Processing Record 1 of Set 7 | luchegorsk\n",
      "Processing Record 2 of Set 7 | fredericton\n",
      "Processing Record 3 of Set 7 | caravelas\n",
      "Processing Record 4 of Set 7 | saleaula\n",
      "City not found.  Skipping...\n",
      "Processing Record 5 of Set 7 | dakar\n",
      "Processing Record 6 of Set 7 | sisimiut\n",
      "Processing Record 7 of Set 7 | vagamo\n",
      "Processing Record 8 of Set 7 | nanortalik\n",
      "Processing Record 9 of Set 7 | coahuayana\n",
      "Processing Record 10 of Set 7 | acarau\n",
      "Processing Record 11 of Set 7 | atasu\n",
      "Processing Record 12 of Set 7 | milkovo\n",
      "Processing Record 13 of Set 7 | vila velha\n",
      "Processing Record 14 of Set 7 | gazanjyk\n",
      "Processing Record 15 of Set 7 | galiwinku\n",
      "City not found.  Skipping...\n",
      "Processing Record 16 of Set 7 | komsomolskiy\n",
      "Processing Record 17 of Set 7 | gorodets\n",
      "Processing Record 18 of Set 7 | umri\n",
      "Processing Record 19 of Set 7 | nome\n",
      "Processing Record 20 of Set 7 | wukari\n",
      "Processing Record 21 of Set 7 | karczew\n",
      "Processing Record 22 of Set 7 | mago\n",
      "Processing Record 23 of Set 7 | samusu\n",
      "City not found.  Skipping...\n",
      "Processing Record 24 of Set 7 | grand-lahou\n",
      "Processing Record 25 of Set 7 | ahipara\n",
      "Processing Record 26 of Set 7 | ilulissat\n",
      "Processing Record 27 of Set 7 | ziezmariai\n",
      "Processing Record 28 of Set 7 | asau\n",
      "Processing Record 29 of Set 7 | luanda\n",
      "Processing Record 30 of Set 7 | rio gallegos\n",
      "Processing Record 31 of Set 7 | praia\n",
      "Processing Record 32 of Set 7 | pathein\n",
      "Processing Record 33 of Set 7 | wanganui\n",
      "Processing Record 34 of Set 7 | back mountain\n",
      "Processing Record 35 of Set 7 | ballina\n",
      "Processing Record 36 of Set 7 | dingle\n",
      "Processing Record 37 of Set 7 | pechora\n",
      "Processing Record 38 of Set 7 | hofn\n",
      "Processing Record 39 of Set 7 | malayal\n",
      "Processing Record 40 of Set 7 | gornopravdinsk\n",
      "Processing Record 41 of Set 7 | olyka\n",
      "Processing Record 42 of Set 7 | upington\n",
      "Processing Record 43 of Set 7 | vaitupu\n",
      "City not found.  Skipping...\n",
      "Processing Record 44 of Set 7 | skalistyy\n",
      "City not found.  Skipping...\n",
      "Processing Record 45 of Set 7 | cockburn town\n",
      "Processing Record 46 of Set 7 | port-cartier\n",
      "Processing Record 47 of Set 7 | puerto escondido\n",
      "Processing Record 48 of Set 7 | ancud\n",
      "Processing Record 49 of Set 7 | jennings\n",
      "Processing Record 50 of Set 7 | grand gaube\n",
      "Processing Record 1 of Set 8 | kempsey\n",
      "Processing Record 2 of Set 8 | cozumel\n",
      "Processing Record 3 of Set 8 | shingu\n",
      "Processing Record 4 of Set 8 | karasburg\n",
      "Processing Record 5 of Set 8 | palmer\n",
      "Processing Record 6 of Set 8 | dzilam gonzalez\n",
      "Processing Record 7 of Set 8 | srednekolymsk\n",
      "Processing Record 8 of Set 8 | naze\n",
      "Processing Record 9 of Set 8 | batticaloa\n",
      "Processing Record 10 of Set 8 | kununurra\n",
      "Processing Record 11 of Set 8 | sao joao da barra\n",
      "Processing Record 12 of Set 8 | inirida\n",
      "Processing Record 13 of Set 8 | belushya guba\n",
      "City not found.  Skipping...\n",
      "Processing Record 14 of Set 8 | khonuu\n",
      "City not found.  Skipping...\n",
      "Processing Record 15 of Set 8 | northam\n",
      "Processing Record 16 of Set 8 | poltavka\n",
      "Processing Record 17 of Set 8 | shahrud\n",
      "Processing Record 18 of Set 8 | rothenbach\n",
      "Processing Record 19 of Set 8 | imeni poliny osipenko\n",
      "Processing Record 20 of Set 8 | kenai\n",
      "Processing Record 21 of Set 8 | yerbogachen\n"
     ]
    },
    {
     "name": "stdout",
     "output_type": "stream",
     "text": [
      "Processing Record 22 of Set 8 | touros\n",
      "Processing Record 23 of Set 8 | samarai\n",
      "Processing Record 24 of Set 8 | wajir\n",
      "Processing Record 25 of Set 8 | katakwi\n",
      "Processing Record 26 of Set 8 | jais\n",
      "Processing Record 27 of Set 8 | yueyang\n",
      "Processing Record 28 of Set 8 | genhe\n",
      "Processing Record 29 of Set 8 | shimoda\n",
      "Processing Record 30 of Set 8 | itoman\n",
      "Processing Record 31 of Set 8 | kaura namoda\n",
      "Processing Record 32 of Set 8 | chumikan\n",
      "Processing Record 33 of Set 8 | roald\n",
      "Processing Record 34 of Set 8 | jaguaruna\n",
      "Processing Record 35 of Set 8 | baykit\n",
      "Processing Record 36 of Set 8 | avera\n",
      "Processing Record 37 of Set 8 | hamilton\n",
      "Processing Record 38 of Set 8 | salinopolis\n",
      "Processing Record 39 of Set 8 | flin flon\n",
      "Processing Record 40 of Set 8 | wilmington island\n",
      "Processing Record 41 of Set 8 | luderitz\n",
      "Processing Record 42 of Set 8 | belaya gora\n",
      "Processing Record 43 of Set 8 | nizhneangarsk\n",
      "Processing Record 44 of Set 8 | gejiu\n",
      "Processing Record 45 of Set 8 | panjab\n",
      "Processing Record 46 of Set 8 | sistranda\n",
      "Processing Record 47 of Set 8 | presidencia roque saenz pena\n",
      "Processing Record 48 of Set 8 | fayaoue\n",
      "Processing Record 49 of Set 8 | naron\n",
      "Processing Record 50 of Set 8 | shchors\n",
      "Processing Record 1 of Set 9 | taganak\n",
      "Processing Record 2 of Set 9 | te anau\n",
      "Processing Record 3 of Set 9 | vicuna\n",
      "Processing Record 4 of Set 9 | tilichiki\n",
      "Processing Record 5 of Set 9 | troitsko-pechorsk\n",
      "Processing Record 6 of Set 9 | ambon\n",
      "Processing Record 7 of Set 9 | cedar city\n",
      "Processing Record 8 of Set 9 | puerto carreno\n",
      "Processing Record 9 of Set 9 | tarko-sale\n",
      "Processing Record 10 of Set 9 | kyshtovka\n",
      "Processing Record 11 of Set 9 | ocala\n",
      "Processing Record 12 of Set 9 | manitouwadge\n",
      "Processing Record 13 of Set 9 | san cristobal\n",
      "Processing Record 14 of Set 9 | tuy hoa\n",
      "Processing Record 15 of Set 9 | sola\n",
      "Processing Record 16 of Set 9 | tigil\n",
      "Processing Record 17 of Set 9 | simao\n",
      "Processing Record 18 of Set 9 | kailua\n",
      "Processing Record 19 of Set 9 | eldorado\n",
      "Processing Record 20 of Set 9 | marivan\n",
      "Processing Record 21 of Set 9 | valence\n",
      "Processing Record 22 of Set 9 | imbituba\n",
      "Processing Record 23 of Set 9 | tiznit\n",
      "Processing Record 24 of Set 9 | arnedo\n",
      "Processing Record 25 of Set 9 | kantunilkin\n",
      "Processing Record 26 of Set 9 | aykhal\n",
      "Processing Record 27 of Set 9 | tenenkou\n",
      "Processing Record 28 of Set 9 | alotau\n",
      "City not found.  Skipping...\n",
      "Processing Record 29 of Set 9 | eurajoki\n",
      "Processing Record 30 of Set 9 | moyale\n",
      "Processing Record 31 of Set 9 | prieska\n",
      "Processing Record 32 of Set 9 | kargil\n",
      "Processing Record 33 of Set 9 | kungurtug\n",
      "Processing Record 34 of Set 9 | kelc\n",
      "Processing Record 35 of Set 9 | port lincoln\n",
      "Processing Record 36 of Set 9 | temple\n",
      "Processing Record 37 of Set 9 | camalu\n",
      "Processing Record 38 of Set 9 | bhikangaon\n",
      "Processing Record 39 of Set 9 | rhymney\n",
      "Processing Record 40 of Set 9 | hurghada\n",
      "Processing Record 41 of Set 9 | santa lucia\n",
      "Processing Record 42 of Set 9 | srandakan\n",
      "Processing Record 43 of Set 9 | carpinteria\n",
      "Processing Record 44 of Set 9 | priladozhskiy\n",
      "Processing Record 45 of Set 9 | walvis bay\n",
      "Processing Record 46 of Set 9 | baft\n",
      "Processing Record 47 of Set 9 | dwarka\n",
      "Processing Record 48 of Set 9 | kozhevnikovo\n",
      "Processing Record 49 of Set 9 | nisia floresta\n",
      "Processing Record 50 of Set 9 | magadan\n",
      "Processing Record 1 of Set 10 | kasongo-lunda\n",
      "Processing Record 2 of Set 10 | ntungamo\n",
      "Processing Record 3 of Set 10 | puerto cabezas\n",
      "Processing Record 4 of Set 10 | moron\n",
      "Processing Record 5 of Set 10 | ardalstangen\n",
      "Processing Record 6 of Set 10 | matara\n",
      "Processing Record 7 of Set 10 | itaqui\n",
      "Processing Record 8 of Set 10 | hakkari\n",
      "Processing Record 9 of Set 10 | nosy varika\n",
      "Processing Record 10 of Set 10 | alyangula\n",
      "Processing Record 11 of Set 10 | ahumada\n",
      "City not found.  Skipping...\n",
      "Processing Record 12 of Set 10 | oktyabrskiy\n",
      "Processing Record 13 of Set 10 | pimenta bueno\n",
      "Processing Record 14 of Set 10 | ostrovnoy\n",
      "Processing Record 15 of Set 10 | mehriz\n",
      "Processing Record 16 of Set 10 | svelgen\n",
      "Processing Record 17 of Set 10 | nhamunda\n",
      "Processing Record 18 of Set 10 | portland\n",
      "Processing Record 19 of Set 10 | anadyr\n",
      "Processing Record 20 of Set 10 | minsk\n",
      "Processing Record 21 of Set 10 | ban tak\n",
      "Processing Record 22 of Set 10 | rio de janeiro\n",
      "Processing Record 23 of Set 10 | ossora\n",
      "Processing Record 24 of Set 10 | alihe\n",
      "Processing Record 25 of Set 10 | jalpan\n",
      "Processing Record 26 of Set 10 | katobu\n",
      "Processing Record 27 of Set 10 | grass valley\n",
      "Processing Record 28 of Set 10 | krapivinskiy\n",
      "Processing Record 29 of Set 10 | lorengau\n",
      "Processing Record 30 of Set 10 | tynda\n",
      "Processing Record 31 of Set 10 | berlevag\n",
      "Processing Record 32 of Set 10 | hasaki\n",
      "Processing Record 33 of Set 10 | kavieng\n",
      "Processing Record 34 of Set 10 | podyuga\n",
      "Processing Record 35 of Set 10 | waiouru\n",
      "Processing Record 36 of Set 10 | wajima\n",
      "Processing Record 37 of Set 10 | chisinau\n",
      "Processing Record 38 of Set 10 | phan thiet\n",
      "Processing Record 39 of Set 10 | tchamba\n",
      "Processing Record 40 of Set 10 | abnub\n",
      "Processing Record 41 of Set 10 | casa grande\n",
      "Processing Record 42 of Set 10 | nouadhibou\n",
      "Processing Record 43 of Set 10 | dalvik\n",
      "Processing Record 44 of Set 10 | ambovombe\n",
      "Processing Record 45 of Set 10 | ostrov\n",
      "Processing Record 46 of Set 10 | gari\n",
      "Processing Record 47 of Set 10 | marsh harbour\n",
      "Processing Record 48 of Set 10 | bilibino\n",
      "Processing Record 49 of Set 10 | lipno\n",
      "Processing Record 50 of Set 10 | kattivakkam\n",
      "Processing Record 1 of Set 11 | bandar-e lengeh\n",
      "Processing Record 2 of Set 11 | manggar\n",
      "Processing Record 3 of Set 11 | luba\n",
      "Processing Record 4 of Set 11 | port blair\n",
      "Processing Record 5 of Set 11 | port macquarie\n",
      "Processing Record 6 of Set 11 | havre-saint-pierre\n",
      "Processing Record 7 of Set 11 | felidhoo\n",
      "City not found.  Skipping...\n",
      "Processing Record 8 of Set 11 | matay\n",
      "Processing Record 9 of Set 11 | nishihara\n",
      "Processing Record 10 of Set 11 | lengshuitan\n",
      "Processing Record 11 of Set 11 | viligili\n",
      "City not found.  Skipping...\n",
      "Processing Record 12 of Set 11 | yanggu\n",
      "Processing Record 13 of Set 11 | birao\n",
      "Processing Record 14 of Set 11 | weinan\n",
      "Processing Record 15 of Set 11 | khandyga\n",
      "Processing Record 16 of Set 11 | apollonia\n",
      "Processing Record 17 of Set 11 | gasa\n",
      "Processing Record 18 of Set 11 | belen\n",
      "Processing Record 19 of Set 11 | tursunzoda\n",
      "Processing Record 20 of Set 11 | bulgan\n",
      "Processing Record 21 of Set 11 | surt\n",
      "Processing Record 22 of Set 11 | jijiga\n",
      "Processing Record 23 of Set 11 | kampong thum\n",
      "Processing Record 24 of Set 11 | bubaque\n",
      "Processing Record 25 of Set 11 | mayo\n",
      "Processing Record 26 of Set 11 | kuhestan\n",
      "City not found.  Skipping...\n",
      "Processing Record 27 of Set 11 | puerto ayacucho\n",
      "Processing Record 28 of Set 11 | tual\n",
      "Processing Record 29 of Set 11 | mildura\n",
      "Processing Record 30 of Set 11 | lolua\n",
      "City not found.  Skipping...\n",
      "Processing Record 31 of Set 11 | botwood\n",
      "Processing Record 32 of Set 11 | juneau\n",
      "Processing Record 33 of Set 11 | tawkar\n",
      "City not found.  Skipping...\n",
      "Processing Record 34 of Set 11 | hobyo\n",
      "Processing Record 35 of Set 11 | nacala\n",
      "Processing Record 36 of Set 11 | iranshahr\n",
      "Processing Record 37 of Set 11 | athabasca\n",
      "Processing Record 38 of Set 11 | gold coast\n",
      "Processing Record 39 of Set 11 | terrace bay\n",
      "Processing Record 40 of Set 11 | grindavik\n",
      "Processing Record 41 of Set 11 | rundu\n",
      "Processing Record 42 of Set 11 | seymchan\n",
      "Processing Record 43 of Set 11 | nacunday\n",
      "City not found.  Skipping...\n",
      "Processing Record 44 of Set 11 | muzhi\n",
      "Processing Record 45 of Set 11 | nioro\n",
      "Processing Record 46 of Set 11 | eureka\n",
      "Processing Record 47 of Set 11 | hualmay\n",
      "Processing Record 48 of Set 11 | rawannawi\n",
      "City not found.  Skipping...\n",
      "Processing Record 49 of Set 11 | ivanovka\n",
      "Processing Record 50 of Set 11 | goundam\n",
      "Processing Record 1 of Set 12 | rawson\n",
      "Processing Record 2 of Set 12 | tabuk\n",
      "Processing Record 3 of Set 12 | nguiu\n",
      "City not found.  Skipping...\n",
      "Processing Record 4 of Set 12 | inyonga\n",
      "Processing Record 5 of Set 12 | denpasar\n",
      "Processing Record 6 of Set 12 | natchez\n",
      "Processing Record 7 of Set 12 | port hawkesbury\n",
      "Processing Record 8 of Set 12 | otradnoye\n",
      "Processing Record 9 of Set 12 | ciudad del maiz\n",
      "Processing Record 10 of Set 12 | ocu\n",
      "Processing Record 11 of Set 12 | sapa\n",
      "Processing Record 12 of Set 12 | saint-joseph\n"
     ]
    },
    {
     "name": "stdout",
     "output_type": "stream",
     "text": [
      "Processing Record 13 of Set 12 | ransang\n",
      "Processing Record 14 of Set 12 | scottsburgh\n",
      "City not found.  Skipping...\n",
      "Processing Record 15 of Set 12 | krasnoselkup\n",
      "Processing Record 16 of Set 12 | markova\n",
      "Processing Record 17 of Set 12 | babanka\n",
      "Processing Record 18 of Set 12 | polyarnyy\n",
      "Processing Record 19 of Set 12 | palabuhanratu\n",
      "City not found.  Skipping...\n",
      "Processing Record 20 of Set 12 | fortuna\n",
      "Processing Record 21 of Set 12 | kutum\n",
      "Processing Record 22 of Set 12 | lasa\n",
      "Processing Record 23 of Set 12 | itaituba\n",
      "Processing Record 24 of Set 12 | galgani\n",
      "City not found.  Skipping...\n",
      "Processing Record 25 of Set 12 | dumas\n",
      "Processing Record 26 of Set 12 | saryg-sep\n",
      "Processing Record 27 of Set 12 | south shields\n",
      "Processing Record 28 of Set 12 | suratgarh\n",
      "Processing Record 29 of Set 12 | pitimbu\n",
      "Processing Record 30 of Set 12 | san vicente\n",
      "Processing Record 31 of Set 12 | stornoway\n",
      "Processing Record 32 of Set 12 | taoudenni\n",
      "Processing Record 33 of Set 12 | novobelokatay\n",
      "Processing Record 34 of Set 12 | alekseyevsk\n",
      "Processing Record 35 of Set 12 | christchurch\n",
      "Processing Record 36 of Set 12 | samana\n",
      "Processing Record 37 of Set 12 | jimo\n",
      "Processing Record 38 of Set 12 | ginda\n",
      "Processing Record 39 of Set 12 | sehithwa\n",
      "Processing Record 40 of Set 12 | novopskov\n",
      "Processing Record 41 of Set 12 | lakshettipet\n",
      "Processing Record 42 of Set 12 | kidal\n",
      "Processing Record 43 of Set 12 | alice springs\n",
      "Processing Record 44 of Set 12 | umm lajj\n",
      "Processing Record 45 of Set 12 | acapulco\n",
      "Processing Record 46 of Set 12 | ucluelet\n",
      "Processing Record 47 of Set 12 | tingi\n",
      "Processing Record 48 of Set 12 | kembe\n",
      "Processing Record 49 of Set 12 | suluq\n",
      "Processing Record 50 of Set 12 | ust-shonosha\n",
      "Processing Record 1 of Set 13 | ojinaga\n",
      "Processing Record 2 of Set 13 | aguimes\n",
      "Processing Record 3 of Set 13 | paradwip\n",
      "City not found.  Skipping...\n",
      "Processing Record 4 of Set 13 | vestmannaeyjar\n",
      "Processing Record 5 of Set 13 | oeiras do para\n",
      "Processing Record 6 of Set 13 | araouane\n",
      "Processing Record 7 of Set 13 | goundi\n",
      "Processing Record 8 of Set 13 | brae\n",
      "Processing Record 9 of Set 13 | ust-maya\n",
      "Processing Record 10 of Set 13 | mizdah\n",
      "Processing Record 11 of Set 13 | altay\n",
      "Processing Record 12 of Set 13 | tsabong\n",
      "Processing Record 13 of Set 13 | waipawa\n",
      "Processing Record 14 of Set 13 | labutta\n",
      "City not found.  Skipping...\n",
      "Processing Record 15 of Set 13 | kushmurun\n",
      "Processing Record 16 of Set 13 | nebbi\n",
      "------------------------\n",
      "Data Retrieval Complete\n",
      "------------------------\n"
     ]
    }
   ],
   "source": [
    "# Import google API key\n",
    "from api_keys import g_key\n",
    "\n",
    "# Set variables for weather API calls\n",
    "weather_url = \"http://api.openweathermap.org/data/2.5/weather\"\n",
    "params = {'appid':weather_api_key,\n",
    "         'units':'imperial'}\n",
    "\n",
    "#Set variables for counters. Each set to contain records 1-50.\n",
    "record = 1\n",
    "sets = 1\n",
    "\n",
    "# Print output of API calls\n",
    "print('Beginning Data Retrieval')\n",
    "print('------------------------')\n",
    "\n",
    "# Store weather data into dataframe for each city\n",
    "for index, row in weather_df.iterrows():\n",
    "    params['q'] = row['City']\n",
    "    response = requests.get(weather_url, params).json()\n",
    "       \n",
    "    try:\n",
    "        print(f\"Processing Record {record} of Set {sets} | {row['City']}\")\n",
    "        weather_df.loc[index,'Lat'] = response['coord']['lat']\n",
    "        weather_df.loc[index,'Lng'] = response['coord']['lon']\n",
    "        weather_df.loc[index,'Max Temp'] = response['main']['temp_max']\n",
    "        weather_df.loc[index,'Humidity'] = response['main']['humidity']\n",
    "        weather_df.loc[index,'Cloudiness'] = response['clouds']['all']\n",
    "        weather_df.loc[index,'Wind Speed'] = response['wind']['speed']\n",
    "        weather_df.loc[index,'Country'] = response['sys']['country']        \n",
    "        weather_df.loc[index,'Date'] = response['dt']\n",
    "    except:\n",
    "        print('City not found.  Skipping...')\n",
    "\n",
    "# If number of records is multiple of 50, increment set number and reset city count\n",
    "    if record%50 == 0:\n",
    "        sets += 1        \n",
    "        record = 0\n",
    "\n",
    "# Increment city counter\n",
    "    record += 1\n",
    "\n",
    "print('------------------------')\n",
    "print('Data Retrieval Complete')\n",
    "print('------------------------')"
   ]
  },
  {
   "cell_type": "code",
   "execution_count": 6,
   "id": "d0694d4b",
   "metadata": {
    "scrolled": true
   },
   "outputs": [],
   "source": [
    "# Remove cities not found, reset index, and export into csv file\n",
    "weather_df.dropna(inplace=True)\n",
    "weather_df.reset_index(inplace = True, drop = True)\n",
    "weather_df.to_csv(output_data_file, index = False, header=True)"
   ]
  },
  {
   "cell_type": "markdown",
   "id": "dc61f55c",
   "metadata": {},
   "source": [
    "## Inspect the data and remove the cities where the humidity > 100%."
   ]
  },
  {
   "cell_type": "code",
   "execution_count": 8,
   "id": "88687ab1",
   "metadata": {},
   "outputs": [
    {
     "data": {
      "text/html": [
       "<div>\n",
       "<style scoped>\n",
       "    .dataframe tbody tr th:only-of-type {\n",
       "        vertical-align: middle;\n",
       "    }\n",
       "\n",
       "    .dataframe tbody tr th {\n",
       "        vertical-align: top;\n",
       "    }\n",
       "\n",
       "    .dataframe thead th {\n",
       "        text-align: right;\n",
       "    }\n",
       "</style>\n",
       "<table border=\"1\" class=\"dataframe\">\n",
       "  <thead>\n",
       "    <tr style=\"text-align: right;\">\n",
       "      <th></th>\n",
       "      <th>Lat</th>\n",
       "      <th>Lng</th>\n",
       "      <th>Max Temp</th>\n",
       "      <th>Humidity</th>\n",
       "      <th>Cloudiness</th>\n",
       "      <th>Wind Speed</th>\n",
       "      <th>Date</th>\n",
       "    </tr>\n",
       "  </thead>\n",
       "  <tbody>\n",
       "    <tr>\n",
       "      <th>count</th>\n",
       "      <td>564.000000</td>\n",
       "      <td>564.000000</td>\n",
       "      <td>564.000000</td>\n",
       "      <td>564.000000</td>\n",
       "      <td>564.000000</td>\n",
       "      <td>564.000000</td>\n",
       "      <td>5.640000e+02</td>\n",
       "    </tr>\n",
       "    <tr>\n",
       "      <th>mean</th>\n",
       "      <td>22.129979</td>\n",
       "      <td>19.980191</td>\n",
       "      <td>71.519982</td>\n",
       "      <td>66.629433</td>\n",
       "      <td>56.430851</td>\n",
       "      <td>7.544043</td>\n",
       "      <td>1.628093e+09</td>\n",
       "    </tr>\n",
       "    <tr>\n",
       "      <th>std</th>\n",
       "      <td>33.172111</td>\n",
       "      <td>89.107690</td>\n",
       "      <td>15.064453</td>\n",
       "      <td>22.311120</td>\n",
       "      <td>37.944390</td>\n",
       "      <td>5.445339</td>\n",
       "      <td>3.074481e+02</td>\n",
       "    </tr>\n",
       "    <tr>\n",
       "      <th>min</th>\n",
       "      <td>-54.800000</td>\n",
       "      <td>-175.200000</td>\n",
       "      <td>34.480000</td>\n",
       "      <td>1.000000</td>\n",
       "      <td>0.000000</td>\n",
       "      <td>0.000000</td>\n",
       "      <td>1.628092e+09</td>\n",
       "    </tr>\n",
       "    <tr>\n",
       "      <th>25%</th>\n",
       "      <td>-2.883875</td>\n",
       "      <td>-57.205600</td>\n",
       "      <td>61.672500</td>\n",
       "      <td>55.000000</td>\n",
       "      <td>20.000000</td>\n",
       "      <td>3.505000</td>\n",
       "      <td>1.628092e+09</td>\n",
       "    </tr>\n",
       "    <tr>\n",
       "      <th>50%</th>\n",
       "      <td>27.587500</td>\n",
       "      <td>22.541200</td>\n",
       "      <td>73.705000</td>\n",
       "      <td>71.000000</td>\n",
       "      <td>67.000000</td>\n",
       "      <td>6.300000</td>\n",
       "      <td>1.628093e+09</td>\n",
       "    </tr>\n",
       "    <tr>\n",
       "      <th>75%</th>\n",
       "      <td>50.684075</td>\n",
       "      <td>96.658200</td>\n",
       "      <td>81.305000</td>\n",
       "      <td>83.000000</td>\n",
       "      <td>94.000000</td>\n",
       "      <td>10.717500</td>\n",
       "      <td>1.628093e+09</td>\n",
       "    </tr>\n",
       "    <tr>\n",
       "      <th>max</th>\n",
       "      <td>78.218600</td>\n",
       "      <td>179.316700</td>\n",
       "      <td>117.820000</td>\n",
       "      <td>100.000000</td>\n",
       "      <td>100.000000</td>\n",
       "      <td>36.820000</td>\n",
       "      <td>1.628093e+09</td>\n",
       "    </tr>\n",
       "  </tbody>\n",
       "</table>\n",
       "</div>"
      ],
      "text/plain": [
       "              Lat         Lng    Max Temp    Humidity  Cloudiness  Wind Speed  \\\n",
       "count  564.000000  564.000000  564.000000  564.000000  564.000000  564.000000   \n",
       "mean    22.129979   19.980191   71.519982   66.629433   56.430851    7.544043   \n",
       "std     33.172111   89.107690   15.064453   22.311120   37.944390    5.445339   \n",
       "min    -54.800000 -175.200000   34.480000    1.000000    0.000000    0.000000   \n",
       "25%     -2.883875  -57.205600   61.672500   55.000000   20.000000    3.505000   \n",
       "50%     27.587500   22.541200   73.705000   71.000000   67.000000    6.300000   \n",
       "75%     50.684075   96.658200   81.305000   83.000000   94.000000   10.717500   \n",
       "max     78.218600  179.316700  117.820000  100.000000  100.000000   36.820000   \n",
       "\n",
       "               Date  \n",
       "count  5.640000e+02  \n",
       "mean   1.628093e+09  \n",
       "std    3.074481e+02  \n",
       "min    1.628092e+09  \n",
       "25%    1.628092e+09  \n",
       "50%    1.628093e+09  \n",
       "75%    1.628093e+09  \n",
       "max    1.628093e+09  "
      ]
     },
     "execution_count": 8,
     "metadata": {},
     "output_type": "execute_result"
    }
   ],
   "source": [
    "weather_df.describe()\n",
    "\n",
    "# No cities with humidity > 100%"
   ]
  },
  {
   "cell_type": "markdown",
   "id": "82f531ee",
   "metadata": {},
   "source": [
    "## Latitude vs. Temperature Plot"
   ]
  },
  {
   "cell_type": "code",
   "execution_count": 9,
   "id": "943c4854",
   "metadata": {},
   "outputs": [],
   "source": [
    "# Create new dataframe \n",
    "clean_city_data = weather_df\n",
    "\n",
    "# Create list of latitude values\n",
    "latitude = clean_city_data['Lat']"
   ]
  },
  {
   "cell_type": "code",
   "execution_count": 10,
   "id": "98eba09d",
   "metadata": {
    "scrolled": true
   },
   "outputs": [
    {
     "data": {
      "image/png": "[encoded data removed]",
      "text/plain": [
       "<Figure size 432x288 with 1 Axes>"
      ]
     },
     "metadata": {
      "needs_background": "light"
     },
     "output_type": "display_data"
    }
   ],
   "source": [
    "# Plot latitude vs temp\n",
    "temp = clean_city_data['Max Temp']\n",
    "plt.scatter(latitude,temp)\n",
    "plt.xlabel('Latitude')\n",
    "plt.ylabel('Max Temperature (F)')\n",
    "plt.title('City Latitude vs. Max Temperature (8/1/2021)')\n",
    "plt.grid()\n",
    "plt.show()\n"
   ]
  },
  {
   "cell_type": "code",
   "execution_count": null,
   "id": "59f49541",
   "metadata": {},
   "outputs": [],
   "source": [
    "# The chart shows evidence of a relationship between latitude and temperature"
   ]
  },
  {
   "cell_type": "markdown",
   "id": "4abc183f",
   "metadata": {},
   "source": [
    "## Latitude vs. Humidity Plot"
   ]
  },
  {
   "cell_type": "code",
   "execution_count": 11,
   "id": "38cbd2e1",
   "metadata": {},
   "outputs": [
    {
     "data": {
      "image/png": "[encoded data removed]",
      "text/plain": [
       "<Figure size 432x288 with 1 Axes>"
      ]
     },
     "metadata": {
      "needs_background": "light"
     },
     "output_type": "display_data"
    }
   ],
   "source": [
    "# Plot latitude vs. humidity\n",
    "humidity = clean_city_data['Humidity']\n",
    "plt.scatter(latitude,humidity)\n",
    "plt.xlabel('Latitude')\n",
    "plt.ylabel('Humidity (%)')\n",
    "plt.title('City Latitude vs. Humidity (8/1/2021)')\n",
    "plt.grid()\n",
    "plt.show()"
   ]
  },
  {
   "cell_type": "code",
   "execution_count": null,
   "id": "8a4a19b8",
   "metadata": {},
   "outputs": [],
   "source": [
    "# There does not appear to be a relationship between latitude and humidity"
   ]
  },
  {
   "cell_type": "markdown",
   "id": "77f73caf",
   "metadata": {},
   "source": [
    "## Latitude vs. Cloudiness Plot"
   ]
  },
  {
   "cell_type": "code",
   "execution_count": 12,
   "id": "2c7c8d3b",
   "metadata": {
    "scrolled": true
   },
   "outputs": [
    {
     "data": {
      "image/png": "[encoded data removed]",
      "text/plain": [
       "<Figure size 432x288 with 1 Axes>"
      ]
     },
     "metadata": {
      "needs_background": "light"
     },
     "output_type": "display_data"
    }
   ],
   "source": [
    "# Plot latitude vs cloudiness\n",
    "cloudiness = clean_city_data['Cloudiness']\n",
    "plt.scatter(latitude,cloudiness)\n",
    "plt.xlabel('Latitude')\n",
    "plt.ylabel('Cloudiness (%)')\n",
    "plt.title('City Latitude vs. Cloudiness (8/1/2021)')\n",
    "plt.grid()\n",
    "plt.show()"
   ]
  },
  {
   "cell_type": "code",
   "execution_count": null,
   "id": "017357ea",
   "metadata": {},
   "outputs": [],
   "source": [
    "# There does not appear to be a relationship between latitude and cloudiness"
   ]
  },
  {
   "cell_type": "markdown",
   "id": "8222fda1",
   "metadata": {},
   "source": [
    "## Latitude vs. Wind Speed Plot"
   ]
  },
  {
   "cell_type": "code",
   "execution_count": 13,
   "id": "aee5eacf",
   "metadata": {},
   "outputs": [
    {
     "data": {
      "image/png": "[encoded data removed]",
      "text/plain": [
       "<Figure size 432x288 with 1 Axes>"
      ]
     },
     "metadata": {
      "needs_background": "light"
     },
     "output_type": "display_data"
    }
   ],
   "source": [
    "# Plot latitude vs wind speed\n",
    "wind_speed = clean_city_data['Wind Speed']\n",
    "plt.scatter(latitude,wind_speed)\n",
    "plt.xlabel('Latitude')\n",
    "plt.ylabel('Wind Speed (mph)')\n",
    "plt.title('City Latitude vs. Wind Speed (8/1/2021)')\n",
    "plt.grid()\n",
    "plt.show()"
   ]
  },
  {
   "cell_type": "code",
   "execution_count": null,
   "id": "afcb868e",
   "metadata": {},
   "outputs": [],
   "source": [
    "# There does not appear to be a relationship between latitude and wind speed"
   ]
  },
  {
   "cell_type": "markdown",
   "id": "6a949884",
   "metadata": {},
   "source": [
    "## Linear Regression"
   ]
  },
  {
   "cell_type": "code",
   "execution_count": 14,
   "id": "97fd2555",
   "metadata": {},
   "outputs": [],
   "source": [
    "# Separate dataframe by Lat\n",
    "northern_data = clean_city_data.loc[clean_city_data['Lat']>=0]\n",
    "southern_data = clean_city_data.loc[clean_city_data['Lat']<0]"
   ]
  },
  {
   "cell_type": "code",
   "execution_count": 15,
   "id": "68900851",
   "metadata": {},
   "outputs": [],
   "source": [
    "# Set variables for northern and southern latitudes\n",
    "northern_latitude = northern_data['Lat']\n",
    "southern_latitude = southern_data['Lat']"
   ]
  },
  {
   "cell_type": "markdown",
   "id": "8d8a5966",
   "metadata": {},
   "source": [
    "####  Northern Hemisphere - Max Temp vs. Latitude Linear Regression"
   ]
  },
  {
   "cell_type": "code",
   "execution_count": 16,
   "id": "203032ff",
   "metadata": {},
   "outputs": [
    {
     "name": "stdout",
     "output_type": "stream",
     "text": [
      "The r-value is: -0.7092484472768288\n"
     ]
    },
    {
     "data": {
      "image/png": "[encoded data removed]",
      "text/plain": [
       "<Figure size 432x288 with 1 Axes>"
      ]
     },
     "metadata": {
      "needs_background": "light"
     },
     "output_type": "display_data"
    }
   ],
   "source": [
    "# Find max temp for northern latitudes\n",
    "n_temp = northern_data['Max Temp']\n",
    "\n",
    "# Plot scatter plot with linear regression line\n",
    "plt.scatter(northern_latitude,n_temp)\n",
    "plt.xlabel('Latitude')\n",
    "plt.ylabel('Max Temp')\n",
    "slope, int, rvalue = linregress(northern_latitude,n_temp)[0:3]\n",
    "line = slope * northern_latitude + int\n",
    "plt.plot(northern_latitude,line)\n",
    "\n",
    "# Print R value\n",
    "print(f'The r-value is: {rvalue}')\n",
    "\n",
    "# Add text\n",
    "line_eq = f'y = {round(slope,2)}x + {round(int,2)}'\n",
    "plt.annotate(line_eq,(15,55),fontsize=15,color=\"red\")\n",
    "plt.show()"
   ]
  },
  {
   "cell_type": "code",
   "execution_count": null,
   "id": "08e74d22",
   "metadata": {},
   "outputs": [],
   "source": [
    "# There is strong correlation between latitude and temperature.  The maximum temperature decreases as the latitude increases."
   ]
  },
  {
   "cell_type": "markdown",
   "id": "b76afe47",
   "metadata": {},
   "source": [
    "####  Southern Hemisphere - Max Temp vs. Latitude Linear Regression"
   ]
  },
  {
   "cell_type": "code",
   "execution_count": 17,
   "id": "7fe1f3cb",
   "metadata": {},
   "outputs": [
    {
     "name": "stdout",
     "output_type": "stream",
     "text": [
      "The r-value is: 0.7989292369423076\n"
     ]
    },
    {
     "data": {
      "image/png": "[encoded data removed]",
      "text/plain": [
       "<Figure size 432x288 with 1 Axes>"
      ]
     },
     "metadata": {
      "needs_background": "light"
     },
     "output_type": "display_data"
    }
   ],
   "source": [
    "# Find max temp for southern latitudes\n",
    "s_temp = southern_data['Max Temp']\n",
    "\n",
    "# Plot scatter plot with linear regression line\n",
    "plt.scatter(southern_latitude,s_temp)\n",
    "plt.xlabel('Latitude')\n",
    "plt.ylabel('Max Temp')\n",
    "slope, int, rvalue = linregress(southern_latitude,s_temp)[0:3]\n",
    "line = slope * southern_latitude + int\n",
    "plt.plot(southern_latitude,line,\"--\")\n",
    "\n",
    "# Print R value\n",
    "print(f'The r-value is: {rvalue}')\n",
    "\n",
    "# Add text\n",
    "line_eq = f'y = {round(slope,2)}x + {round(int,2)}'\n",
    "plt.annotate(line_eq,(-54,67),fontsize=15,color=\"red\")\n",
    "plt.show()"
   ]
  },
  {
   "cell_type": "code",
   "execution_count": null,
   "id": "96f0ff20",
   "metadata": {},
   "outputs": [],
   "source": [
    "# There is strong correlation between latitude and temperature.  The maximum temperature increases as the latitude approaches 0."
   ]
  },
  {
   "cell_type": "markdown",
   "id": "51688428",
   "metadata": {},
   "source": [
    "####  Northern Hemisphere - Humidity (%) vs. Latitude Linear Regression"
   ]
  },
  {
   "cell_type": "code",
   "execution_count": 18,
   "id": "4782f948",
   "metadata": {},
   "outputs": [
    {
     "name": "stdout",
     "output_type": "stream",
     "text": [
      "The r-value is: 0.1163898583197417\n"
     ]
    },
    {
     "data": {
      "image/png": "[encoded data removed]",
      "text/plain": [
       "<Figure size 432x288 with 1 Axes>"
      ]
     },
     "metadata": {
      "needs_background": "light"
     },
     "output_type": "display_data"
    }
   ],
   "source": [
    "# Find humidity for northern latitudes\n",
    "n_humidity = northern_data['Humidity']\n",
    "\n",
    "# Plot scatter plot with linear regression line\n",
    "plt.scatter(northern_latitude,n_humidity)\n",
    "plt.xlabel('Latitude')\n",
    "plt.ylabel('Humidity')\n",
    "slope, int, rvalue = linregress(northern_latitude,n_humidity)[0:3]\n",
    "line = slope * northern_latitude + int\n",
    "plt.plot(northern_latitude,line)\n",
    "\n",
    "# Print R value\n",
    "print(f'The r-value is: {rvalue}')\n",
    "\n",
    "# Add text\n",
    "line_eq = f'y = {round(slope,2)}x + {round(int,2)}'\n",
    "plt.annotate(line_eq,(15,25),fontsize=15,color=\"red\")\n",
    "plt.show()"
   ]
  },
  {
   "cell_type": "code",
   "execution_count": null,
   "id": "6ae4f087",
   "metadata": {},
   "outputs": [],
   "source": [
    "# There is weak correlation between latitude and humidity"
   ]
  },
  {
   "cell_type": "markdown",
   "id": "4d4192bd",
   "metadata": {},
   "source": [
    "####  Southern Hemisphere - Humidity (%) vs. Latitude Linear Regression"
   ]
  },
  {
   "cell_type": "code",
   "execution_count": 19,
   "id": "c0f2efbc",
   "metadata": {},
   "outputs": [
    {
     "name": "stdout",
     "output_type": "stream",
     "text": [
      "The r-value is: -0.09277918201223943\n"
     ]
    },
    {
     "data": {
      "image/png": "[encoded data removed]",
      "text/plain": [
       "<Figure size 432x288 with 1 Axes>"
      ]
     },
     "metadata": {
      "needs_background": "light"
     },
     "output_type": "display_data"
    }
   ],
   "source": [
    "# Find humidity for southern latitudes\n",
    "s_humidity = southern_data['Humidity']\n",
    "\n",
    "# Plot scatter plot with linear regression line\n",
    "plt.scatter(southern_latitude,s_humidity)\n",
    "plt.xlabel('Latitude')\n",
    "plt.ylabel('Humidity')\n",
    "slope, int, rvalue = linregress(southern_latitude,s_humidity)[0:3]\n",
    "line = slope * southern_latitude + int\n",
    "plt.plot(southern_latitude,line,\"--\")\n",
    "\n",
    "# Print R value\n",
    "print(f'The r-value is: {rvalue}')\n",
    "\n",
    "# Add text\n",
    "line_eq = f'y = {round(slope,2)}x + {round(int,2)}'\n",
    "plt.annotate(line_eq,(-54,67),fontsize=15,color=\"red\")\n",
    "plt.show()"
   ]
  },
  {
   "cell_type": "code",
   "execution_count": null,
   "id": "77107d35",
   "metadata": {},
   "outputs": [],
   "source": [
    "# There is weak correlation between latitude and humidity"
   ]
  },
  {
   "cell_type": "markdown",
   "id": "e37120ff",
   "metadata": {},
   "source": [
    "####  Northern Hemisphere - Cloudiness (%) vs. Latitude Linear Regression"
   ]
  },
  {
   "cell_type": "code",
   "execution_count": 20,
   "id": "2840fe88",
   "metadata": {},
   "outputs": [
    {
     "name": "stdout",
     "output_type": "stream",
     "text": [
      "The r-value is: 0.0564408870311689\n"
     ]
    },
    {
     "data": {
      "image/png": "[encoded data removed]",
      "text/plain": [
       "<Figure size 432x288 with 1 Axes>"
      ]
     },
     "metadata": {
      "needs_background": "light"
     },
     "output_type": "display_data"
    }
   ],
   "source": [
    "# Find cloudiness for northern latitudes\n",
    "n_cloudiness = northern_data['Cloudiness']\n",
    "\n",
    "# Plot scatter plot with linear regression line\n",
    "plt.scatter(northern_latitude,n_cloudiness)\n",
    "plt.xlabel('Latitude')\n",
    "plt.ylabel('Cloudiness')\n",
    "slope, int, rvalue = linregress(northern_latitude,n_cloudiness)[0:3]\n",
    "line = slope * northern_latitude + int\n",
    "plt.plot(northern_latitude,line)\n",
    "\n",
    "# Print R value\n",
    "print(f'The r-value is: {rvalue}')\n",
    "\n",
    "# Add text\n",
    "line_eq = f'y = {round(slope,2)}x + {round(int,2)}'\n",
    "plt.annotate(line_eq,(10,10),fontsize=15,color=\"red\")\n",
    "plt.show()"
   ]
  },
  {
   "cell_type": "code",
   "execution_count": null,
   "id": "5341e20c",
   "metadata": {},
   "outputs": [],
   "source": [
    "# There is very weak correlation between latitude and cloudiness"
   ]
  },
  {
   "cell_type": "markdown",
   "id": "a9b77bee",
   "metadata": {},
   "source": [
    "####  Southern Hemisphere - Cloudiness (%) vs. Latitude Linear Regression"
   ]
  },
  {
   "cell_type": "code",
   "execution_count": 21,
   "id": "678cefc7",
   "metadata": {},
   "outputs": [
    {
     "name": "stdout",
     "output_type": "stream",
     "text": [
      "The r-value is: 0.05903542921198311\n"
     ]
    },
    {
     "data": {
      "image/png": "[encoded data removed]",
      "text/plain": [
       "<Figure size 432x288 with 1 Axes>"
      ]
     },
     "metadata": {
      "needs_background": "light"
     },
     "output_type": "display_data"
    }
   ],
   "source": [
    "# Find cloudiness for southern latitudes\n",
    "s_cloudiness = southern_data['Cloudiness']\n",
    "\n",
    "# Plot scatter plot with linear regression line\n",
    "plt.scatter(southern_latitude,s_cloudiness)\n",
    "plt.xlabel('Latitude')\n",
    "plt.ylabel('Cloudiness')\n",
    "slope, int, rvalue = linregress(southern_latitude,s_cloudiness)[0:3]\n",
    "line = slope * southern_latitude + int\n",
    "plt.plot(southern_latitude,line,\"--\")\n",
    "\n",
    "# Print R value\n",
    "print(f'The r-value is: {rvalue}')\n",
    "\n",
    "# Add text\n",
    "line_eq = f'y = {round(slope,2)}x + {round(int,2)}'\n",
    "plt.annotate(line_eq,(-54,90),fontsize=15,color=\"red\")\n",
    "plt.show()"
   ]
  },
  {
   "cell_type": "code",
   "execution_count": null,
   "id": "79b42b62",
   "metadata": {},
   "outputs": [],
   "source": [
    "# There is very weak correlation between latitude and cloudiness"
   ]
  },
  {
   "cell_type": "markdown",
   "id": "1e7e20e6",
   "metadata": {},
   "source": [
    "####  Northern Hemisphere - Wind Speed (mph) vs. Latitude Linear Regression"
   ]
  },
  {
   "cell_type": "code",
   "execution_count": 22,
   "id": "2c86b7c2",
   "metadata": {},
   "outputs": [
    {
     "name": "stdout",
     "output_type": "stream",
     "text": [
      "The r-value is: -0.03261765865642605\n"
     ]
    },
    {
     "data": {
      "image/png": "[encoded data removed]",
      "text/plain": [
       "<Figure size 432x288 with 1 Axes>"
      ]
     },
     "metadata": {
      "needs_background": "light"
     },
     "output_type": "display_data"
    }
   ],
   "source": [
    "# Find wind speed for northern latitudes\n",
    "n_wind = northern_data['Wind Speed']\n",
    "\n",
    "# Plot scatter plot with linear regression line\n",
    "plt.scatter(northern_latitude,n_wind)\n",
    "plt.xlabel('Latitude')\n",
    "plt.ylabel('Wind Speed')\n",
    "slope, int, rvalue = linregress(northern_latitude,n_wind)[0:3]\n",
    "line = slope * northern_latitude + int\n",
    "plt.plot(northern_latitude,line)\n",
    "\n",
    "# Print R value\n",
    "print(f'The r-value is: {rvalue}')\n",
    "\n",
    "# Add text\n",
    "line_eq = f'y = {round(slope,2)}x + {round(int,2)}'\n",
    "plt.annotate(line_eq,(10,16),fontsize=15,color=\"red\")\n",
    "plt.show()"
   ]
  },
  {
   "cell_type": "code",
   "execution_count": null,
   "id": "c7bbc250",
   "metadata": {},
   "outputs": [],
   "source": [
    "# There is very weak correlation between latitude and wind speed"
   ]
  },
  {
   "cell_type": "markdown",
   "id": "c779a9b9",
   "metadata": {},
   "source": [
    "####  Southern Hemisphere - Wind Speed (mph) vs. Latitude Linear Regression"
   ]
  },
  {
   "cell_type": "code",
   "execution_count": 23,
   "id": "ebc7f41c",
   "metadata": {},
   "outputs": [
    {
     "name": "stdout",
     "output_type": "stream",
     "text": [
      "The r-value is: -0.0910938656498047\n"
     ]
    },
    {
     "data": {
      "image/png": "[encoded data removed]",
      "text/plain": [
       "<Figure size 432x288 with 1 Axes>"
      ]
     },
     "metadata": {
      "needs_background": "light"
     },
     "output_type": "display_data"
    }
   ],
   "source": [
    "# Find wind speed for southern latitudes\n",
    "s_wind = southern_data['Wind Speed']\n",
    "\n",
    "# Plot scatter plot with linear regression line\n",
    "plt.scatter(southern_latitude,s_wind)\n",
    "plt.xlabel('Latitude')\n",
    "plt.ylabel('Wind Speed')\n",
    "slope, int, rvalue = linregress(southern_latitude,s_wind)[0:3]\n",
    "line = slope * southern_latitude + int\n",
    "plt.plot(southern_latitude,line,\"--\")\n",
    "\n",
    "# Print R value\n",
    "print(f'The r-value is: {rvalue}')\n",
    "\n",
    "# Add text\n",
    "line_eq = f'y = {round(slope,2)}x + {round(int,2)}'\n",
    "plt.annotate(line_eq,(-55,20),fontsize=15,color=\"red\")\n",
    "plt.show()"
   ]
  },
  {
   "cell_type": "code",
   "execution_count": null,
   "id": "75c7f19f",
   "metadata": {},
   "outputs": [],
   "source": [
    "# There is very weak correlation between latitude and wind speed"
   ]
  }
 ],
 "metadata": {
  "kernelspec": {
   "display_name": "Python 3",
   "language": "python",
   "name": "python3"
  },
  "language_info": {
   "codemirror_mode": {
    "name": "ipython",
    "version": 3
   },
   "file_extension": ".py",
   "mimetype": "text/x-python",
   "name": "python",
   "nbconvert_exporter": "python",
   "pygments_lexer": "ipython3",
   "version": "3.8.8"
  }
 },
 "nbformat": 4,
 "nbformat_minor": 5
}
